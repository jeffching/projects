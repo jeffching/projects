{
 "cells": [
  {
   "cell_type": "markdown",
   "id": "8kDDmnNbe8ww",
   "metadata": {
    "id": "8kDDmnNbe8ww"
   },
   "source": [
    "*Jeffrey Ching - Application Case Study - Predicting Future Hotel Booking Cancellations*"
   ]
  },
  {
   "cell_type": "markdown",
   "id": "C3Z2IoXoXbJ_",
   "metadata": {
    "id": "C3Z2IoXoXbJ_"
   },
   "source": [
    "# **Business Context and Problem Definition**"
   ]
  },
  {
   "cell_type": "markdown",
   "id": "dense-medicaid",
   "metadata": {
    "id": "dense-medicaid"
   },
   "source": [
    "## Business Context\n",
    "\n",
    "With the increasing popularity and ease-of-access of online hotel booking platforms, customers tend to make reservations in advance to avoid any last minute rush and higher prices. These online platforms offer flexible cancellation options, in some cases even a day before reservation. To compete with this, even offline bookings have increased the flexibility in cancellations. This has led to an increase in the growing number of cancellations, with one of the primary reasons being last-minute changes in travel plans. These sudden changes can result from unforeseen circumstances, such as personal emergencies, flight delays, or unexpected events at the travel destination.\n",
    "\n",
    "Hotel booking cancellations becomes a crucial problem to solve as it leads to revenue loss and operational inefficiencies. The cancellation of bookings impacts a hotel on various fronts:\n",
    "\n",
    "1. Loss of revenue when the hotel cannot resell the room\n",
    "\n",
    "2. Additional costs of distribution channels by increasing commissions or paying for publicity to help sell these rooms\n",
    "\n",
    "3. Lowering prices last minute, so the hotel can resell a room, resulting in reduced profit margins"
   ]
  },
  {
   "cell_type": "markdown",
   "id": "RkjASpFDeR4m",
   "metadata": {
    "id": "RkjASpFDeR4m"
   },
   "source": [
    "## Problem Definition\n",
    "\n",
    "The INN Hotels Group have been contending with the challenge of rising cancellations for nearly a year now. However, the last three months have seen a rise of inventory loss (bookings) due to cancellations rising to an all-time high of 18% and has led to a jump in the **revenue loss to an all-time high of approx. \\$0.25 million annually**. This has significantly impacted INN Hotels Group's profit margins.\n",
    " \n",
    "The group has been using heuristic mechanisms (rule and domain expert based) to try and reduce the revenue loss due to cancellations, but this hasn't been effective so far, neither efficient nor scalable, as evident from the magnitude of losses they are incurring.\n",
    "\n",
    "The group has decided that they need a more data-driven solution to predict the likelihood of a booking being cancelled as they expect it to be more effective than their current mechanism. They hope that this proactive approach will help them to significantly minimize revenue loss and improve operational efficiency.\n",
    "\n",
    "The group is looking for a data science backed solution that will help them predict the likelihood of a booking getting cancelled so that they can take measures to fill in potential vacancies.\n"
   ]
  },
  {
   "cell_type": "markdown",
   "id": "IBWBQA-OBrxj",
   "metadata": {
    "id": "IBWBQA-OBrxj"
   },
   "source": [
    "# **Data Gathering**\n"
   ]
  },
  {
   "cell_type": "markdown",
   "id": "tqfNqaJCQeEE",
   "metadata": {
    "id": "tqfNqaJCQeEE"
   },
   "source": [
    "## Importing the necessary libraries"
   ]
  },
  {
   "cell_type": "code",
   "execution_count": 1,
   "id": "proper-calgary",
   "metadata": {
    "executionInfo": {
     "elapsed": 4754,
     "status": "ok",
     "timestamp": 1726508578074,
     "user": {
      "displayName": "Jeffrey Ching",
      "userId": "04804701206017404210"
     },
     "user_tz": 240
    },
    "id": "proper-calgary"
   },
   "outputs": [],
   "source": [
    "# libraries to help with reading and manipulating data\n",
    "import pandas as pd\n",
    "import numpy as np\n",
    "\n",
    "# libraries to deploy the ML model\n",
    "import os\n",
    "import joblib\n",
    "import gradio as gr\n",
    "\n",
    "# libaries to help with data visualization\n",
    "import matplotlib.pyplot as plt\n",
    "import seaborn as sns\n",
    "import seaborn.objects as so\n",
    "\n",
    "# removing the limit for the number of displayed columns\n",
    "pd.set_option(\"display.max_columns\", None)\n",
    "# setting the limit for the number of displayed rows\n",
    "pd.set_option(\"display.max_rows\", 200)\n",
    "# setting the precision of floating numbers to 2 decimal points\n",
    "pd.set_option(\"display.float_format\", lambda x: \"%.2f\" % x)\n",
    "\n",
    "# library to split data\n",
    "from sklearn.model_selection import train_test_split\n",
    "\n",
    "# library to build ML model\n",
    "from sklearn.tree import DecisionTreeClassifier\n",
    "\n",
    "# library to tune ML model\n",
    "from sklearn.model_selection import GridSearchCV\n",
    "\n",
    "from sklearn.metrics import (\n",
    "    f1_score,\n",
    "    accuracy_score,\n",
    "    recall_score,\n",
    "    precision_score,\n",
    "    confusion_matrix,\n",
    "    roc_auc_score,\n",
    "    ConfusionMatrixDisplay,\n",
    ")\n",
    "\n",
    "# libraries to evaluate the ML model\n",
    "from sklearn.metrics import f1_score, make_scorer"
   ]
  },
  {
   "cell_type": "markdown",
   "id": "fantastic-rebel",
   "metadata": {
    "id": "fantastic-rebel"
   },
   "source": [
    "## Loading the dataset"
   ]
  },
  {
   "cell_type": "code",
   "execution_count": 2,
   "id": "2HilxH_z6ErA",
   "metadata": {
    "colab": {
     "base_uri": "https://localhost:8080/"
    },
    "executionInfo": {
     "elapsed": 1578,
     "status": "ok",
     "timestamp": 1726508904226,
     "user": {
      "displayName": "Jeffrey Ching",
      "userId": "04804701206017404210"
     },
     "user_tz": 240
    },
    "id": "2HilxH_z6ErA",
    "outputId": "be39d1e9-85c9-4bb7-9f9d-f6e22f38f416"
   },
   "outputs": [],
   "source": [
    "# load dataset\n",
    "path = \"datasets/\"\n",
    "# The sample data was obtained by taking specific attributes from website data, agencies data, and property data and collating them together\n",
    "hotel = pd.read_csv(path + \"INNHotelsGroup.csv\")"
   ]
  },
  {
   "cell_type": "code",
   "execution_count": 3,
   "id": "mA0Quj1D5sSj",
   "metadata": {
    "colab": {
     "base_uri": "https://localhost:8080/",
     "height": 379
    },
    "executionInfo": {
     "elapsed": 147,
     "status": "ok",
     "timestamp": 1726508908345,
     "user": {
      "displayName": "Jeffrey Ching",
      "userId": "04804701206017404210"
     },
     "user_tz": 240
    },
    "id": "mA0Quj1D5sSj",
    "outputId": "fbb6eed7-2ac0-4e44-b48c-bac8d55bc8e3"
   },
   "outputs": [
    {
     "data": {
      "text/html": [
       "<div>\n",
       "<style scoped>\n",
       "    .dataframe tbody tr th:only-of-type {\n",
       "        vertical-align: middle;\n",
       "    }\n",
       "\n",
       "    .dataframe tbody tr th {\n",
       "        vertical-align: top;\n",
       "    }\n",
       "\n",
       "    .dataframe thead th {\n",
       "        text-align: right;\n",
       "    }\n",
       "</style>\n",
       "<table border=\"1\" class=\"dataframe\">\n",
       "  <thead>\n",
       "    <tr style=\"text-align: right;\">\n",
       "      <th></th>\n",
       "      <th>lead_time</th>\n",
       "      <th>market_segment_type</th>\n",
       "      <th>no_of_special_requests</th>\n",
       "      <th>avg_price_per_room</th>\n",
       "      <th>no_of_adults</th>\n",
       "      <th>no_of_weekend_nights</th>\n",
       "      <th>arrival_date</th>\n",
       "      <th>required_car_parking_space</th>\n",
       "      <th>no_of_week_nights</th>\n",
       "      <th>booking_status</th>\n",
       "    </tr>\n",
       "  </thead>\n",
       "  <tbody>\n",
       "    <tr>\n",
       "      <th>18212</th>\n",
       "      <td>103</td>\n",
       "      <td>Offline</td>\n",
       "      <td>0</td>\n",
       "      <td>115.00</td>\n",
       "      <td>1</td>\n",
       "      <td>0</td>\n",
       "      <td>2018-04-19</td>\n",
       "      <td>0</td>\n",
       "      <td>2</td>\n",
       "      <td>Canceled</td>\n",
       "    </tr>\n",
       "    <tr>\n",
       "      <th>3267</th>\n",
       "      <td>86</td>\n",
       "      <td>Online</td>\n",
       "      <td>2</td>\n",
       "      <td>90.00</td>\n",
       "      <td>2</td>\n",
       "      <td>1</td>\n",
       "      <td>2018-11-04</td>\n",
       "      <td>0</td>\n",
       "      <td>2</td>\n",
       "      <td>Not_Canceled</td>\n",
       "    </tr>\n",
       "    <tr>\n",
       "      <th>28472</th>\n",
       "      <td>20</td>\n",
       "      <td>Online</td>\n",
       "      <td>1</td>\n",
       "      <td>92.67</td>\n",
       "      <td>2</td>\n",
       "      <td>1</td>\n",
       "      <td>2018-12-09</td>\n",
       "      <td>0</td>\n",
       "      <td>2</td>\n",
       "      <td>Not_Canceled</td>\n",
       "    </tr>\n",
       "    <tr>\n",
       "      <th>34178</th>\n",
       "      <td>22</td>\n",
       "      <td>Online</td>\n",
       "      <td>1</td>\n",
       "      <td>126.04</td>\n",
       "      <td>2</td>\n",
       "      <td>4</td>\n",
       "      <td>2018-12-28</td>\n",
       "      <td>0</td>\n",
       "      <td>10</td>\n",
       "      <td>Not_Canceled</td>\n",
       "    </tr>\n",
       "    <tr>\n",
       "      <th>35404</th>\n",
       "      <td>109</td>\n",
       "      <td>Online</td>\n",
       "      <td>4</td>\n",
       "      <td>105.21</td>\n",
       "      <td>2</td>\n",
       "      <td>2</td>\n",
       "      <td>2018-07-06</td>\n",
       "      <td>0</td>\n",
       "      <td>4</td>\n",
       "      <td>Not_Canceled</td>\n",
       "    </tr>\n",
       "    <tr>\n",
       "      <th>31551</th>\n",
       "      <td>30</td>\n",
       "      <td>Offline</td>\n",
       "      <td>0</td>\n",
       "      <td>127.15</td>\n",
       "      <td>1</td>\n",
       "      <td>0</td>\n",
       "      <td>2018-10-28</td>\n",
       "      <td>0</td>\n",
       "      <td>1</td>\n",
       "      <td>Not_Canceled</td>\n",
       "    </tr>\n",
       "    <tr>\n",
       "      <th>30927</th>\n",
       "      <td>192</td>\n",
       "      <td>Offline</td>\n",
       "      <td>0</td>\n",
       "      <td>100.00</td>\n",
       "      <td>2</td>\n",
       "      <td>0</td>\n",
       "      <td>2018-08-25</td>\n",
       "      <td>0</td>\n",
       "      <td>3</td>\n",
       "      <td>Not_Canceled</td>\n",
       "    </tr>\n",
       "    <tr>\n",
       "      <th>30473</th>\n",
       "      <td>278</td>\n",
       "      <td>Online</td>\n",
       "      <td>0</td>\n",
       "      <td>103.95</td>\n",
       "      <td>2</td>\n",
       "      <td>2</td>\n",
       "      <td>2018-07-16</td>\n",
       "      <td>1</td>\n",
       "      <td>1</td>\n",
       "      <td>Canceled</td>\n",
       "    </tr>\n",
       "    <tr>\n",
       "      <th>27445</th>\n",
       "      <td>0</td>\n",
       "      <td>Online</td>\n",
       "      <td>0</td>\n",
       "      <td>85.93</td>\n",
       "      <td>1</td>\n",
       "      <td>0</td>\n",
       "      <td>2018-05-12</td>\n",
       "      <td>0</td>\n",
       "      <td>1</td>\n",
       "      <td>Not_Canceled</td>\n",
       "    </tr>\n",
       "    <tr>\n",
       "      <th>33154</th>\n",
       "      <td>37</td>\n",
       "      <td>Online</td>\n",
       "      <td>1</td>\n",
       "      <td>92.31</td>\n",
       "      <td>1</td>\n",
       "      <td>4</td>\n",
       "      <td>2018-12-15</td>\n",
       "      <td>0</td>\n",
       "      <td>9</td>\n",
       "      <td>Canceled</td>\n",
       "    </tr>\n",
       "  </tbody>\n",
       "</table>\n",
       "</div>"
      ],
      "text/plain": [
       "       lead_time market_segment_type  no_of_special_requests  \\\n",
       "18212        103             Offline                       0   \n",
       "3267          86              Online                       2   \n",
       "28472         20              Online                       1   \n",
       "34178         22              Online                       1   \n",
       "35404        109              Online                       4   \n",
       "31551         30             Offline                       0   \n",
       "30927        192             Offline                       0   \n",
       "30473        278              Online                       0   \n",
       "27445          0              Online                       0   \n",
       "33154         37              Online                       1   \n",
       "\n",
       "       avg_price_per_room  no_of_adults  no_of_weekend_nights arrival_date  \\\n",
       "18212              115.00             1                     0   2018-04-19   \n",
       "3267                90.00             2                     1   2018-11-04   \n",
       "28472               92.67             2                     1   2018-12-09   \n",
       "34178              126.04             2                     4   2018-12-28   \n",
       "35404              105.21             2                     2   2018-07-06   \n",
       "31551              127.15             1                     0   2018-10-28   \n",
       "30927              100.00             2                     0   2018-08-25   \n",
       "30473              103.95             2                     2   2018-07-16   \n",
       "27445               85.93             1                     0   2018-05-12   \n",
       "33154               92.31             1                     4   2018-12-15   \n",
       "\n",
       "       required_car_parking_space  no_of_week_nights booking_status  \n",
       "18212                           0                  2       Canceled  \n",
       "3267                            0                  2   Not_Canceled  \n",
       "28472                           0                  2   Not_Canceled  \n",
       "34178                           0                 10   Not_Canceled  \n",
       "35404                           0                  4   Not_Canceled  \n",
       "31551                           0                  1   Not_Canceled  \n",
       "30927                           0                  3   Not_Canceled  \n",
       "30473                           1                  1       Canceled  \n",
       "27445                           0                  1   Not_Canceled  \n",
       "33154                           0                  9       Canceled  "
      ]
     },
     "execution_count": 3,
     "metadata": {},
     "output_type": "execute_result"
    }
   ],
   "source": [
    "hotel.sample(10, random_state=10)"
   ]
  },
  {
   "cell_type": "code",
   "execution_count": 4,
   "id": "6b555fe0-d36f-4c08-913c-91f3968febb0",
   "metadata": {},
   "outputs": [
    {
     "name": "stdout",
     "output_type": "stream",
     "text": [
      "lead_time                       int64\n",
      "market_segment_type            object\n",
      "no_of_special_requests          int64\n",
      "avg_price_per_room            float64\n",
      "no_of_adults                    int64\n",
      "no_of_weekend_nights            int64\n",
      "arrival_date                   object\n",
      "required_car_parking_space      int64\n",
      "no_of_week_nights               int64\n",
      "booking_status                 object\n",
      "dtype: object\n"
     ]
    }
   ],
   "source": [
    "print(hotel.dtypes)"
   ]
  },
  {
   "cell_type": "code",
   "execution_count": 5,
   "id": "5lkeLEu_H083",
   "metadata": {
    "colab": {
     "base_uri": "https://localhost:8080/"
    },
    "executionInfo": {
     "elapsed": 960,
     "status": "ok",
     "timestamp": 1726511924958,
     "user": {
      "displayName": "Jeffrey Ching",
      "userId": "04804701206017404210"
     },
     "user_tz": 240
    },
    "id": "5lkeLEu_H083",
    "outputId": "a50d647f-88f7-4cf8-bf0c-0d3895e2c6c2"
   },
   "outputs": [
    {
     "name": "stdout",
     "output_type": "stream",
     "text": [
      "2017-07-01 00:00:00\n",
      "2018-12-31 00:00:00\n"
     ]
    }
   ],
   "source": [
    "print(min(pd.to_datetime(hotel.arrival_date)))\n",
    "print(max(pd.to_datetime(hotel.arrival_date)))"
   ]
  },
  {
   "cell_type": "markdown",
   "id": "Vmf3CHQXIX1v",
   "metadata": {
    "id": "Vmf3CHQXIX1v"
   },
   "source": [
    "* This dataset consists 1.5 years of booking data for the INN Hotels Group from second half of 2017 to the full 2018 year."
   ]
  },
  {
   "cell_type": "markdown",
   "id": "9h1fiVAvVLsJ",
   "metadata": {
    "id": "9h1fiVAvVLsJ"
   },
   "source": [
    "# **Exploratory Data Analysis**\n"
   ]
  },
  {
   "cell_type": "code",
   "execution_count": 6,
   "id": "HngQJECtVCrQ",
   "metadata": {
    "executionInfo": {
     "elapsed": 160,
     "status": "ok",
     "timestamp": 1726509698158,
     "user": {
      "displayName": "Jeffrey Ching",
      "userId": "04804701206017404210"
     },
     "user_tz": 240
    },
    "id": "HngQJECtVCrQ"
   },
   "outputs": [],
   "source": [
    "data = hotel.copy()"
   ]
  },
  {
   "cell_type": "code",
   "execution_count": 7,
   "id": "backed-solution",
   "metadata": {
    "colab": {
     "base_uri": "https://localhost:8080/",
     "height": 266
    },
    "executionInfo": {
     "elapsed": 300,
     "status": "ok",
     "timestamp": 1726509700318,
     "user": {
      "displayName": "Jeffrey Ching",
      "userId": "04804701206017404210"
     },
     "user_tz": 240
    },
    "id": "backed-solution",
    "outputId": "ae3f5a6e-aa30-4fdc-81a3-96accd34c840"
   },
   "outputs": [
    {
     "data": {
      "text/html": [
       "<div>\n",
       "<style scoped>\n",
       "    .dataframe tbody tr th:only-of-type {\n",
       "        vertical-align: middle;\n",
       "    }\n",
       "\n",
       "    .dataframe tbody tr th {\n",
       "        vertical-align: top;\n",
       "    }\n",
       "\n",
       "    .dataframe thead th {\n",
       "        text-align: right;\n",
       "    }\n",
       "</style>\n",
       "<table border=\"1\" class=\"dataframe\">\n",
       "  <thead>\n",
       "    <tr style=\"text-align: right;\">\n",
       "      <th></th>\n",
       "      <th>count</th>\n",
       "      <th>mean</th>\n",
       "      <th>std</th>\n",
       "      <th>min</th>\n",
       "      <th>25%</th>\n",
       "      <th>50%</th>\n",
       "      <th>75%</th>\n",
       "      <th>max</th>\n",
       "    </tr>\n",
       "  </thead>\n",
       "  <tbody>\n",
       "    <tr>\n",
       "      <th>lead_time</th>\n",
       "      <td>36275.00</td>\n",
       "      <td>85.23</td>\n",
       "      <td>85.93</td>\n",
       "      <td>0.00</td>\n",
       "      <td>17.00</td>\n",
       "      <td>57.00</td>\n",
       "      <td>126.00</td>\n",
       "      <td>443.00</td>\n",
       "    </tr>\n",
       "    <tr>\n",
       "      <th>no_of_special_requests</th>\n",
       "      <td>36275.00</td>\n",
       "      <td>0.62</td>\n",
       "      <td>0.79</td>\n",
       "      <td>0.00</td>\n",
       "      <td>0.00</td>\n",
       "      <td>0.00</td>\n",
       "      <td>1.00</td>\n",
       "      <td>5.00</td>\n",
       "    </tr>\n",
       "    <tr>\n",
       "      <th>avg_price_per_room</th>\n",
       "      <td>36275.00</td>\n",
       "      <td>103.42</td>\n",
       "      <td>35.09</td>\n",
       "      <td>0.00</td>\n",
       "      <td>80.30</td>\n",
       "      <td>99.45</td>\n",
       "      <td>120.00</td>\n",
       "      <td>540.00</td>\n",
       "    </tr>\n",
       "    <tr>\n",
       "      <th>no_of_adults</th>\n",
       "      <td>36275.00</td>\n",
       "      <td>1.84</td>\n",
       "      <td>0.52</td>\n",
       "      <td>0.00</td>\n",
       "      <td>2.00</td>\n",
       "      <td>2.00</td>\n",
       "      <td>2.00</td>\n",
       "      <td>4.00</td>\n",
       "    </tr>\n",
       "    <tr>\n",
       "      <th>no_of_weekend_nights</th>\n",
       "      <td>36275.00</td>\n",
       "      <td>0.81</td>\n",
       "      <td>0.87</td>\n",
       "      <td>0.00</td>\n",
       "      <td>0.00</td>\n",
       "      <td>1.00</td>\n",
       "      <td>2.00</td>\n",
       "      <td>7.00</td>\n",
       "    </tr>\n",
       "    <tr>\n",
       "      <th>required_car_parking_space</th>\n",
       "      <td>36275.00</td>\n",
       "      <td>0.03</td>\n",
       "      <td>0.17</td>\n",
       "      <td>0.00</td>\n",
       "      <td>0.00</td>\n",
       "      <td>0.00</td>\n",
       "      <td>0.00</td>\n",
       "      <td>1.00</td>\n",
       "    </tr>\n",
       "    <tr>\n",
       "      <th>no_of_week_nights</th>\n",
       "      <td>36275.00</td>\n",
       "      <td>2.20</td>\n",
       "      <td>1.41</td>\n",
       "      <td>0.00</td>\n",
       "      <td>1.00</td>\n",
       "      <td>2.00</td>\n",
       "      <td>3.00</td>\n",
       "      <td>17.00</td>\n",
       "    </tr>\n",
       "  </tbody>\n",
       "</table>\n",
       "</div>"
      ],
      "text/plain": [
       "                              count   mean   std  min   25%   50%    75%  \\\n",
       "lead_time                  36275.00  85.23 85.93 0.00 17.00 57.00 126.00   \n",
       "no_of_special_requests     36275.00   0.62  0.79 0.00  0.00  0.00   1.00   \n",
       "avg_price_per_room         36275.00 103.42 35.09 0.00 80.30 99.45 120.00   \n",
       "no_of_adults               36275.00   1.84  0.52 0.00  2.00  2.00   2.00   \n",
       "no_of_weekend_nights       36275.00   0.81  0.87 0.00  0.00  1.00   2.00   \n",
       "required_car_parking_space 36275.00   0.03  0.17 0.00  0.00  0.00   0.00   \n",
       "no_of_week_nights          36275.00   2.20  1.41 0.00  1.00  2.00   3.00   \n",
       "\n",
       "                              max  \n",
       "lead_time                  443.00  \n",
       "no_of_special_requests       5.00  \n",
       "avg_price_per_room         540.00  \n",
       "no_of_adults                 4.00  \n",
       "no_of_weekend_nights         7.00  \n",
       "required_car_parking_space   1.00  \n",
       "no_of_week_nights           17.00  "
      ]
     },
     "execution_count": 7,
     "metadata": {},
     "output_type": "execute_result"
    }
   ],
   "source": [
    "# checking the statistical summary of the data\n",
    "data.describe().T"
   ]
  },
  {
   "cell_type": "markdown",
   "id": "personal-detector",
   "metadata": {
    "id": "personal-detector"
   },
   "source": [
    "* The number of adults (no_of_adults) ranges from 0 to 4, which is usual.\n",
    "* The range of the number of weeknights and weekend nights for hotel stays seems fine. Though 7 weekends might be a very long stay.\n",
    "* At least 75% of the customers do not require car parking space.\n",
    "* On average, customers book 85 days in advance (_lead_time_). There is also a very large difference in the 75th percentile (126) and maximum value (443 days) for the lead time which indicates there might be outliers present.\n",
    "* The average price per room is 103 euros. There is a very large difference between the 75th percentile (120) and the maximum value (540) which indicates there might be outliers present."
   ]
  },
  {
   "cell_type": "code",
   "execution_count": 8,
   "id": "89b785c2-1136-48b8-af53-ae2537e84c4d",
   "metadata": {},
   "outputs": [],
   "source": [
    "# function to create a barplot with percent\n",
    "def count_plot(data, column):\n",
    "    total = data[column].count()\n",
    "    ax = sns.countplot(data,x=column,hue=column)\n",
    "    for c in ax.containers:\n",
    "        ax.bar_label(c, fmt=lambda x: f'{(x/total)*100:0.1f}%')\n",
    "    plt.show()"
   ]
  },
  {
   "cell_type": "code",
   "execution_count": 9,
   "id": "5ee47e8d-c450-4fa8-b917-668ae82e1723",
   "metadata": {},
   "outputs": [
    {
     "data": {
      "image/png": "[encoded data removed]",
      "text/plain": [
       "<Figure size 640x480 with 1 Axes>"
      ]
     },
     "metadata": {},
     "output_type": "display_data"
    }
   ],
   "source": [
    "count_plot(data,\"booking_status\")"
   ]
  },
  {
   "cell_type": "markdown",
   "id": "quantitative-fetish",
   "metadata": {
    "id": "quantitative-fetish"
   },
   "source": [
    "- Approximately one-third of bookings were canceled."
   ]
  },
  {
   "cell_type": "code",
   "execution_count": 10,
   "id": "animal-depth",
   "metadata": {
    "colab": {
     "base_uri": "https://localhost:8080/",
     "height": 207
    },
    "executionInfo": {
     "elapsed": 235,
     "status": "error",
     "timestamp": 1726677785869,
     "user": {
      "displayName": "Jeffrey Ching",
      "userId": "04804701206017404210"
     },
     "user_tz": 240
    },
    "id": "animal-depth",
    "outputId": "3ed7ff6a-adab-4073-b684-03e657a367fb"
   },
   "outputs": [
    {
     "data": {
      "image/png": "[encoded data removed]",
      "text/plain": [
       "<Figure size 640x480 with 1 Axes>"
      ]
     },
     "metadata": {},
     "output_type": "display_data"
    }
   ],
   "source": [
    "# visualize the relationship between lead time and booking cancellation\n",
    "sns.boxplot(data=data, x=\"lead_time\", y=\"booking_status\")\n",
    "plt.xlabel('Booking Status')\n",
    "plt.ylabel('Lead Time');"
   ]
  },
  {
   "cell_type": "markdown",
   "id": "advised-community",
   "metadata": {
    "id": "advised-community"
   },
   "source": [
    "* We observe that the higher the lead time, the higher the chances of cancellation."
   ]
  },
  {
   "cell_type": "code",
   "execution_count": 11,
   "id": "ejSIVQqougae",
   "metadata": {
    "colab": {
     "base_uri": "https://localhost:8080/",
     "height": 451
    },
    "executionInfo": {
     "elapsed": 782,
     "status": "ok",
     "timestamp": 1726513948244,
     "user": {
      "displayName": "Jeffrey Ching",
      "userId": "04804701206017404210"
     },
     "user_tz": 240
    },
    "id": "ejSIVQqougae",
    "outputId": "d7435049-a7b3-486f-d152-ad6c2998f198"
   },
   "outputs": [
    {
     "data": {
      "image/png": "[encoded data removed]",
      "text/plain": [
       "<Figure size 640x480 with 1 Axes>"
      ]
     },
     "metadata": {},
     "output_type": "display_data"
    }
   ],
   "source": [
    "# visualize the relationship between avg room price and booking cancellation\n",
    "# plt.figure(figsize=(8, 5))\n",
    "sns.boxplot(data=data, x=\"avg_price_per_room\", y=\"booking_status\")\n",
    "plt.xlabel('Avg Price per Room')\n",
    "plt.ylabel('Booking Status');"
   ]
  },
  {
   "cell_type": "code",
   "execution_count": 12,
   "id": "167ce206-9695-4162-8820-87a6a9b38181",
   "metadata": {},
   "outputs": [
    {
     "data": {
      "text/html": [
       "<div>\n",
       "<style scoped>\n",
       "    .dataframe tbody tr th:only-of-type {\n",
       "        vertical-align: middle;\n",
       "    }\n",
       "\n",
       "    .dataframe tbody tr th {\n",
       "        vertical-align: top;\n",
       "    }\n",
       "\n",
       "    .dataframe thead th {\n",
       "        text-align: right;\n",
       "    }\n",
       "</style>\n",
       "<table border=\"1\" class=\"dataframe\">\n",
       "  <thead>\n",
       "    <tr style=\"text-align: right;\">\n",
       "      <th>booking_status</th>\n",
       "      <th>Canceled</th>\n",
       "      <th>Not_Canceled</th>\n",
       "    </tr>\n",
       "    <tr>\n",
       "      <th>avg_price_per_room</th>\n",
       "      <th></th>\n",
       "      <th></th>\n",
       "    </tr>\n",
       "  </thead>\n",
       "  <tbody>\n",
       "    <tr>\n",
       "      <th>(-0.54, 90.0]</th>\n",
       "      <td>0.23</td>\n",
       "      <td>0.77</td>\n",
       "    </tr>\n",
       "    <tr>\n",
       "      <th>(90.0, 180.0]</th>\n",
       "      <td>0.39</td>\n",
       "      <td>0.61</td>\n",
       "    </tr>\n",
       "    <tr>\n",
       "      <th>(180.0, 270.0]</th>\n",
       "      <td>0.38</td>\n",
       "      <td>0.62</td>\n",
       "    </tr>\n",
       "    <tr>\n",
       "      <th>(270.0, 360.0]</th>\n",
       "      <td>0.43</td>\n",
       "      <td>0.57</td>\n",
       "    </tr>\n",
       "    <tr>\n",
       "      <th>(360.0, 450.0]</th>\n",
       "      <td>0.50</td>\n",
       "      <td>0.50</td>\n",
       "    </tr>\n",
       "    <tr>\n",
       "      <th>(450.0, 540.0]</th>\n",
       "      <td>1.00</td>\n",
       "      <td>0.00</td>\n",
       "    </tr>\n",
       "  </tbody>\n",
       "</table>\n",
       "</div>"
      ],
      "text/plain": [
       "booking_status      Canceled  Not_Canceled\n",
       "avg_price_per_room                        \n",
       "(-0.54, 90.0]           0.23          0.77\n",
       "(90.0, 180.0]           0.39          0.61\n",
       "(180.0, 270.0]          0.38          0.62\n",
       "(270.0, 360.0]          0.43          0.57\n",
       "(360.0, 450.0]          0.50          0.50\n",
       "(450.0, 540.0]          1.00          0.00"
      ]
     },
     "execution_count": 12,
     "metadata": {},
     "output_type": "execute_result"
    }
   ],
   "source": [
    "# we can bucket the rooms to see if price differences substantially make a difference in cancellation ratios\n",
    "avg_price_per_room_bucketed = pd.cut(data[\"avg_price_per_room\"],6)\n",
    "pd.crosstab(avg_price_per_room_bucketed, data[\"booking_status\"], normalize=\"index\")"
   ]
  },
  {
   "cell_type": "markdown",
   "id": "isCnq8gRu2pg",
   "metadata": {
    "id": "isCnq8gRu2pg"
   },
   "source": [
    "- The box plot shows booking status marginally varies with the average price per room at around \\\\$100 per room with the average price per room of cancelled rooms is just slightly higher than uncancelled rooms.\n",
    "- We see that rooms are more likely to be cancelled above starting around \\\\$270 per room."
   ]
  },
  {
   "cell_type": "code",
   "execution_count": 13,
   "id": "5e18bc07-734a-47bd-ad15-d209373f123d",
   "metadata": {},
   "outputs": [
    {
     "data": {
      "image/png": "[encoded data removed]",
      "text/plain": [
       "<seaborn._core.plot.Plot at 0x15e44fb90>"
      ]
     },
     "execution_count": 13,
     "metadata": {
      "image/png": {
       "height": 378.25,
       "width": 643.4499999999999
      }
     },
     "output_type": "execute_result"
    }
   ],
   "source": [
    "# Visualize the percent volume of bookings cancelled vs not cancelled based on online or offline segments\n",
    "so.Plot(data, x=\"market_segment_type\", color=\"booking_status\").add(so.Bar(), so.Count(), so.Stack())"
   ]
  },
  {
   "cell_type": "code",
   "execution_count": 14,
   "id": "2a4f32ab-0142-4738-af6f-fe754f492610",
   "metadata": {},
   "outputs": [
    {
     "data": {
      "text/html": [
       "<div>\n",
       "<style scoped>\n",
       "    .dataframe tbody tr th:only-of-type {\n",
       "        vertical-align: middle;\n",
       "    }\n",
       "\n",
       "    .dataframe tbody tr th {\n",
       "        vertical-align: top;\n",
       "    }\n",
       "\n",
       "    .dataframe thead th {\n",
       "        text-align: right;\n",
       "    }\n",
       "</style>\n",
       "<table border=\"1\" class=\"dataframe\">\n",
       "  <thead>\n",
       "    <tr style=\"text-align: right;\">\n",
       "      <th>booking_status</th>\n",
       "      <th>Canceled</th>\n",
       "      <th>Not_Canceled</th>\n",
       "    </tr>\n",
       "    <tr>\n",
       "      <th>market_segment_type</th>\n",
       "      <th></th>\n",
       "      <th></th>\n",
       "    </tr>\n",
       "  </thead>\n",
       "  <tbody>\n",
       "    <tr>\n",
       "      <th>Offline</th>\n",
       "      <td>0.30</td>\n",
       "      <td>0.70</td>\n",
       "    </tr>\n",
       "    <tr>\n",
       "      <th>Online</th>\n",
       "      <td>0.34</td>\n",
       "      <td>0.66</td>\n",
       "    </tr>\n",
       "  </tbody>\n",
       "</table>\n",
       "</div>"
      ],
      "text/plain": [
       "booking_status       Canceled  Not_Canceled\n",
       "market_segment_type                        \n",
       "Offline                  0.30          0.70\n",
       "Online                   0.34          0.66"
      ]
     },
     "execution_count": 14,
     "metadata": {},
     "output_type": "execute_result"
    }
   ],
   "source": [
    "pd.crosstab(data[\"market_segment_type\"], data[\"booking_status\"], normalize=\"index\")"
   ]
  },
  {
   "cell_type": "markdown",
   "id": "cutting-cleanup",
   "metadata": {
    "id": "cutting-cleanup"
   },
   "source": [
    "* Offline bookings have witnessed a slightly lower rate of cancellation compared to online bookings (4%)\n",
    "* However we see a much greater number of bookings are made online than offline which indicates an opportunity to improve the volume of direct bookings offline."
   ]
  },
  {
   "cell_type": "code",
   "execution_count": 15,
   "id": "AiI8k4GiOeG6",
   "metadata": {
    "colab": {
     "base_uri": "https://localhost:8080/",
     "height": 607
    },
    "executionInfo": {
     "elapsed": 287,
     "status": "ok",
     "timestamp": 1726517381108,
     "user": {
      "displayName": "Jeffrey Ching",
      "userId": "04804701206017404210"
     },
     "user_tz": 240
    },
    "id": "AiI8k4GiOeG6",
    "outputId": "36169fd4-0069-462d-a3e5-f2996f088792"
   },
   "outputs": [
    {
     "data": {
      "text/html": [
       "<div>\n",
       "<style scoped>\n",
       "    .dataframe tbody tr th:only-of-type {\n",
       "        vertical-align: middle;\n",
       "    }\n",
       "\n",
       "    .dataframe tbody tr th {\n",
       "        vertical-align: top;\n",
       "    }\n",
       "\n",
       "    .dataframe thead th {\n",
       "        text-align: right;\n",
       "    }\n",
       "</style>\n",
       "<table border=\"1\" class=\"dataframe\">\n",
       "  <thead>\n",
       "    <tr style=\"text-align: right;\">\n",
       "      <th></th>\n",
       "      <th>Year</th>\n",
       "      <th>Month</th>\n",
       "      <th>Bookings</th>\n",
       "    </tr>\n",
       "  </thead>\n",
       "  <tbody>\n",
       "    <tr>\n",
       "      <th>0</th>\n",
       "      <td>2017</td>\n",
       "      <td>7</td>\n",
       "      <td>363</td>\n",
       "    </tr>\n",
       "    <tr>\n",
       "      <th>1</th>\n",
       "      <td>2017</td>\n",
       "      <td>8</td>\n",
       "      <td>1014</td>\n",
       "    </tr>\n",
       "    <tr>\n",
       "      <th>2</th>\n",
       "      <td>2017</td>\n",
       "      <td>9</td>\n",
       "      <td>1649</td>\n",
       "    </tr>\n",
       "    <tr>\n",
       "      <th>3</th>\n",
       "      <td>2017</td>\n",
       "      <td>10</td>\n",
       "      <td>1913</td>\n",
       "    </tr>\n",
       "    <tr>\n",
       "      <th>4</th>\n",
       "      <td>2017</td>\n",
       "      <td>11</td>\n",
       "      <td>647</td>\n",
       "    </tr>\n",
       "    <tr>\n",
       "      <th>5</th>\n",
       "      <td>2017</td>\n",
       "      <td>12</td>\n",
       "      <td>928</td>\n",
       "    </tr>\n",
       "    <tr>\n",
       "      <th>6</th>\n",
       "      <td>2018</td>\n",
       "      <td>1</td>\n",
       "      <td>1014</td>\n",
       "    </tr>\n",
       "    <tr>\n",
       "      <th>7</th>\n",
       "      <td>2018</td>\n",
       "      <td>2</td>\n",
       "      <td>1704</td>\n",
       "    </tr>\n",
       "    <tr>\n",
       "      <th>8</th>\n",
       "      <td>2018</td>\n",
       "      <td>3</td>\n",
       "      <td>2358</td>\n",
       "    </tr>\n",
       "    <tr>\n",
       "      <th>9</th>\n",
       "      <td>2018</td>\n",
       "      <td>4</td>\n",
       "      <td>2736</td>\n",
       "    </tr>\n",
       "    <tr>\n",
       "      <th>10</th>\n",
       "      <td>2018</td>\n",
       "      <td>5</td>\n",
       "      <td>2598</td>\n",
       "    </tr>\n",
       "    <tr>\n",
       "      <th>11</th>\n",
       "      <td>2018</td>\n",
       "      <td>6</td>\n",
       "      <td>3203</td>\n",
       "    </tr>\n",
       "    <tr>\n",
       "      <th>12</th>\n",
       "      <td>2018</td>\n",
       "      <td>7</td>\n",
       "      <td>2557</td>\n",
       "    </tr>\n",
       "    <tr>\n",
       "      <th>13</th>\n",
       "      <td>2018</td>\n",
       "      <td>8</td>\n",
       "      <td>2799</td>\n",
       "    </tr>\n",
       "    <tr>\n",
       "      <th>14</th>\n",
       "      <td>2018</td>\n",
       "      <td>9</td>\n",
       "      <td>2962</td>\n",
       "    </tr>\n",
       "    <tr>\n",
       "      <th>15</th>\n",
       "      <td>2018</td>\n",
       "      <td>10</td>\n",
       "      <td>3404</td>\n",
       "    </tr>\n",
       "    <tr>\n",
       "      <th>16</th>\n",
       "      <td>2018</td>\n",
       "      <td>11</td>\n",
       "      <td>2333</td>\n",
       "    </tr>\n",
       "    <tr>\n",
       "      <th>17</th>\n",
       "      <td>2018</td>\n",
       "      <td>12</td>\n",
       "      <td>2093</td>\n",
       "    </tr>\n",
       "  </tbody>\n",
       "</table>\n",
       "</div>"
      ],
      "text/plain": [
       "    Year  Month  Bookings\n",
       "0   2017      7       363\n",
       "1   2017      8      1014\n",
       "2   2017      9      1649\n",
       "3   2017     10      1913\n",
       "4   2017     11       647\n",
       "5   2017     12       928\n",
       "6   2018      1      1014\n",
       "7   2018      2      1704\n",
       "8   2018      3      2358\n",
       "9   2018      4      2736\n",
       "10  2018      5      2598\n",
       "11  2018      6      3203\n",
       "12  2018      7      2557\n",
       "13  2018      8      2799\n",
       "14  2018      9      2962\n",
       "15  2018     10      3404\n",
       "16  2018     11      2333\n",
       "17  2018     12      2093"
      ]
     },
     "execution_count": 15,
     "metadata": {},
     "output_type": "execute_result"
    }
   ],
   "source": [
    "# Analyze trend of number of bookings per month\n",
    "\n",
    "# convert the 'arrival_date' column to datetime type\n",
    "data['arrival_date'] = pd.to_datetime(data['arrival_date'])\n",
    "\n",
    "# extract month and yerar from 'arrival_date' column\n",
    "data['arrival_month'] = data['arrival_date'].dt.month\n",
    "data['arrival_year'] = data['arrival_date'].dt.year\n",
    "\n",
    "# group the data by arrival month and year and extract the count of bookings\n",
    "monthly_data = data.groupby([\"arrival_year\",\"arrival_month\"])[\"booking_status\"].count().to_frame().reset_index()\n",
    "monthly_data.columns = ['Year','Month','Bookings']\n",
    "monthly_data"
   ]
  },
  {
   "cell_type": "code",
   "execution_count": 16,
   "id": "69fb5920-69ee-4c2d-8a11-a3627fbe80b6",
   "metadata": {},
   "outputs": [
    {
     "data": {
      "text/plain": [
       "Index(['lead_time', 'market_segment_type', 'no_of_special_requests',\n",
       "       'avg_price_per_room', 'no_of_adults', 'no_of_weekend_nights',\n",
       "       'arrival_date', 'required_car_parking_space', 'no_of_week_nights',\n",
       "       'booking_status', 'arrival_month', 'arrival_year'],\n",
       "      dtype='object')"
      ]
     },
     "execution_count": 16,
     "metadata": {},
     "output_type": "execute_result"
    }
   ],
   "source": [
    "data.columns"
   ]
  },
  {
   "cell_type": "code",
   "execution_count": 17,
   "id": "32fd82e9-e325-4f0c-9ed7-a14cd43f1f81",
   "metadata": {},
   "outputs": [],
   "source": [
    "# We can filter on just the latest year of data as it seems we were not capturing data in full prior to 2018\n",
    "data = data[data['arrival_year'] == data['arrival_year'].max()]\n",
    "del data['arrival_year']"
   ]
  },
  {
   "cell_type": "code",
   "execution_count": 18,
   "id": "configured-japan",
   "metadata": {
    "colab": {
     "base_uri": "https://localhost:8080/",
     "height": 451
    },
    "executionInfo": {
     "elapsed": 617,
     "status": "ok",
     "timestamp": 1722961441023,
     "user": {
      "displayName": "Jeffrey Ching",
      "userId": "04804701206017404210"
     },
     "user_tz": 240
    },
    "id": "configured-japan",
    "outputId": "5187ebc1-0b47-4276-9c6f-cfa260288bd0"
   },
   "outputs": [
    {
     "data": {
      "text/plain": [
       "<Axes: xlabel='Month', ylabel='Bookings'>"
      ]
     },
     "execution_count": 18,
     "metadata": {},
     "output_type": "execute_result"
    },
    {
     "data": {
      "image/png": "[encoded data removed]",
      "text/plain": [
       "<Figure size 640x480 with 1 Axes>"
      ]
     },
     "metadata": {},
     "output_type": "display_data"
    }
   ],
   "source": [
    "# Visualize the number of bookings across months\n",
    "sns.lineplot(data=monthly_data, x=\"Month\", y=\"Bookings\",errorbar=None)"
   ]
  },
  {
   "cell_type": "markdown",
   "id": "hawaiian-convert",
   "metadata": {
    "id": "hawaiian-convert"
   },
   "source": [
    "* The month-over-month trend shows that the number of bookings rise from January to June, peaking at June and dropping, then rising further from June through October where it reaches a peak.\n",
    "* From October through December we see a steep drop (~35%) in bookings."
   ]
  },
  {
   "cell_type": "code",
   "execution_count": 19,
   "id": "d708db24-98ca-4c25-a697-63f0f1ededbf",
   "metadata": {},
   "outputs": [
    {
     "data": {
      "image/png": "[encoded data removed]",
      "text/plain": [
       "<seaborn._core.plot.Plot at 0x15e9c3410>"
      ]
     },
     "execution_count": 19,
     "metadata": {
      "image/png": {
       "height": 378.25,
       "width": 643.4499999999999
      }
     },
     "output_type": "execute_result"
    }
   ],
   "source": [
    "# We can visualize trend of number of bookings per month\n",
    "so.Plot(data, x=\"arrival_month\", color=\"booking_status\").add(so.Bar(), so.Count(), so.Stack())"
   ]
  },
  {
   "cell_type": "code",
   "execution_count": 20,
   "id": "1ef8aba2-7d8f-426d-8f6e-cab60b3c4582",
   "metadata": {},
   "outputs": [
    {
     "data": {
      "text/html": [
       "<div>\n",
       "<style scoped>\n",
       "    .dataframe tbody tr th:only-of-type {\n",
       "        vertical-align: middle;\n",
       "    }\n",
       "\n",
       "    .dataframe tbody tr th {\n",
       "        vertical-align: top;\n",
       "    }\n",
       "\n",
       "    .dataframe thead th {\n",
       "        text-align: right;\n",
       "    }\n",
       "</style>\n",
       "<table border=\"1\" class=\"dataframe\">\n",
       "  <thead>\n",
       "    <tr style=\"text-align: right;\">\n",
       "      <th>booking_status</th>\n",
       "      <th>Canceled</th>\n",
       "      <th>Not_Canceled</th>\n",
       "    </tr>\n",
       "    <tr>\n",
       "      <th>arrival_month</th>\n",
       "      <th></th>\n",
       "      <th></th>\n",
       "    </tr>\n",
       "  </thead>\n",
       "  <tbody>\n",
       "    <tr>\n",
       "      <th>1</th>\n",
       "      <td>0.02</td>\n",
       "      <td>0.98</td>\n",
       "    </tr>\n",
       "    <tr>\n",
       "      <th>2</th>\n",
       "      <td>0.25</td>\n",
       "      <td>0.75</td>\n",
       "    </tr>\n",
       "    <tr>\n",
       "      <th>3</th>\n",
       "      <td>0.30</td>\n",
       "      <td>0.70</td>\n",
       "    </tr>\n",
       "    <tr>\n",
       "      <th>4</th>\n",
       "      <td>0.36</td>\n",
       "      <td>0.64</td>\n",
       "    </tr>\n",
       "    <tr>\n",
       "      <th>5</th>\n",
       "      <td>0.36</td>\n",
       "      <td>0.64</td>\n",
       "    </tr>\n",
       "    <tr>\n",
       "      <th>6</th>\n",
       "      <td>0.40</td>\n",
       "      <td>0.60</td>\n",
       "    </tr>\n",
       "    <tr>\n",
       "      <th>7</th>\n",
       "      <td>0.42</td>\n",
       "      <td>0.58</td>\n",
       "    </tr>\n",
       "    <tr>\n",
       "      <th>8</th>\n",
       "      <td>0.47</td>\n",
       "      <td>0.53</td>\n",
       "    </tr>\n",
       "    <tr>\n",
       "      <th>9</th>\n",
       "      <td>0.46</td>\n",
       "      <td>0.54</td>\n",
       "    </tr>\n",
       "    <tr>\n",
       "      <th>10</th>\n",
       "      <td>0.46</td>\n",
       "      <td>0.54</td>\n",
       "    </tr>\n",
       "    <tr>\n",
       "      <th>11</th>\n",
       "      <td>0.36</td>\n",
       "      <td>0.64</td>\n",
       "    </tr>\n",
       "    <tr>\n",
       "      <th>12</th>\n",
       "      <td>0.18</td>\n",
       "      <td>0.82</td>\n",
       "    </tr>\n",
       "  </tbody>\n",
       "</table>\n",
       "</div>"
      ],
      "text/plain": [
       "booking_status  Canceled  Not_Canceled\n",
       "arrival_month                         \n",
       "1                   0.02          0.98\n",
       "2                   0.25          0.75\n",
       "3                   0.30          0.70\n",
       "4                   0.36          0.64\n",
       "5                   0.36          0.64\n",
       "6                   0.40          0.60\n",
       "7                   0.42          0.58\n",
       "8                   0.47          0.53\n",
       "9                   0.46          0.54\n",
       "10                  0.46          0.54\n",
       "11                  0.36          0.64\n",
       "12                  0.18          0.82"
      ]
     },
     "execution_count": 20,
     "metadata": {},
     "output_type": "execute_result"
    }
   ],
   "source": [
    "pd.crosstab(data[\"arrival_month\"], data[\"booking_status\"], normalize=\"index\")"
   ]
  },
  {
   "cell_type": "markdown",
   "id": "ambient-private",
   "metadata": {
    "id": "ambient-private"
   },
   "source": [
    "* January and December saw a significantly lower rate of cancellation compared to the other months, and July witnesses the highest rate of cancellation.\n",
    "* Cancellations appear higher during the summer months (June through August)."
   ]
  },
  {
   "cell_type": "markdown",
   "id": "gr3q13PBaQL5",
   "metadata": {
    "id": "gr3q13PBaQL5"
   },
   "source": [
    "### EDA Summary"
   ]
  },
  {
   "cell_type": "markdown",
   "id": "EpTQTA8vhQU4",
   "metadata": {
    "id": "EpTQTA8vhQU4"
   },
   "source": [
    "* **Booking Status:** Approximately one third of bookings had been cancelled from second half of 2017 through 2018 year.\n",
    "* **Lead Time vs Booking Status:** The higher the lead time of advanced bookings correlates to a higher the chance of cancellation.\n",
    "* **Market Segment Type Vs Booking Status:** The cancellation of bookings is independent of the booking segment (online or offline). Customer cancellations behavior appear similarly for both segments, suggesting a flexible cancellation policy for both hotels and third-party vendors.\n",
    "* **Arrival Month Vs Booking Status:** January (\\~2.5%) and December (\\~10%) witnessed a significantly lower rate of cancellation compared to the other months (average \\~30%), while July (\\~40%) witnessed the highest rate of cancellation.\n",
    "* **Average price per room vs Booking status** The booking status does not apper to vary significantly with the average price per room.\n",
    "* **Booking Trend:** Monthly booking trends show that the number of bookings rise from January to April, remain consistent from April to July, then rise again till October where it reaches a peak, and then drops down again in October through December.\n",
    "* **Cancellations Trend:** Cancellations appear to be more prevalant and peak during the summer months. We cannot infer a specific cause but this can be possibly related to customer booking behavior (i.e. booking multiple hotels, change of summer plans, etc.)\n"
   ]
  },
  {
   "cell_type": "markdown",
   "id": "8T-1nexwbVv9",
   "metadata": {
    "id": "8T-1nexwbVv9"
   },
   "source": [
    "# **Model Building**\n"
   ]
  },
  {
   "cell_type": "markdown",
   "id": "vadO50_rPZIi",
   "metadata": {
    "id": "vadO50_rPZIi"
   },
   "source": [
    "## Data Preprocessing"
   ]
  },
  {
   "cell_type": "code",
   "execution_count": 21,
   "id": "b9a2b9e3",
   "metadata": {
    "id": "b9a2b9e3"
   },
   "outputs": [],
   "source": [
    "# We can encode our target attribute (booking status) from categorical to numerical value (1 if cancelled, 0 if not) \n",
    "# as the first data pre-processing step to build our prediction model to detect future cancellations.\n",
    "data_processed = data.copy()\n",
    "data_processed[\"booking_status\"] = np.where(data[\"booking_status\"].str.lower() == \"canceled\", 1, 0)"
   ]
  },
  {
   "cell_type": "code",
   "execution_count": 22,
   "id": "e47cde66-4929-4c8a-9d0a-085f3e0ba8af",
   "metadata": {},
   "outputs": [],
   "source": [
    "data_processed[\"booking_status\"] = data_processed[\"booking_status\"].astype(int)"
   ]
  },
  {
   "cell_type": "code",
   "execution_count": 23,
   "id": "cba00b20-1f54-451f-8f9c-15ae2ffed3b6",
   "metadata": {},
   "outputs": [
    {
     "data": {
      "text/html": [
       "<div>\n",
       "<style scoped>\n",
       "    .dataframe tbody tr th:only-of-type {\n",
       "        vertical-align: middle;\n",
       "    }\n",
       "\n",
       "    .dataframe tbody tr th {\n",
       "        vertical-align: top;\n",
       "    }\n",
       "\n",
       "    .dataframe thead th {\n",
       "        text-align: right;\n",
       "    }\n",
       "</style>\n",
       "<table border=\"1\" class=\"dataframe\">\n",
       "  <thead>\n",
       "    <tr style=\"text-align: right;\">\n",
       "      <th></th>\n",
       "      <th>lead_time</th>\n",
       "      <th>market_segment_type</th>\n",
       "      <th>no_of_special_requests</th>\n",
       "      <th>avg_price_per_room</th>\n",
       "      <th>no_of_adults</th>\n",
       "      <th>no_of_weekend_nights</th>\n",
       "      <th>arrival_date</th>\n",
       "      <th>required_car_parking_space</th>\n",
       "      <th>no_of_week_nights</th>\n",
       "      <th>booking_status</th>\n",
       "      <th>arrival_month</th>\n",
       "    </tr>\n",
       "  </thead>\n",
       "  <tbody>\n",
       "    <tr>\n",
       "      <th>1</th>\n",
       "      <td>5</td>\n",
       "      <td>Online</td>\n",
       "      <td>1</td>\n",
       "      <td>106.68</td>\n",
       "      <td>2</td>\n",
       "      <td>2</td>\n",
       "      <td>2018-11-06</td>\n",
       "      <td>0</td>\n",
       "      <td>3</td>\n",
       "      <td>0</td>\n",
       "      <td>11</td>\n",
       "    </tr>\n",
       "    <tr>\n",
       "      <th>2</th>\n",
       "      <td>1</td>\n",
       "      <td>Online</td>\n",
       "      <td>0</td>\n",
       "      <td>60.00</td>\n",
       "      <td>1</td>\n",
       "      <td>2</td>\n",
       "      <td>2018-02-28</td>\n",
       "      <td>0</td>\n",
       "      <td>1</td>\n",
       "      <td>1</td>\n",
       "      <td>2</td>\n",
       "    </tr>\n",
       "    <tr>\n",
       "      <th>3</th>\n",
       "      <td>211</td>\n",
       "      <td>Online</td>\n",
       "      <td>0</td>\n",
       "      <td>100.00</td>\n",
       "      <td>2</td>\n",
       "      <td>0</td>\n",
       "      <td>2018-05-20</td>\n",
       "      <td>0</td>\n",
       "      <td>2</td>\n",
       "      <td>1</td>\n",
       "      <td>5</td>\n",
       "    </tr>\n",
       "    <tr>\n",
       "      <th>4</th>\n",
       "      <td>48</td>\n",
       "      <td>Online</td>\n",
       "      <td>0</td>\n",
       "      <td>94.50</td>\n",
       "      <td>2</td>\n",
       "      <td>1</td>\n",
       "      <td>2018-04-11</td>\n",
       "      <td>0</td>\n",
       "      <td>1</td>\n",
       "      <td>1</td>\n",
       "      <td>4</td>\n",
       "    </tr>\n",
       "    <tr>\n",
       "      <th>5</th>\n",
       "      <td>346</td>\n",
       "      <td>Online</td>\n",
       "      <td>1</td>\n",
       "      <td>115.00</td>\n",
       "      <td>2</td>\n",
       "      <td>0</td>\n",
       "      <td>2018-09-13</td>\n",
       "      <td>0</td>\n",
       "      <td>2</td>\n",
       "      <td>1</td>\n",
       "      <td>9</td>\n",
       "    </tr>\n",
       "  </tbody>\n",
       "</table>\n",
       "</div>"
      ],
      "text/plain": [
       "   lead_time market_segment_type  no_of_special_requests  avg_price_per_room  \\\n",
       "1          5              Online                       1              106.68   \n",
       "2          1              Online                       0               60.00   \n",
       "3        211              Online                       0              100.00   \n",
       "4         48              Online                       0               94.50   \n",
       "5        346              Online                       1              115.00   \n",
       "\n",
       "   no_of_adults  no_of_weekend_nights arrival_date  \\\n",
       "1             2                     2   2018-11-06   \n",
       "2             1                     2   2018-02-28   \n",
       "3             2                     0   2018-05-20   \n",
       "4             2                     1   2018-04-11   \n",
       "5             2                     0   2018-09-13   \n",
       "\n",
       "   required_car_parking_space  no_of_week_nights  booking_status  \\\n",
       "1                           0                  3               0   \n",
       "2                           0                  1               1   \n",
       "3                           0                  2               1   \n",
       "4                           0                  1               1   \n",
       "5                           0                  2               1   \n",
       "\n",
       "   arrival_month  \n",
       "1             11  \n",
       "2              2  \n",
       "3              5  \n",
       "4              4  \n",
       "5              9  "
      ]
     },
     "execution_count": 23,
     "metadata": {},
     "output_type": "execute_result"
    }
   ],
   "source": [
    "data_processed.head()"
   ]
  },
  {
   "cell_type": "code",
   "execution_count": 24,
   "id": "48050773",
   "metadata": {
    "id": "48050773"
   },
   "outputs": [],
   "source": [
    "# Create the train and test train split\n",
    "X = data_processed.drop([\"booking_status\",\"arrival_date\"], axis=1)\n",
    "y = data_processed[\"booking_status\"]\n",
    "\n",
    "# encode the categorical variables\n",
    "X = pd.get_dummies(X, drop_first=True)\n",
    "\n",
    "# apply a 70:30 split of the data into train and test\n",
    "X_train, X_test, y_train, y_test = train_test_split(\n",
    "    X, y, test_size=0.3, random_state=42\n",
    ")"
   ]
  },
  {
   "cell_type": "code",
   "execution_count": 25,
   "id": "f8509d29",
   "metadata": {
    "colab": {
     "base_uri": "https://localhost:8080/"
    },
    "id": "f8509d29",
    "outputId": "d2d7cb3f-d8c1-4e27-f8ea-95d0327d09d7"
   },
   "outputs": [
    {
     "data": {
      "text/html": [
       "<div>\n",
       "<style scoped>\n",
       "    .dataframe tbody tr th:only-of-type {\n",
       "        vertical-align: middle;\n",
       "    }\n",
       "\n",
       "    .dataframe tbody tr th {\n",
       "        vertical-align: top;\n",
       "    }\n",
       "\n",
       "    .dataframe thead th {\n",
       "        text-align: right;\n",
       "    }\n",
       "</style>\n",
       "<table border=\"1\" class=\"dataframe\">\n",
       "  <thead>\n",
       "    <tr style=\"text-align: right;\">\n",
       "      <th></th>\n",
       "      <th>lead_time</th>\n",
       "      <th>no_of_special_requests</th>\n",
       "      <th>avg_price_per_room</th>\n",
       "      <th>no_of_adults</th>\n",
       "      <th>no_of_weekend_nights</th>\n",
       "      <th>required_car_parking_space</th>\n",
       "      <th>no_of_week_nights</th>\n",
       "      <th>arrival_month</th>\n",
       "      <th>market_segment_type_Online</th>\n",
       "    </tr>\n",
       "  </thead>\n",
       "  <tbody>\n",
       "    <tr>\n",
       "      <th>1</th>\n",
       "      <td>5</td>\n",
       "      <td>1</td>\n",
       "      <td>106.68</td>\n",
       "      <td>2</td>\n",
       "      <td>2</td>\n",
       "      <td>0</td>\n",
       "      <td>3</td>\n",
       "      <td>11</td>\n",
       "      <td>True</td>\n",
       "    </tr>\n",
       "    <tr>\n",
       "      <th>2</th>\n",
       "      <td>1</td>\n",
       "      <td>0</td>\n",
       "      <td>60.00</td>\n",
       "      <td>1</td>\n",
       "      <td>2</td>\n",
       "      <td>0</td>\n",
       "      <td>1</td>\n",
       "      <td>2</td>\n",
       "      <td>True</td>\n",
       "    </tr>\n",
       "    <tr>\n",
       "      <th>3</th>\n",
       "      <td>211</td>\n",
       "      <td>0</td>\n",
       "      <td>100.00</td>\n",
       "      <td>2</td>\n",
       "      <td>0</td>\n",
       "      <td>0</td>\n",
       "      <td>2</td>\n",
       "      <td>5</td>\n",
       "      <td>True</td>\n",
       "    </tr>\n",
       "    <tr>\n",
       "      <th>4</th>\n",
       "      <td>48</td>\n",
       "      <td>0</td>\n",
       "      <td>94.50</td>\n",
       "      <td>2</td>\n",
       "      <td>1</td>\n",
       "      <td>0</td>\n",
       "      <td>1</td>\n",
       "      <td>4</td>\n",
       "      <td>True</td>\n",
       "    </tr>\n",
       "    <tr>\n",
       "      <th>5</th>\n",
       "      <td>346</td>\n",
       "      <td>1</td>\n",
       "      <td>115.00</td>\n",
       "      <td>2</td>\n",
       "      <td>0</td>\n",
       "      <td>0</td>\n",
       "      <td>2</td>\n",
       "      <td>9</td>\n",
       "      <td>True</td>\n",
       "    </tr>\n",
       "  </tbody>\n",
       "</table>\n",
       "</div>"
      ],
      "text/plain": [
       "   lead_time  no_of_special_requests  avg_price_per_room  no_of_adults  \\\n",
       "1          5                       1              106.68             2   \n",
       "2          1                       0               60.00             1   \n",
       "3        211                       0              100.00             2   \n",
       "4         48                       0               94.50             2   \n",
       "5        346                       1              115.00             2   \n",
       "\n",
       "   no_of_weekend_nights  required_car_parking_space  no_of_week_nights  \\\n",
       "1                     2                           0                  3   \n",
       "2                     2                           0                  1   \n",
       "3                     0                           0                  2   \n",
       "4                     1                           0                  1   \n",
       "5                     0                           0                  2   \n",
       "\n",
       "   arrival_month  market_segment_type_Online  \n",
       "1             11                        True  \n",
       "2              2                        True  \n",
       "3              5                        True  \n",
       "4              4                        True  \n",
       "5              9                        True  "
      ]
     },
     "execution_count": 25,
     "metadata": {},
     "output_type": "execute_result"
    }
   ],
   "source": [
    "X.head()"
   ]
  },
  {
   "cell_type": "markdown",
   "id": "3d1a76d0",
   "metadata": {
    "id": "3d1a76d0"
   },
   "source": [
    "## **Model Training and Evalution**"
   ]
  },
  {
   "cell_type": "code",
   "execution_count": 26,
   "id": "recognized-nurse",
   "metadata": {
    "colab": {
     "base_uri": "https://localhost:8080/",
     "height": 74
    },
    "id": "recognized-nurse",
    "outputId": "c8ea4401-abac-402d-8adb-eeae6a65f82c"
   },
   "outputs": [
    {
     "data": {
      "text/html": [
       "<style>#sk-container-id-1 {\n",
       "  /* Definition of color scheme common for light and dark mode */\n",
       "  --sklearn-color-text: black;\n",
       "  --sklearn-color-line: gray;\n",
       "  /* Definition of color scheme for unfitted estimators */\n",
       "  --sklearn-color-unfitted-level-0: #fff5e6;\n",
       "  --sklearn-color-unfitted-level-1: #f6e4d2;\n",
       "  --sklearn-color-unfitted-level-2: #ffe0b3;\n",
       "  --sklearn-color-unfitted-level-3: chocolate;\n",
       "  /* Definition of color scheme for fitted estimators */\n",
       "  --sklearn-color-fitted-level-0: #f0f8ff;\n",
       "  --sklearn-color-fitted-level-1: #d4ebff;\n",
       "  --sklearn-color-fitted-level-2: #b3dbfd;\n",
       "  --sklearn-color-fitted-level-3: cornflowerblue;\n",
       "\n",
       "  /* Specific color for light theme */\n",
       "  --sklearn-color-text-on-default-background: var(--sg-text-color, var(--theme-code-foreground, var(--jp-content-font-color1, black)));\n",
       "  --sklearn-color-background: var(--sg-background-color, var(--theme-background, var(--jp-layout-color0, white)));\n",
       "  --sklearn-color-border-box: var(--sg-text-color, var(--theme-code-foreground, var(--jp-content-font-color1, black)));\n",
       "  --sklearn-color-icon: #696969;\n",
       "\n",
       "  @media (prefers-color-scheme: dark) {\n",
       "    /* Redefinition of color scheme for dark theme */\n",
       "    --sklearn-color-text-on-default-background: var(--sg-text-color, var(--theme-code-foreground, var(--jp-content-font-color1, white)));\n",
       "    --sklearn-color-background: var(--sg-background-color, var(--theme-background, var(--jp-layout-color0, #111)));\n",
       "    --sklearn-color-border-box: var(--sg-text-color, var(--theme-code-foreground, var(--jp-content-font-color1, white)));\n",
       "    --sklearn-color-icon: #878787;\n",
       "  }\n",
       "}\n",
       "\n",
       "#sk-container-id-1 {\n",
       "  color: var(--sklearn-color-text);\n",
       "}\n",
       "\n",
       "#sk-container-id-1 pre {\n",
       "  padding: 0;\n",
       "}\n",
       "\n",
       "#sk-container-id-1 input.sk-hidden--visually {\n",
       "  border: 0;\n",
       "  clip: rect(1px 1px 1px 1px);\n",
       "  clip: rect(1px, 1px, 1px, 1px);\n",
       "  height: 1px;\n",
       "  margin: -1px;\n",
       "  overflow: hidden;\n",
       "  padding: 0;\n",
       "  position: absolute;\n",
       "  width: 1px;\n",
       "}\n",
       "\n",
       "#sk-container-id-1 div.sk-dashed-wrapped {\n",
       "  border: 1px dashed var(--sklearn-color-line);\n",
       "  margin: 0 0.4em 0.5em 0.4em;\n",
       "  box-sizing: border-box;\n",
       "  padding-bottom: 0.4em;\n",
       "  background-color: var(--sklearn-color-background);\n",
       "}\n",
       "\n",
       "#sk-container-id-1 div.sk-container {\n",
       "  /* jupyter's `normalize.less` sets `[hidden] { display: none; }`\n",
       "     but bootstrap.min.css set `[hidden] { display: none !important; }`\n",
       "     so we also need the `!important` here to be able to override the\n",
       "     default hidden behavior on the sphinx rendered scikit-learn.org.\n",
       "     See: https://github.com/scikit-learn/scikit-learn/issues/21755 */\n",
       "  display: inline-block !important;\n",
       "  position: relative;\n",
       "}\n",
       "\n",
       "#sk-container-id-1 div.sk-text-repr-fallback {\n",
       "  display: none;\n",
       "}\n",
       "\n",
       "div.sk-parallel-item,\n",
       "div.sk-serial,\n",
       "div.sk-item {\n",
       "  /* draw centered vertical line to link estimators */\n",
       "  background-image: linear-gradient(var(--sklearn-color-text-on-default-background), var(--sklearn-color-text-on-default-background));\n",
       "  background-size: 2px 100%;\n",
       "  background-repeat: no-repeat;\n",
       "  background-position: center center;\n",
       "}\n",
       "\n",
       "/* Parallel-specific style estimator block */\n",
       "\n",
       "#sk-container-id-1 div.sk-parallel-item::after {\n",
       "  content: \"\";\n",
       "  width: 100%;\n",
       "  border-bottom: 2px solid var(--sklearn-color-text-on-default-background);\n",
       "  flex-grow: 1;\n",
       "}\n",
       "\n",
       "#sk-container-id-1 div.sk-parallel {\n",
       "  display: flex;\n",
       "  align-items: stretch;\n",
       "  justify-content: center;\n",
       "  background-color: var(--sklearn-color-background);\n",
       "  position: relative;\n",
       "}\n",
       "\n",
       "#sk-container-id-1 div.sk-parallel-item {\n",
       "  display: flex;\n",
       "  flex-direction: column;\n",
       "}\n",
       "\n",
       "#sk-container-id-1 div.sk-parallel-item:first-child::after {\n",
       "  align-self: flex-end;\n",
       "  width: 50%;\n",
       "}\n",
       "\n",
       "#sk-container-id-1 div.sk-parallel-item:last-child::after {\n",
       "  align-self: flex-start;\n",
       "  width: 50%;\n",
       "}\n",
       "\n",
       "#sk-container-id-1 div.sk-parallel-item:only-child::after {\n",
       "  width: 0;\n",
       "}\n",
       "\n",
       "/* Serial-specific style estimator block */\n",
       "\n",
       "#sk-container-id-1 div.sk-serial {\n",
       "  display: flex;\n",
       "  flex-direction: column;\n",
       "  align-items: center;\n",
       "  background-color: var(--sklearn-color-background);\n",
       "  padding-right: 1em;\n",
       "  padding-left: 1em;\n",
       "}\n",
       "\n",
       "\n",
       "/* Toggleable style: style used for estimator/Pipeline/ColumnTransformer box that is\n",
       "clickable and can be expanded/collapsed.\n",
       "- Pipeline and ColumnTransformer use this feature and define the default style\n",
       "- Estimators will overwrite some part of the style using the `sk-estimator` class\n",
       "*/\n",
       "\n",
       "/* Pipeline and ColumnTransformer style (default) */\n",
       "\n",
       "#sk-container-id-1 div.sk-toggleable {\n",
       "  /* Default theme specific background. It is overwritten whether we have a\n",
       "  specific estimator or a Pipeline/ColumnTransformer */\n",
       "  background-color: var(--sklearn-color-background);\n",
       "}\n",
       "\n",
       "/* Toggleable label */\n",
       "#sk-container-id-1 label.sk-toggleable__label {\n",
       "  cursor: pointer;\n",
       "  display: block;\n",
       "  width: 100%;\n",
       "  margin-bottom: 0;\n",
       "  padding: 0.5em;\n",
       "  box-sizing: border-box;\n",
       "  text-align: center;\n",
       "}\n",
       "\n",
       "#sk-container-id-1 label.sk-toggleable__label-arrow:before {\n",
       "  /* Arrow on the left of the label */\n",
       "  content: \"▸\";\n",
       "  float: left;\n",
       "  margin-right: 0.25em;\n",
       "  color: var(--sklearn-color-icon);\n",
       "}\n",
       "\n",
       "#sk-container-id-1 label.sk-toggleable__label-arrow:hover:before {\n",
       "  color: var(--sklearn-color-text);\n",
       "}\n",
       "\n",
       "/* Toggleable content - dropdown */\n",
       "\n",
       "#sk-container-id-1 div.sk-toggleable__content {\n",
       "  max-height: 0;\n",
       "  max-width: 0;\n",
       "  overflow: hidden;\n",
       "  text-align: left;\n",
       "  /* unfitted */\n",
       "  background-color: var(--sklearn-color-unfitted-level-0);\n",
       "}\n",
       "\n",
       "#sk-container-id-1 div.sk-toggleable__content.fitted {\n",
       "  /* fitted */\n",
       "  background-color: var(--sklearn-color-fitted-level-0);\n",
       "}\n",
       "\n",
       "#sk-container-id-1 div.sk-toggleable__content pre {\n",
       "  margin: 0.2em;\n",
       "  border-radius: 0.25em;\n",
       "  color: var(--sklearn-color-text);\n",
       "  /* unfitted */\n",
       "  background-color: var(--sklearn-color-unfitted-level-0);\n",
       "}\n",
       "\n",
       "#sk-container-id-1 div.sk-toggleable__content.fitted pre {\n",
       "  /* unfitted */\n",
       "  background-color: var(--sklearn-color-fitted-level-0);\n",
       "}\n",
       "\n",
       "#sk-container-id-1 input.sk-toggleable__control:checked~div.sk-toggleable__content {\n",
       "  /* Expand drop-down */\n",
       "  max-height: 200px;\n",
       "  max-width: 100%;\n",
       "  overflow: auto;\n",
       "}\n",
       "\n",
       "#sk-container-id-1 input.sk-toggleable__control:checked~label.sk-toggleable__label-arrow:before {\n",
       "  content: \"▾\";\n",
       "}\n",
       "\n",
       "/* Pipeline/ColumnTransformer-specific style */\n",
       "\n",
       "#sk-container-id-1 div.sk-label input.sk-toggleable__control:checked~label.sk-toggleable__label {\n",
       "  color: var(--sklearn-color-text);\n",
       "  background-color: var(--sklearn-color-unfitted-level-2);\n",
       "}\n",
       "\n",
       "#sk-container-id-1 div.sk-label.fitted input.sk-toggleable__control:checked~label.sk-toggleable__label {\n",
       "  background-color: var(--sklearn-color-fitted-level-2);\n",
       "}\n",
       "\n",
       "/* Estimator-specific style */\n",
       "\n",
       "/* Colorize estimator box */\n",
       "#sk-container-id-1 div.sk-estimator input.sk-toggleable__control:checked~label.sk-toggleable__label {\n",
       "  /* unfitted */\n",
       "  background-color: var(--sklearn-color-unfitted-level-2);\n",
       "}\n",
       "\n",
       "#sk-container-id-1 div.sk-estimator.fitted input.sk-toggleable__control:checked~label.sk-toggleable__label {\n",
       "  /* fitted */\n",
       "  background-color: var(--sklearn-color-fitted-level-2);\n",
       "}\n",
       "\n",
       "#sk-container-id-1 div.sk-label label.sk-toggleable__label,\n",
       "#sk-container-id-1 div.sk-label label {\n",
       "  /* The background is the default theme color */\n",
       "  color: var(--sklearn-color-text-on-default-background);\n",
       "}\n",
       "\n",
       "/* On hover, darken the color of the background */\n",
       "#sk-container-id-1 div.sk-label:hover label.sk-toggleable__label {\n",
       "  color: var(--sklearn-color-text);\n",
       "  background-color: var(--sklearn-color-unfitted-level-2);\n",
       "}\n",
       "\n",
       "/* Label box, darken color on hover, fitted */\n",
       "#sk-container-id-1 div.sk-label.fitted:hover label.sk-toggleable__label.fitted {\n",
       "  color: var(--sklearn-color-text);\n",
       "  background-color: var(--sklearn-color-fitted-level-2);\n",
       "}\n",
       "\n",
       "/* Estimator label */\n",
       "\n",
       "#sk-container-id-1 div.sk-label label {\n",
       "  font-family: monospace;\n",
       "  font-weight: bold;\n",
       "  display: inline-block;\n",
       "  line-height: 1.2em;\n",
       "}\n",
       "\n",
       "#sk-container-id-1 div.sk-label-container {\n",
       "  text-align: center;\n",
       "}\n",
       "\n",
       "/* Estimator-specific */\n",
       "#sk-container-id-1 div.sk-estimator {\n",
       "  font-family: monospace;\n",
       "  border: 1px dotted var(--sklearn-color-border-box);\n",
       "  border-radius: 0.25em;\n",
       "  box-sizing: border-box;\n",
       "  margin-bottom: 0.5em;\n",
       "  /* unfitted */\n",
       "  background-color: var(--sklearn-color-unfitted-level-0);\n",
       "}\n",
       "\n",
       "#sk-container-id-1 div.sk-estimator.fitted {\n",
       "  /* fitted */\n",
       "  background-color: var(--sklearn-color-fitted-level-0);\n",
       "}\n",
       "\n",
       "/* on hover */\n",
       "#sk-container-id-1 div.sk-estimator:hover {\n",
       "  /* unfitted */\n",
       "  background-color: var(--sklearn-color-unfitted-level-2);\n",
       "}\n",
       "\n",
       "#sk-container-id-1 div.sk-estimator.fitted:hover {\n",
       "  /* fitted */\n",
       "  background-color: var(--sklearn-color-fitted-level-2);\n",
       "}\n",
       "\n",
       "/* Specification for estimator info (e.g. \"i\" and \"?\") */\n",
       "\n",
       "/* Common style for \"i\" and \"?\" */\n",
       "\n",
       ".sk-estimator-doc-link,\n",
       "a:link.sk-estimator-doc-link,\n",
       "a:visited.sk-estimator-doc-link {\n",
       "  float: right;\n",
       "  font-size: smaller;\n",
       "  line-height: 1em;\n",
       "  font-family: monospace;\n",
       "  background-color: var(--sklearn-color-background);\n",
       "  border-radius: 1em;\n",
       "  height: 1em;\n",
       "  width: 1em;\n",
       "  text-decoration: none !important;\n",
       "  margin-left: 1ex;\n",
       "  /* unfitted */\n",
       "  border: var(--sklearn-color-unfitted-level-1) 1pt solid;\n",
       "  color: var(--sklearn-color-unfitted-level-1);\n",
       "}\n",
       "\n",
       ".sk-estimator-doc-link.fitted,\n",
       "a:link.sk-estimator-doc-link.fitted,\n",
       "a:visited.sk-estimator-doc-link.fitted {\n",
       "  /* fitted */\n",
       "  border: var(--sklearn-color-fitted-level-1) 1pt solid;\n",
       "  color: var(--sklearn-color-fitted-level-1);\n",
       "}\n",
       "\n",
       "/* On hover */\n",
       "div.sk-estimator:hover .sk-estimator-doc-link:hover,\n",
       ".sk-estimator-doc-link:hover,\n",
       "div.sk-label-container:hover .sk-estimator-doc-link:hover,\n",
       ".sk-estimator-doc-link:hover {\n",
       "  /* unfitted */\n",
       "  background-color: var(--sklearn-color-unfitted-level-3);\n",
       "  color: var(--sklearn-color-background);\n",
       "  text-decoration: none;\n",
       "}\n",
       "\n",
       "div.sk-estimator.fitted:hover .sk-estimator-doc-link.fitted:hover,\n",
       ".sk-estimator-doc-link.fitted:hover,\n",
       "div.sk-label-container:hover .sk-estimator-doc-link.fitted:hover,\n",
       ".sk-estimator-doc-link.fitted:hover {\n",
       "  /* fitted */\n",
       "  background-color: var(--sklearn-color-fitted-level-3);\n",
       "  color: var(--sklearn-color-background);\n",
       "  text-decoration: none;\n",
       "}\n",
       "\n",
       "/* Span, style for the box shown on hovering the info icon */\n",
       ".sk-estimator-doc-link span {\n",
       "  display: none;\n",
       "  z-index: 9999;\n",
       "  position: relative;\n",
       "  font-weight: normal;\n",
       "  right: .2ex;\n",
       "  padding: .5ex;\n",
       "  margin: .5ex;\n",
       "  width: min-content;\n",
       "  min-width: 20ex;\n",
       "  max-width: 50ex;\n",
       "  color: var(--sklearn-color-text);\n",
       "  box-shadow: 2pt 2pt 4pt #999;\n",
       "  /* unfitted */\n",
       "  background: var(--sklearn-color-unfitted-level-0);\n",
       "  border: .5pt solid var(--sklearn-color-unfitted-level-3);\n",
       "}\n",
       "\n",
       ".sk-estimator-doc-link.fitted span {\n",
       "  /* fitted */\n",
       "  background: var(--sklearn-color-fitted-level-0);\n",
       "  border: var(--sklearn-color-fitted-level-3);\n",
       "}\n",
       "\n",
       ".sk-estimator-doc-link:hover span {\n",
       "  display: block;\n",
       "}\n",
       "\n",
       "/* \"?\"-specific style due to the `<a>` HTML tag */\n",
       "\n",
       "#sk-container-id-1 a.estimator_doc_link {\n",
       "  float: right;\n",
       "  font-size: 1rem;\n",
       "  line-height: 1em;\n",
       "  font-family: monospace;\n",
       "  background-color: var(--sklearn-color-background);\n",
       "  border-radius: 1rem;\n",
       "  height: 1rem;\n",
       "  width: 1rem;\n",
       "  text-decoration: none;\n",
       "  /* unfitted */\n",
       "  color: var(--sklearn-color-unfitted-level-1);\n",
       "  border: var(--sklearn-color-unfitted-level-1) 1pt solid;\n",
       "}\n",
       "\n",
       "#sk-container-id-1 a.estimator_doc_link.fitted {\n",
       "  /* fitted */\n",
       "  border: var(--sklearn-color-fitted-level-1) 1pt solid;\n",
       "  color: var(--sklearn-color-fitted-level-1);\n",
       "}\n",
       "\n",
       "/* On hover */\n",
       "#sk-container-id-1 a.estimator_doc_link:hover {\n",
       "  /* unfitted */\n",
       "  background-color: var(--sklearn-color-unfitted-level-3);\n",
       "  color: var(--sklearn-color-background);\n",
       "  text-decoration: none;\n",
       "}\n",
       "\n",
       "#sk-container-id-1 a.estimator_doc_link.fitted:hover {\n",
       "  /* fitted */\n",
       "  background-color: var(--sklearn-color-fitted-level-3);\n",
       "}\n",
       "</style><div id=\"sk-container-id-1\" class=\"sk-top-container\"><div class=\"sk-text-repr-fallback\"><pre>DecisionTreeClassifier(random_state=1)</pre><b>In a Jupyter environment, please rerun this cell to show the HTML representation or trust the notebook. <br />On GitHub, the HTML representation is unable to render, please try loading this page with nbviewer.org.</b></div><div class=\"sk-container\" hidden><div class=\"sk-item\"><div class=\"sk-estimator fitted sk-toggleable\"><input class=\"sk-toggleable__control sk-hidden--visually\" id=\"sk-estimator-id-1\" type=\"checkbox\" checked><label for=\"sk-estimator-id-1\" class=\"sk-toggleable__label fitted sk-toggleable__label-arrow fitted\">&nbsp;&nbsp;DecisionTreeClassifier<a class=\"sk-estimator-doc-link fitted\" rel=\"noreferrer\" target=\"_blank\" href=\"https://scikit-learn.org/1.5/modules/generated/sklearn.tree.DecisionTreeClassifier.html\">?<span>Documentation for DecisionTreeClassifier</span></a><span class=\"sk-estimator-doc-link fitted\">i<span>Fitted</span></span></label><div class=\"sk-toggleable__content fitted\"><pre>DecisionTreeClassifier(random_state=1)</pre></div> </div></div></div></div>"
      ],
      "text/plain": [
       "DecisionTreeClassifier(random_state=1)"
      ]
     },
     "execution_count": 26,
     "metadata": {},
     "output_type": "execute_result"
    }
   ],
   "source": [
    "# Define a ML model to build -- we'll apply a default decision tree classifier first\n",
    "model = DecisionTreeClassifier(random_state=1)\n",
    "\n",
    "# Train the model on the training dataset\n",
    "model.fit(X_train, y_train)"
   ]
  },
  {
   "cell_type": "code",
   "execution_count": 27,
   "id": "f3aa973e-aba8-4821-bc8a-c7769b817af6",
   "metadata": {},
   "outputs": [],
   "source": [
    "y_pred = model.predict(X_train)"
   ]
  },
  {
   "cell_type": "code",
   "execution_count": 28,
   "id": "9cd14635-ec46-4c59-a257-64624e54a261",
   "metadata": {},
   "outputs": [
    {
     "data": {
      "text/plain": [
       "booking_status\n",
       "0    13168\n",
       "1     7664\n",
       "Name: count, dtype: int64"
      ]
     },
     "execution_count": 28,
     "metadata": {},
     "output_type": "execute_result"
    }
   ],
   "source": [
    "y_train.value_counts()"
   ]
  },
  {
   "cell_type": "code",
   "execution_count": 29,
   "id": "rhCzeOmOU5Oq",
   "metadata": {
    "id": "rhCzeOmOU5Oq"
   },
   "outputs": [],
   "source": [
    "# function to visualize confusion matrix with percentage correlations\n",
    "def confusion_matrix_model(model, predictors, target):\n",
    "    \"\"\"\n",
    "    To plot the confusion_matrix with percentages\n",
    "\n",
    "    model: classifier\n",
    "    predictors: independent variables\n",
    "    target: dependent variable\n",
    "    \"\"\"\n",
    "    y_pred = model.predict(predictors)\n",
    "    cm = confusion_matrix(target, y_pred)\n",
    "    labels = np.asarray( #creates the percentages\n",
    "        [\n",
    "            [\"{0:0.0f}\".format(item) + \"\\n{0:.2%}\".format(item / cm.flatten().sum())]\n",
    "            for item in cm.flatten()\n",
    "        ]\n",
    "    ).reshape(2, 2)\n",
    "\n",
    "    plt.figure(figsize=(6, 4))\n",
    "    sns.heatmap(cm, annot=labels, fmt=\"\")\n",
    "    plt.ylabel(\"True label\")\n",
    "    plt.xlabel(\"Predicted label\")"
   ]
  },
  {
   "cell_type": "code",
   "execution_count": 30,
   "id": "6a_TEQtgH-98",
   "metadata": {
    "colab": {
     "base_uri": "https://localhost:8080/",
     "height": 388
    },
    "id": "6a_TEQtgH-98",
    "outputId": "9d4ec31d-adb2-4130-80c8-87d2a97c6e03",
    "scrolled": true
   },
   "outputs": [
    {
     "data": {
      "image/png": "[encoded data removed]",
      "text/plain": [
       "<Figure size 600x400 with 2 Axes>"
      ]
     },
     "metadata": {},
     "output_type": "display_data"
    }
   ],
   "source": [
    "# confusion matrix for train data\n",
    "confusion_matrix_model(model, X_train, y_train)"
   ]
  },
  {
   "cell_type": "code",
   "execution_count": 31,
   "id": "zErjplenL17K",
   "metadata": {
    "colab": {
     "base_uri": "https://localhost:8080/"
    },
    "id": "zErjplenL17K",
    "outputId": "3164a162-cb97-4525-b35b-5aaf4e03219d"
   },
   "outputs": [
    {
     "name": "stdout",
     "output_type": "stream",
     "text": [
      "Model Score on Train Data: 99.28\n"
     ]
    }
   ],
   "source": [
    "# evaluate the model performance on the train data -- we'll use F1 score to balance precision and recall\n",
    "model_train_predictions = model.predict(X_train)\n",
    "model_train_score = f1_score(y_train, model_train_predictions)\n",
    "\n",
    "print(\"Model Score on Train Data:\", np.round(100*model_train_score, 2))"
   ]
  },
  {
   "cell_type": "code",
   "execution_count": 32,
   "id": "73ab5c22",
   "metadata": {
    "id": "73ab5c22",
    "outputId": "685cb22d-6398-4855-9e95-8b5c4660b1fe"
   },
   "outputs": [
    {
     "data": {
      "image/png": "[encoded data removed]",
      "text/plain": [
       "<Figure size 600x400 with 2 Axes>"
      ]
     },
     "metadata": {},
     "output_type": "display_data"
    }
   ],
   "source": [
    "# confusion matrix for test data\n",
    "confusion_matrix_model(model, X_test, y_test)"
   ]
  },
  {
   "cell_type": "code",
   "execution_count": 33,
   "id": "h5RMzGEGPr7A",
   "metadata": {
    "id": "h5RMzGEGPr7A",
    "outputId": "2fb645f6-2af5-4d9b-90a9-7af4fcee41a7"
   },
   "outputs": [
    {
     "name": "stdout",
     "output_type": "stream",
     "text": [
      "Model Score on Test Data: 80.66\n"
     ]
    }
   ],
   "source": [
    "# evaluating the model performance on the test data\n",
    "model_test_predictions = model.predict(X_test)\n",
    "model_test_score = f1_score(y_test, model_test_predictions)\n",
    "\n",
    "print(\"Model Score on Test Data:\", np.round(100*model_test_score, 2))"
   ]
  },
  {
   "cell_type": "markdown",
   "id": "1fd7d0bf",
   "metadata": {
    "id": "1fd7d0bf"
   },
   "source": [
    "###### Observations:\n",
    "\n",
    "* The model was able to correctly predict 56.12% of bookings as not being cancelled on the test data\n",
    "  * Business consequence for errors: Inaccurate predictions for a cancelled booking when it isn't can lead to overbooking, which is amplified during peak seasons or high-demand periods.\n",
    "* The model was able to correctly predict 29.66% a booking as being cancelled\n",
    "  * Business consequence for errors: Inaccurate predictions can lead to unsold rooms, resulting in potential loss of revenue."
   ]
  },
  {
   "cell_type": "markdown",
   "id": "YQJQJEL2R7Dq",
   "metadata": {
    "id": "YQJQJEL2R7Dq"
   },
   "source": [
    "## Observations from Model Evaluation\n",
    "\n",
    "Our ML model has a score of 98.97% on the train data and 80.8% on the test data respectively.\n",
    "\n",
    "- This shows that while the model work really well on the data it is trained on, it fails to replicate the same very high performance on unseen data. This is likely due to the model overfitting on the train data as we no parameter changes were applied.\n",
    "\n",
    "- This becomes a worry as the ultimate goal would be to make predictions for new reservations that have not come in yet, and we do not want a model that will fail to perform well on such unseen data."
   ]
  },
  {
   "cell_type": "markdown",
   "id": "d5812b7b",
   "metadata": {
    "id": "d5812b7b"
   },
   "source": [
    "## Model Tuning"
   ]
  },
  {
   "cell_type": "code",
   "execution_count": 34,
   "id": "fmC6u_TtDYnB",
   "metadata": {
    "id": "fmC6u_TtDYnB"
   },
   "outputs": [],
   "source": [
    "# optimize the performance of our model to improve model performance\n",
    "# applying a class weight of balanced adjusts the weights inversely proportional to class frequencies in the input data \n",
    "dummy_model = DecisionTreeClassifier(random_state=1, class_weight=\"balanced\")\n",
    "\n",
    "# apply grid search for hyperparameter tuning\n",
    "# define the grid of parameters for the ML Model to choose from\n",
    "parameters = {\n",
    "    \"max_leaf_nodes\": [150, 250],\n",
    "    \"min_samples_split\": [10, 30],\n",
    "}\n",
    "\n",
    "# define the model score on which we want to compare parameter combinations\n",
    "acc_scorer = make_scorer(f1_score)\n",
    "\n",
    "# apply the Grid search model tuning algo\n",
    "grid_obj = GridSearchCV(dummy_model, parameters, scoring=acc_scorer, cv=5)\n",
    "grid_obj = grid_obj.fit(X_train, y_train)"
   ]
  },
  {
   "cell_type": "code",
   "execution_count": 35,
   "id": "Ngv2EYSaTZn8",
   "metadata": {
    "id": "Ngv2EYSaTZn8",
    "outputId": "74f60097-9421-4f36-89b5-827fa60634c4"
   },
   "outputs": [
    {
     "data": {
      "text/html": [
       "<style>#sk-container-id-2 {\n",
       "  /* Definition of color scheme common for light and dark mode */\n",
       "  --sklearn-color-text: black;\n",
       "  --sklearn-color-line: gray;\n",
       "  /* Definition of color scheme for unfitted estimators */\n",
       "  --sklearn-color-unfitted-level-0: #fff5e6;\n",
       "  --sklearn-color-unfitted-level-1: #f6e4d2;\n",
       "  --sklearn-color-unfitted-level-2: #ffe0b3;\n",
       "  --sklearn-color-unfitted-level-3: chocolate;\n",
       "  /* Definition of color scheme for fitted estimators */\n",
       "  --sklearn-color-fitted-level-0: #f0f8ff;\n",
       "  --sklearn-color-fitted-level-1: #d4ebff;\n",
       "  --sklearn-color-fitted-level-2: #b3dbfd;\n",
       "  --sklearn-color-fitted-level-3: cornflowerblue;\n",
       "\n",
       "  /* Specific color for light theme */\n",
       "  --sklearn-color-text-on-default-background: var(--sg-text-color, var(--theme-code-foreground, var(--jp-content-font-color1, black)));\n",
       "  --sklearn-color-background: var(--sg-background-color, var(--theme-background, var(--jp-layout-color0, white)));\n",
       "  --sklearn-color-border-box: var(--sg-text-color, var(--theme-code-foreground, var(--jp-content-font-color1, black)));\n",
       "  --sklearn-color-icon: #696969;\n",
       "\n",
       "  @media (prefers-color-scheme: dark) {\n",
       "    /* Redefinition of color scheme for dark theme */\n",
       "    --sklearn-color-text-on-default-background: var(--sg-text-color, var(--theme-code-foreground, var(--jp-content-font-color1, white)));\n",
       "    --sklearn-color-background: var(--sg-background-color, var(--theme-background, var(--jp-layout-color0, #111)));\n",
       "    --sklearn-color-border-box: var(--sg-text-color, var(--theme-code-foreground, var(--jp-content-font-color1, white)));\n",
       "    --sklearn-color-icon: #878787;\n",
       "  }\n",
       "}\n",
       "\n",
       "#sk-container-id-2 {\n",
       "  color: var(--sklearn-color-text);\n",
       "}\n",
       "\n",
       "#sk-container-id-2 pre {\n",
       "  padding: 0;\n",
       "}\n",
       "\n",
       "#sk-container-id-2 input.sk-hidden--visually {\n",
       "  border: 0;\n",
       "  clip: rect(1px 1px 1px 1px);\n",
       "  clip: rect(1px, 1px, 1px, 1px);\n",
       "  height: 1px;\n",
       "  margin: -1px;\n",
       "  overflow: hidden;\n",
       "  padding: 0;\n",
       "  position: absolute;\n",
       "  width: 1px;\n",
       "}\n",
       "\n",
       "#sk-container-id-2 div.sk-dashed-wrapped {\n",
       "  border: 1px dashed var(--sklearn-color-line);\n",
       "  margin: 0 0.4em 0.5em 0.4em;\n",
       "  box-sizing: border-box;\n",
       "  padding-bottom: 0.4em;\n",
       "  background-color: var(--sklearn-color-background);\n",
       "}\n",
       "\n",
       "#sk-container-id-2 div.sk-container {\n",
       "  /* jupyter's `normalize.less` sets `[hidden] { display: none; }`\n",
       "     but bootstrap.min.css set `[hidden] { display: none !important; }`\n",
       "     so we also need the `!important` here to be able to override the\n",
       "     default hidden behavior on the sphinx rendered scikit-learn.org.\n",
       "     See: https://github.com/scikit-learn/scikit-learn/issues/21755 */\n",
       "  display: inline-block !important;\n",
       "  position: relative;\n",
       "}\n",
       "\n",
       "#sk-container-id-2 div.sk-text-repr-fallback {\n",
       "  display: none;\n",
       "}\n",
       "\n",
       "div.sk-parallel-item,\n",
       "div.sk-serial,\n",
       "div.sk-item {\n",
       "  /* draw centered vertical line to link estimators */\n",
       "  background-image: linear-gradient(var(--sklearn-color-text-on-default-background), var(--sklearn-color-text-on-default-background));\n",
       "  background-size: 2px 100%;\n",
       "  background-repeat: no-repeat;\n",
       "  background-position: center center;\n",
       "}\n",
       "\n",
       "/* Parallel-specific style estimator block */\n",
       "\n",
       "#sk-container-id-2 div.sk-parallel-item::after {\n",
       "  content: \"\";\n",
       "  width: 100%;\n",
       "  border-bottom: 2px solid var(--sklearn-color-text-on-default-background);\n",
       "  flex-grow: 1;\n",
       "}\n",
       "\n",
       "#sk-container-id-2 div.sk-parallel {\n",
       "  display: flex;\n",
       "  align-items: stretch;\n",
       "  justify-content: center;\n",
       "  background-color: var(--sklearn-color-background);\n",
       "  position: relative;\n",
       "}\n",
       "\n",
       "#sk-container-id-2 div.sk-parallel-item {\n",
       "  display: flex;\n",
       "  flex-direction: column;\n",
       "}\n",
       "\n",
       "#sk-container-id-2 div.sk-parallel-item:first-child::after {\n",
       "  align-self: flex-end;\n",
       "  width: 50%;\n",
       "}\n",
       "\n",
       "#sk-container-id-2 div.sk-parallel-item:last-child::after {\n",
       "  align-self: flex-start;\n",
       "  width: 50%;\n",
       "}\n",
       "\n",
       "#sk-container-id-2 div.sk-parallel-item:only-child::after {\n",
       "  width: 0;\n",
       "}\n",
       "\n",
       "/* Serial-specific style estimator block */\n",
       "\n",
       "#sk-container-id-2 div.sk-serial {\n",
       "  display: flex;\n",
       "  flex-direction: column;\n",
       "  align-items: center;\n",
       "  background-color: var(--sklearn-color-background);\n",
       "  padding-right: 1em;\n",
       "  padding-left: 1em;\n",
       "}\n",
       "\n",
       "\n",
       "/* Toggleable style: style used for estimator/Pipeline/ColumnTransformer box that is\n",
       "clickable and can be expanded/collapsed.\n",
       "- Pipeline and ColumnTransformer use this feature and define the default style\n",
       "- Estimators will overwrite some part of the style using the `sk-estimator` class\n",
       "*/\n",
       "\n",
       "/* Pipeline and ColumnTransformer style (default) */\n",
       "\n",
       "#sk-container-id-2 div.sk-toggleable {\n",
       "  /* Default theme specific background. It is overwritten whether we have a\n",
       "  specific estimator or a Pipeline/ColumnTransformer */\n",
       "  background-color: var(--sklearn-color-background);\n",
       "}\n",
       "\n",
       "/* Toggleable label */\n",
       "#sk-container-id-2 label.sk-toggleable__label {\n",
       "  cursor: pointer;\n",
       "  display: block;\n",
       "  width: 100%;\n",
       "  margin-bottom: 0;\n",
       "  padding: 0.5em;\n",
       "  box-sizing: border-box;\n",
       "  text-align: center;\n",
       "}\n",
       "\n",
       "#sk-container-id-2 label.sk-toggleable__label-arrow:before {\n",
       "  /* Arrow on the left of the label */\n",
       "  content: \"▸\";\n",
       "  float: left;\n",
       "  margin-right: 0.25em;\n",
       "  color: var(--sklearn-color-icon);\n",
       "}\n",
       "\n",
       "#sk-container-id-2 label.sk-toggleable__label-arrow:hover:before {\n",
       "  color: var(--sklearn-color-text);\n",
       "}\n",
       "\n",
       "/* Toggleable content - dropdown */\n",
       "\n",
       "#sk-container-id-2 div.sk-toggleable__content {\n",
       "  max-height: 0;\n",
       "  max-width: 0;\n",
       "  overflow: hidden;\n",
       "  text-align: left;\n",
       "  /* unfitted */\n",
       "  background-color: var(--sklearn-color-unfitted-level-0);\n",
       "}\n",
       "\n",
       "#sk-container-id-2 div.sk-toggleable__content.fitted {\n",
       "  /* fitted */\n",
       "  background-color: var(--sklearn-color-fitted-level-0);\n",
       "}\n",
       "\n",
       "#sk-container-id-2 div.sk-toggleable__content pre {\n",
       "  margin: 0.2em;\n",
       "  border-radius: 0.25em;\n",
       "  color: var(--sklearn-color-text);\n",
       "  /* unfitted */\n",
       "  background-color: var(--sklearn-color-unfitted-level-0);\n",
       "}\n",
       "\n",
       "#sk-container-id-2 div.sk-toggleable__content.fitted pre {\n",
       "  /* unfitted */\n",
       "  background-color: var(--sklearn-color-fitted-level-0);\n",
       "}\n",
       "\n",
       "#sk-container-id-2 input.sk-toggleable__control:checked~div.sk-toggleable__content {\n",
       "  /* Expand drop-down */\n",
       "  max-height: 200px;\n",
       "  max-width: 100%;\n",
       "  overflow: auto;\n",
       "}\n",
       "\n",
       "#sk-container-id-2 input.sk-toggleable__control:checked~label.sk-toggleable__label-arrow:before {\n",
       "  content: \"▾\";\n",
       "}\n",
       "\n",
       "/* Pipeline/ColumnTransformer-specific style */\n",
       "\n",
       "#sk-container-id-2 div.sk-label input.sk-toggleable__control:checked~label.sk-toggleable__label {\n",
       "  color: var(--sklearn-color-text);\n",
       "  background-color: var(--sklearn-color-unfitted-level-2);\n",
       "}\n",
       "\n",
       "#sk-container-id-2 div.sk-label.fitted input.sk-toggleable__control:checked~label.sk-toggleable__label {\n",
       "  background-color: var(--sklearn-color-fitted-level-2);\n",
       "}\n",
       "\n",
       "/* Estimator-specific style */\n",
       "\n",
       "/* Colorize estimator box */\n",
       "#sk-container-id-2 div.sk-estimator input.sk-toggleable__control:checked~label.sk-toggleable__label {\n",
       "  /* unfitted */\n",
       "  background-color: var(--sklearn-color-unfitted-level-2);\n",
       "}\n",
       "\n",
       "#sk-container-id-2 div.sk-estimator.fitted input.sk-toggleable__control:checked~label.sk-toggleable__label {\n",
       "  /* fitted */\n",
       "  background-color: var(--sklearn-color-fitted-level-2);\n",
       "}\n",
       "\n",
       "#sk-container-id-2 div.sk-label label.sk-toggleable__label,\n",
       "#sk-container-id-2 div.sk-label label {\n",
       "  /* The background is the default theme color */\n",
       "  color: var(--sklearn-color-text-on-default-background);\n",
       "}\n",
       "\n",
       "/* On hover, darken the color of the background */\n",
       "#sk-container-id-2 div.sk-label:hover label.sk-toggleable__label {\n",
       "  color: var(--sklearn-color-text);\n",
       "  background-color: var(--sklearn-color-unfitted-level-2);\n",
       "}\n",
       "\n",
       "/* Label box, darken color on hover, fitted */\n",
       "#sk-container-id-2 div.sk-label.fitted:hover label.sk-toggleable__label.fitted {\n",
       "  color: var(--sklearn-color-text);\n",
       "  background-color: var(--sklearn-color-fitted-level-2);\n",
       "}\n",
       "\n",
       "/* Estimator label */\n",
       "\n",
       "#sk-container-id-2 div.sk-label label {\n",
       "  font-family: monospace;\n",
       "  font-weight: bold;\n",
       "  display: inline-block;\n",
       "  line-height: 1.2em;\n",
       "}\n",
       "\n",
       "#sk-container-id-2 div.sk-label-container {\n",
       "  text-align: center;\n",
       "}\n",
       "\n",
       "/* Estimator-specific */\n",
       "#sk-container-id-2 div.sk-estimator {\n",
       "  font-family: monospace;\n",
       "  border: 1px dotted var(--sklearn-color-border-box);\n",
       "  border-radius: 0.25em;\n",
       "  box-sizing: border-box;\n",
       "  margin-bottom: 0.5em;\n",
       "  /* unfitted */\n",
       "  background-color: var(--sklearn-color-unfitted-level-0);\n",
       "}\n",
       "\n",
       "#sk-container-id-2 div.sk-estimator.fitted {\n",
       "  /* fitted */\n",
       "  background-color: var(--sklearn-color-fitted-level-0);\n",
       "}\n",
       "\n",
       "/* on hover */\n",
       "#sk-container-id-2 div.sk-estimator:hover {\n",
       "  /* unfitted */\n",
       "  background-color: var(--sklearn-color-unfitted-level-2);\n",
       "}\n",
       "\n",
       "#sk-container-id-2 div.sk-estimator.fitted:hover {\n",
       "  /* fitted */\n",
       "  background-color: var(--sklearn-color-fitted-level-2);\n",
       "}\n",
       "\n",
       "/* Specification for estimator info (e.g. \"i\" and \"?\") */\n",
       "\n",
       "/* Common style for \"i\" and \"?\" */\n",
       "\n",
       ".sk-estimator-doc-link,\n",
       "a:link.sk-estimator-doc-link,\n",
       "a:visited.sk-estimator-doc-link {\n",
       "  float: right;\n",
       "  font-size: smaller;\n",
       "  line-height: 1em;\n",
       "  font-family: monospace;\n",
       "  background-color: var(--sklearn-color-background);\n",
       "  border-radius: 1em;\n",
       "  height: 1em;\n",
       "  width: 1em;\n",
       "  text-decoration: none !important;\n",
       "  margin-left: 1ex;\n",
       "  /* unfitted */\n",
       "  border: var(--sklearn-color-unfitted-level-1) 1pt solid;\n",
       "  color: var(--sklearn-color-unfitted-level-1);\n",
       "}\n",
       "\n",
       ".sk-estimator-doc-link.fitted,\n",
       "a:link.sk-estimator-doc-link.fitted,\n",
       "a:visited.sk-estimator-doc-link.fitted {\n",
       "  /* fitted */\n",
       "  border: var(--sklearn-color-fitted-level-1) 1pt solid;\n",
       "  color: var(--sklearn-color-fitted-level-1);\n",
       "}\n",
       "\n",
       "/* On hover */\n",
       "div.sk-estimator:hover .sk-estimator-doc-link:hover,\n",
       ".sk-estimator-doc-link:hover,\n",
       "div.sk-label-container:hover .sk-estimator-doc-link:hover,\n",
       ".sk-estimator-doc-link:hover {\n",
       "  /* unfitted */\n",
       "  background-color: var(--sklearn-color-unfitted-level-3);\n",
       "  color: var(--sklearn-color-background);\n",
       "  text-decoration: none;\n",
       "}\n",
       "\n",
       "div.sk-estimator.fitted:hover .sk-estimator-doc-link.fitted:hover,\n",
       ".sk-estimator-doc-link.fitted:hover,\n",
       "div.sk-label-container:hover .sk-estimator-doc-link.fitted:hover,\n",
       ".sk-estimator-doc-link.fitted:hover {\n",
       "  /* fitted */\n",
       "  background-color: var(--sklearn-color-fitted-level-3);\n",
       "  color: var(--sklearn-color-background);\n",
       "  text-decoration: none;\n",
       "}\n",
       "\n",
       "/* Span, style for the box shown on hovering the info icon */\n",
       ".sk-estimator-doc-link span {\n",
       "  display: none;\n",
       "  z-index: 9999;\n",
       "  position: relative;\n",
       "  font-weight: normal;\n",
       "  right: .2ex;\n",
       "  padding: .5ex;\n",
       "  margin: .5ex;\n",
       "  width: min-content;\n",
       "  min-width: 20ex;\n",
       "  max-width: 50ex;\n",
       "  color: var(--sklearn-color-text);\n",
       "  box-shadow: 2pt 2pt 4pt #999;\n",
       "  /* unfitted */\n",
       "  background: var(--sklearn-color-unfitted-level-0);\n",
       "  border: .5pt solid var(--sklearn-color-unfitted-level-3);\n",
       "}\n",
       "\n",
       ".sk-estimator-doc-link.fitted span {\n",
       "  /* fitted */\n",
       "  background: var(--sklearn-color-fitted-level-0);\n",
       "  border: var(--sklearn-color-fitted-level-3);\n",
       "}\n",
       "\n",
       ".sk-estimator-doc-link:hover span {\n",
       "  display: block;\n",
       "}\n",
       "\n",
       "/* \"?\"-specific style due to the `<a>` HTML tag */\n",
       "\n",
       "#sk-container-id-2 a.estimator_doc_link {\n",
       "  float: right;\n",
       "  font-size: 1rem;\n",
       "  line-height: 1em;\n",
       "  font-family: monospace;\n",
       "  background-color: var(--sklearn-color-background);\n",
       "  border-radius: 1rem;\n",
       "  height: 1rem;\n",
       "  width: 1rem;\n",
       "  text-decoration: none;\n",
       "  /* unfitted */\n",
       "  color: var(--sklearn-color-unfitted-level-1);\n",
       "  border: var(--sklearn-color-unfitted-level-1) 1pt solid;\n",
       "}\n",
       "\n",
       "#sk-container-id-2 a.estimator_doc_link.fitted {\n",
       "  /* fitted */\n",
       "  border: var(--sklearn-color-fitted-level-1) 1pt solid;\n",
       "  color: var(--sklearn-color-fitted-level-1);\n",
       "}\n",
       "\n",
       "/* On hover */\n",
       "#sk-container-id-2 a.estimator_doc_link:hover {\n",
       "  /* unfitted */\n",
       "  background-color: var(--sklearn-color-unfitted-level-3);\n",
       "  color: var(--sklearn-color-background);\n",
       "  text-decoration: none;\n",
       "}\n",
       "\n",
       "#sk-container-id-2 a.estimator_doc_link.fitted:hover {\n",
       "  /* fitted */\n",
       "  background-color: var(--sklearn-color-fitted-level-3);\n",
       "}\n",
       "</style><div id=\"sk-container-id-2\" class=\"sk-top-container\"><div class=\"sk-text-repr-fallback\"><pre>DecisionTreeClassifier(class_weight=&#x27;balanced&#x27;, max_leaf_nodes=150,\n",
       "                       min_samples_split=10, random_state=1)</pre><b>In a Jupyter environment, please rerun this cell to show the HTML representation or trust the notebook. <br />On GitHub, the HTML representation is unable to render, please try loading this page with nbviewer.org.</b></div><div class=\"sk-container\" hidden><div class=\"sk-item\"><div class=\"sk-estimator fitted sk-toggleable\"><input class=\"sk-toggleable__control sk-hidden--visually\" id=\"sk-estimator-id-2\" type=\"checkbox\" checked><label for=\"sk-estimator-id-2\" class=\"sk-toggleable__label fitted sk-toggleable__label-arrow fitted\">&nbsp;&nbsp;DecisionTreeClassifier<a class=\"sk-estimator-doc-link fitted\" rel=\"noreferrer\" target=\"_blank\" href=\"https://scikit-learn.org/1.5/modules/generated/sklearn.tree.DecisionTreeClassifier.html\">?<span>Documentation for DecisionTreeClassifier</span></a><span class=\"sk-estimator-doc-link fitted\">i<span>Fitted</span></span></label><div class=\"sk-toggleable__content fitted\"><pre>DecisionTreeClassifier(class_weight=&#x27;balanced&#x27;, max_leaf_nodes=150,\n",
       "                       min_samples_split=10, random_state=1)</pre></div> </div></div></div></div>"
      ],
      "text/plain": [
       "DecisionTreeClassifier(class_weight='balanced', max_leaf_nodes=150,\n",
       "                       min_samples_split=10, random_state=1)"
      ]
     },
     "execution_count": 35,
     "metadata": {},
     "output_type": "execute_result"
    }
   ],
   "source": [
    "# selecting the best combination of parameters for the model to create a new model\n",
    "tuned_model = grid_obj.best_estimator_\n",
    "\n",
    "# training the new ML Model\n",
    "tuned_model.fit(X_train, y_train)"
   ]
  },
  {
   "cell_type": "code",
   "execution_count": 36,
   "id": "hul0pRuHDYnC",
   "metadata": {
    "id": "hul0pRuHDYnC",
    "outputId": "17a59e99-f64e-4feb-b750-239782deb527"
   },
   "outputs": [
    {
     "name": "stdout",
     "output_type": "stream",
     "text": [
      "Model Score on Train Data: 82.13\n"
     ]
    }
   ],
   "source": [
    "# evaluating the model performance on the train data\n",
    "tuned_model_train_predictions = tuned_model.predict(X_train)\n",
    "tuned_model_train_score = f1_score(y_train, tuned_model_train_predictions)\n",
    "\n",
    "print(\"Model Score on Train Data:\", np.round(100*tuned_model_train_score, 2))"
   ]
  },
  {
   "cell_type": "code",
   "execution_count": 37,
   "id": "ma5As_quUBES",
   "metadata": {
    "id": "ma5As_quUBES",
    "outputId": "f2e3c303-dd82-476f-ccf6-6bc6ca991c20"
   },
   "outputs": [
    {
     "name": "stdout",
     "output_type": "stream",
     "text": [
      "Model Score on Test Data: 80.89\n"
     ]
    }
   ],
   "source": [
    "# evaluating the model performance on the test data\n",
    "tuned_model_test_predictions = tuned_model.predict(X_test)\n",
    "tuned_model_test_score = f1_score(y_test, tuned_model_test_predictions)\n",
    "\n",
    "print(\"Model Score on Test Data:\", np.round(100*tuned_model_test_score, 2))"
   ]
  },
  {
   "cell_type": "markdown",
   "id": "83f395b6",
   "metadata": {
    "id": "83f395b6"
   },
   "source": [
    "- The train and test performances are much more similar now, so we can say that the model is able to generalize well on new data. We move forward with testing to evaluate model performance (identify any errors or weaknesses, test for robustness on unseen data)."
   ]
  },
  {
   "cell_type": "markdown",
   "id": "BJMiIJqlUoXL",
   "metadata": {
    "id": "BJMiIJqlUoXL"
   },
   "source": [
    "## Model Testing"
   ]
  },
  {
   "cell_type": "code",
   "execution_count": 38,
   "id": "oBgtL64-Ub6L",
   "metadata": {
    "id": "oBgtL64-Ub6L"
   },
   "outputs": [],
   "source": [
    "# create a copy of our tuned model\n",
    "# evaluate how well our tuned model performs on unseen data (working with random sampling for this project)\n",
    "final_model = tuned_model"
   ]
  },
  {
   "cell_type": "code",
   "execution_count": 39,
   "id": "1cfc0c5a-d770-436a-a358-65950890e423",
   "metadata": {},
   "outputs": [],
   "source": [
    "# create a new sample from our data\n",
    "X_train_new, X_test_new, y_train_new, y_test_new = train_test_split(\n",
    "    X, y, test_size=0.3, random_state=21\n",
    ")"
   ]
  },
  {
   "cell_type": "code",
   "execution_count": 40,
   "id": "rA3jJ-kxwurk",
   "metadata": {
    "id": "rA3jJ-kxwurk",
    "outputId": "8e110bde-8326-4f49-be75-43320685691a"
   },
   "outputs": [
    {
     "name": "stdout",
     "output_type": "stream",
     "text": [
      "Model Score on Test Data: 81.07\n"
     ]
    }
   ],
   "source": [
    "# evaluating the model performance on the test data\n",
    "final_model_test_predictions = final_model.predict(X_test_new)\n",
    "final_model_test_score = f1_score(y_test_new, final_model_test_predictions)\n",
    "\n",
    "print(\"Model Score on Test Data:\", np.round(100*final_model_test_score, 2))"
   ]
  },
  {
   "cell_type": "markdown",
   "id": "EEo4RR8UZt66",
   "metadata": {
    "id": "EEo4RR8UZt66"
   },
   "source": [
    "- Our ML model has a score of 82% on the test data, which is a good performance score for our first iteration of our prediction model."
   ]
  },
  {
   "cell_type": "markdown",
   "id": "IsqvoVnmxX7h",
   "metadata": {
    "id": "IsqvoVnmxX7h"
   },
   "source": [
    "# **Model Deployment and Monitoring**"
   ]
  },
  {
   "cell_type": "markdown",
   "id": "Xyk8Yp2-9dE_",
   "metadata": {
    "id": "Xyk8Yp2-9dE_"
   },
   "source": [
    "## Model Deployment"
   ]
  },
  {
   "cell_type": "markdown",
   "id": "619eb1a0-b8ec-4380-9a5d-145ed471bee6",
   "metadata": {},
   "source": [
    "* Next step is to deploy the model to prod environment to automate, scale, and efficiently handle modeling of new data to make predictions, recommenations, and generate insights for analysis, decision-making, feedback, model refinement, etc."
   ]
  },
  {
   "cell_type": "code",
   "execution_count": 41,
   "id": "d40d8502",
   "metadata": {
    "id": "d40d8502"
   },
   "outputs": [
    {
     "data": {
      "text/plain": [
       "['hotel_cancellation_prediction_model_v1_0.joblib']"
      ]
     },
     "execution_count": 41,
     "metadata": {},
     "output_type": "execute_result"
    }
   ],
   "source": [
    "# exporting the final model to the disk\n",
    "joblib.dump(final_model, 'hotel_cancellation_prediction_model_v1_0.joblib')"
   ]
  },
  {
   "cell_type": "code",
   "execution_count": 42,
   "id": "6186d901",
   "metadata": {
    "id": "6186d901"
   },
   "outputs": [],
   "source": [
    "# loading the final model from the disk\n",
    "cancellation_predictor = joblib.load('hotel_cancellation_prediction_model_v1_0.joblib')"
   ]
  },
  {
   "cell_type": "code",
   "execution_count": 43,
   "id": "2b2e64d9",
   "metadata": {
    "id": "2b2e64d9"
   },
   "outputs": [],
   "source": [
    "# define a function that will take the necessary inputs and make predictions\n",
    "\n",
    "def predict_cancellation(lead_time, market_segment_type, avg_price_per_room, no_of_adults, no_of_weekend_nights, no_of_week_nights, no_of_special_requests, arrival_month, required_car_parking_space):\n",
    "\n",
    "    # dictionary of inputs\n",
    "    input_data = {\n",
    "        'lead_time': lead_time,\n",
    "        'no_of_special_requests': no_of_special_requests,\n",
    "        'avg_price_per_room': avg_price_per_room,\n",
    "        'no_of_adults': no_of_adults,\n",
    "        'no_of_weekend_nights': no_of_weekend_nights,\n",
    "        'required_car_parking_space': 1.0 if required_car_parking_space == \"Yes\" else 0.0,\n",
    "        'no_of_week_nights': no_of_week_nights,\n",
    "        'arrival_month': arrival_month,\n",
    "        'market_segment_type_Online': 1 if market_segment_type == 'Online' else 0,\n",
    "    }\n",
    "\n",
    "    # create a dataframe using the dictionary of inputs\n",
    "    data_point = pd.DataFrame([input_data])\n",
    "\n",
    "    # predicting the output and probability of the output\n",
    "    prediction = cancellation_predictor.predict(data_point).tolist()\n",
    "    prediction_prob = np.round(100*cancellation_predictor.predict_proba(data_point)[0][0], 2) if prediction == 1 else np.round(100*cancellation_predictor.predict_proba(data_point)[0][1], 2)\n",
    "\n",
    "    # returning the final output\n",
    "    return (\"Yes\", str(prediction_prob)+\"%\") if prediction[0] == 1 else (\"No\", str(prediction_prob)+\"%\")"
   ]
  },
  {
   "cell_type": "code",
   "execution_count": 44,
   "id": "421fee98",
   "metadata": {
    "id": "421fee98"
   },
   "outputs": [],
   "source": [
    "# use gradio to create a sample dashboard of model predictions\n",
    "# creating the deployment input interface\n",
    "model_inputs = [\n",
    "    gr.components.Number(label=\"Lead Time\"),\n",
    "    gr.components.Dropdown(label=\"Market Segment Type\", choices=[\"Online\", \"Offline\"]),\n",
    "    gr.components.Number(label=\"Average Price per Room\"),\n",
    "    gr.components.Number(label=\"Number of Adults\"),\n",
    "    gr.components.Number(label=\"Number of Weekend Nights\"),\n",
    "    gr.components.Number(label=\"Number of Week Nights\"),\n",
    "    gr.components.Number(label=\"Number of Special Requests\"),\n",
    "    gr.components.Dropdown(label=\"Arrival Month\", choices=np.arange(1,13,1).tolist()),\n",
    "    gr.components.Dropdown(label=\"Required Car Parking Space\", choices=[\"Yes\", \"No\"])\n",
    "]\n",
    "\n",
    "# creating the deployment output interface\n",
    "model_outputs = [\n",
    "    gr.Textbox(label=\"Will the booking be cancelled?\"),\n",
    "    gr.Textbox(label=\"Chances of Cancellation\")\n",
    "]"
   ]
  },
  {
   "cell_type": "code",
   "execution_count": 45,
   "id": "1d99c6a0",
   "metadata": {
    "id": "1d99c6a0"
   },
   "outputs": [],
   "source": [
    "# defining the structure of the deployment interface and how the components will interact\n",
    "demo = gr.Interface(\n",
    "    fn = predict_cancellation,\n",
    "    inputs = model_inputs,\n",
    "    outputs = model_outputs,\n",
    "    title = \"Hotel Booking Cancellation Predictor\",\n",
    "    description = \"This interface will predict whether a given hotel booking is likely to be cancelled based on the details of the booking.\",\n",
    ")"
   ]
  },
  {
   "cell_type": "code",
   "execution_count": 46,
   "id": "fad86ac5",
   "metadata": {
    "id": "fad86ac5"
   },
   "outputs": [
    {
     "name": "stdout",
     "output_type": "stream",
     "text": [
      "* Running on local URL:  http://127.0.0.1:7860\n",
      "* Running on public URL: https://94544c5aec7fd08884.gradio.live\n",
      "\n",
      "This share link expires in 72 hours. For free permanent hosting and GPU upgrades, run `gradio deploy` from the terminal in the working directory to deploy to Hugging Face Spaces (https://huggingface.co/spaces)\n",
      "Keyboard interruption in main thread... closing server.\n",
      "Killing tunnel 127.0.0.1:7860 <> https://94544c5aec7fd08884.gradio.live\n"
     ]
    },
    {
     "data": {
      "text/plain": []
     },
     "execution_count": 46,
     "metadata": {},
     "output_type": "execute_result"
    }
   ],
   "source": [
    "# deploying the model\n",
    "demo.launch(inline=False, share=True, debug=True)"
   ]
  },
  {
   "cell_type": "markdown",
   "id": "80d73397-6435-4317-b9c6-4bc7a8fa5dce",
   "metadata": {},
   "source": [
    "![1.PNG](./resources/hotelbooking_project_prediction_dashboard.png)"
   ]
  },
  {
   "cell_type": "code",
   "execution_count": 48,
   "id": "0153b22a",
   "metadata": {
    "id": "0153b22a"
   },
   "outputs": [
    {
     "name": "stdout",
     "output_type": "stream",
     "text": [
      "Closing server running on port: 7860\n"
     ]
    }
   ],
   "source": [
    "# shutting down the deployed model\n",
    "demo.close()"
   ]
  },
  {
   "cell_type": "markdown",
   "id": "zTnZT4dd3-A7",
   "metadata": {
    "id": "zTnZT4dd3-A7"
   },
   "source": [
    "# **Metrics and Dashboarding**"
   ]
  },
  {
   "cell_type": "markdown",
   "id": "bPfTpEXq3Tb5",
   "metadata": {
    "id": "bPfTpEXq3Tb5"
   },
   "source": [
    "### Dashboard for the Data Team"
   ]
  },
  {
   "cell_type": "markdown",
   "id": "a4417db6-8eb2-4627-8d74-4f1bedf5a885",
   "metadata": {},
   "source": [
    "![2.png](./resources/hotelbooking_project_prediction_modelperformance_dashboard.png)"
   ]
  },
  {
   "cell_type": "markdown",
   "id": "33Sz-y6Z3X_E",
   "metadata": {
    "id": "33Sz-y6Z3X_E"
   },
   "source": [
    "### Dashboard for the Property Manager"
   ]
  },
  {
   "cell_type": "markdown",
   "id": "441c256d-b437-4639-8224-5be178207a8e",
   "metadata": {},
   "source": [
    "![3.PNG](./resources/hotelbooking_project_prediction_manager_dashboard.png)"
   ]
  },
  {
   "cell_type": "markdown",
   "id": "2k65vXYU3b1T",
   "metadata": {
    "id": "2k65vXYU3b1T"
   },
   "source": [
    "### Dashboard for the Leadership"
   ]
  },
  {
   "cell_type": "markdown",
   "id": "5dYxuWs43eLo",
   "metadata": {
    "id": "5dYxuWs43eLo"
   },
   "source": [
    "![4.PNG](./resources/hotelbooking_project_prediction_leadership_dashboard.png)"
   ]
  },
  {
   "cell_type": "markdown",
   "id": "Npi2-BHbFwAz",
   "metadata": {
    "id": "Npi2-BHbFwAz"
   },
   "source": [
    "![5.PNG](./resources/hotelbooking_project_prediction_leadership_revenue_dashboard.png)"
   ]
  },
  {
   "cell_type": "markdown",
   "id": "fVZ3zMe9T4yh",
   "metadata": {
    "id": "fVZ3zMe9T4yh"
   },
   "source": [
    "**Note**: The above charts are indicative in nature."
   ]
  },
  {
   "cell_type": "markdown",
   "id": "Omc-RpFIV_yg",
   "metadata": {
    "id": "Omc-RpFIV_yg"
   },
   "source": [
    "# **Decision Making**"
   ]
  },
  {
   "cell_type": "markdown",
   "id": "kmId0iXQ2k11",
   "metadata": {
    "id": "kmId0iXQ2k11"
   },
   "source": [
    "**The trends of model performance along with the revenue loss incurred is useful for the Data Team.** They can use it to:\n",
    "- monitor the model's performance over time\n",
    "- correlate it with financial numbers to gauge the  business impact\n",
    "- set thresholds for the acceptable lower limit of model performance\n",
    "- decide when to retrain the model"
   ]
  },
  {
   "cell_type": "markdown",
   "id": "CeEx5syk3oj3",
   "metadata": {
    "id": "CeEx5syk3oj3"
   },
   "source": [
    "**The property manager can use the dashboard to:**\n",
    "- understand the current status of bookings over a date range\n",
    "- identify the number of potential vacancies due to likely cancellations\n",
    "- decide when to stop taking further bookings to avoid overbooking"
   ]
  },
  {
   "cell_type": "markdown",
   "id": "w1z-7KLM4Dg7",
   "metadata": {
    "id": "w1z-7KLM4Dg7"
   },
   "source": [
    "**The leadership can use the dashboard to understand the impact of the Data Science solution to:**\n",
    "- reduce number of booking cancellations\n",
    "- stragetize for increasing revenue"
   ]
  },
  {
   "cell_type": "markdown",
   "id": "SAJoC9YR1OKR",
   "metadata": {
    "id": "SAJoC9YR1OKR"
   },
   "source": [
    "**Business impact of our applying a predictive modeling solution.**\n",
    "\n",
    "- In the six months prior to the Data Science solution, the revenue stood at \\$0.7 million\n",
    "- Post implementation of the Data Science solution, the revenue over the next 6 months stood at \\$0.85 million\n",
    "- So, **the productionized model has helped increase the revenue by ~21%**"
   ]
  }
 ],
 "metadata": {
  "colab": {
   "provenance": []
  },
  "kernelspec": {
   "display_name": "Python 3 (ipykernel)",
   "language": "python",
   "name": "python3"
  },
  "language_info": {
   "codemirror_mode": {
    "name": "ipython",
    "version": 3
   },
   "file_extension": ".py",
   "mimetype": "text/x-python",
   "name": "python",
   "nbconvert_exporter": "python",
   "pygments_lexer": "ipython3",
   "version": "3.11.9"
  }
 },
 "nbformat": 4,
 "nbformat_minor": 5
}
