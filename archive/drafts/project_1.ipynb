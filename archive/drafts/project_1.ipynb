{
 "cells": [
  {
   "cell_type": "markdown",
   "metadata": {},
   "source": [
    "Using census income data (unclean file), can we build a predictive model to determine income levels across different cities (states) for adults (18-30) and to understand what features best contribute to predicting income levels?\n",
    "\n",
    "Datafiles: http://archive.ics.uci.edu/ml/machine-learning-databases/census-income-mld/\n",
    "\n",
    "Extract census-income-mld.gz (census-income.data)\n",
    "This file requires data cleaning:\n",
    " - missing column headers\n",
    "     - need to confirm names of each column (this was confirmed by checking against a subset of rows)\n",
    "     - reencode features (columns) to human readable format\n",
    " - lines should be converted from string to comma-seperated fields"
   ]
  },
  {
   "cell_type": "code",
   "execution_count": 19,
   "metadata": {},
   "outputs": [
    {
     "name": "stdout",
     "output_type": "stream",
     "text": [
      "(100, 42)\n",
      "  age                 class_of_worker industry_code occupation_code  \\\n",
      "0  73                 Not in universe             0               0   \n",
      "1  58  Self-employed-not incorporated             4              34   \n",
      "2  18                 Not in universe             0               0   \n",
      "\n",
      "                    education wage_per_hour enrolled_in_edu_inst_lastwk  \\\n",
      "0        High school graduate             0             Not in universe   \n",
      "1  Some college but no degree             0             Not in universe   \n",
      "2                  10th grade             0                 High school   \n",
      "\n",
      "  marital_status          major_industry_code  \\\n",
      "0        Widowed  Not in universe or children   \n",
      "1       Divorced                 Construction   \n",
      "2  Never married  Not in universe or children   \n",
      "\n",
      "                 major_occupation_code  ... country_father country_mother  \\\n",
      "0                      Not in universe  ...  United-States  United-States   \n",
      "1  Precision production craft & repair  ...  United-States  United-States   \n",
      "2                      Not in universe  ...        Vietnam        Vietnam   \n",
      "\n",
      "    country_self                         citizenship  \\\n",
      "0  United-States   Native- Born in the United States   \n",
      "1  United-States   Native- Born in the United States   \n",
      "2        Vietnam  Foreign born- Not a citizen of U S   \n",
      "\n",
      "  business_or_self_employed fill_questionnaire_veteran_admin  \\\n",
      "0                         0                  Not in universe   \n",
      "1                         0                  Not in universe   \n",
      "2                         0                  Not in universe   \n",
      "\n",
      "  veterans_benefits weeks_worked_in_year year income_level  \n",
      "0                 2                    0   95     - 50000.  \n",
      "1                 2                   52   94     - 50000.  \n",
      "2                 2                    0   95     - 50000.  \n",
      "\n",
      "[3 rows x 42 columns]\n",
      "42\n"
     ]
    }
   ],
   "source": [
    "import os\n",
    "import pandas as pd\n",
    "from itertools import islice\n",
    "\n",
    "datafile = open(\"census-income.data\")\n",
    "colnames = ['age', 'class_of_worker', 'industry_code', 'occupation_code', 'education', 'wage_per_hour', 'enrolled_in_edu_inst_lastwk', 'marital_status', 'major_industry_code', 'major_occupation_code', 'race', 'hispanic_origin', 'sex', 'member_of_labor_union', 'reason_for_unemployment', 'full_parttime_employment_stat', 'capital_gains', 'capital_losses', 'dividend_from_Stocks', 'tax_filer_status', 'region_of_previous_residence', 'state_of_previous_residence', 'd_household_family_stat', 'd_household_summary','total person earnings', 'migration_msa', 'migration_reg', 'migration_within_reg', 'live_1_year_ago', 'migration_sunbelt', 'num_person_Worked_employer', 'family_members_under_18', 'country_father', 'country_mother', 'country_self', 'citizenship', 'business_or_self_employed', 'fill_questionnaire_veteran_admin', 'veterans_benefits', 'weeks_worked_in_year', 'year', 'income_level']\n",
    "lines = []\n",
    "#for line in datafile -- test the first 100 rows:\n",
    "for line in islice(datafile,100):\n",
    "  line = line.strip().split(',')\n",
    "  line = [x.strip() for x in line]\n",
    "  lines.append(line)\n",
    "df = pd.DataFrame(lines)\n",
    "df.columns = colnames\n",
    "print(df.shape)\n",
    "print(df.head(3))\n",
    "print(len(colnames))\n",
    "df.head(50).to_csv(\"temp1.csv\",index=False)\n",
    "datafile.close()"
   ]
  },
  {
   "cell_type": "code",
   "execution_count": 4,
   "metadata": {},
   "outputs": [
    {
     "data": {
      "text/plain": [
       "(10, 42)"
      ]
     },
     "execution_count": 4,
     "metadata": {},
     "output_type": "execute_result"
    }
   ],
   "source": [
    "df.shape"
   ]
  },
  {
   "cell_type": "markdown",
   "metadata": {
    "collapsed": true
   },
   "source": [
    "The variable income_level was encoded in the dataset as -50000 to indicate income level under 50K and 50000 to indicate income level is 50K. This should be encoded into a binary/category type"
   ]
  },
  {
   "cell_type": "code",
   "execution_count": null,
   "metadata": {},
   "outputs": [],
   "source": []
  }
 ],
 "metadata": {
  "kernelspec": {
   "display_name": "Python 3",
   "language": "python",
   "name": "python3"
  },
  "language_info": {
   "codemirror_mode": {
    "name": "ipython",
    "version": 3
   },
   "file_extension": ".py",
   "mimetype": "text/x-python",
   "name": "python",
   "nbconvert_exporter": "python",
   "pygments_lexer": "ipython3",
   "version": "3.7.3"
  }
 },
 "nbformat": 4,
 "nbformat_minor": 2
}
