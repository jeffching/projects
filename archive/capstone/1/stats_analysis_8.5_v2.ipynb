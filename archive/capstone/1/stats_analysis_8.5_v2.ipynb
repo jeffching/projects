{
 "cells": [
  {
   "cell_type": "code",
   "execution_count": 3,
   "metadata": {},
   "outputs": [],
   "source": [
    "import pandas as pd\n",
    "import numpy as np\n",
    "import scipy.stats\n",
    "import matplotlib.pyplot as plt\n",
    "import seaborn as sns \n",
    "from numpy.random import seed"
   ]
  },
  {
   "cell_type": "code",
   "execution_count": 4,
   "metadata": {},
   "outputs": [],
   "source": [
    "data = pd.read_csv(\"default_of_credit_card_clients.csv\") #this is the cleaned dataset"
   ]
  },
  {
   "cell_type": "code",
   "execution_count": 5,
   "metadata": {},
   "outputs": [
    {
     "data": {
      "text/plain": [
       "Index(['limit_bal', 'sex', 'education', 'marriage', 'age', 'pay_0', 'pay_2',\n",
       "       'pay_3', 'pay_4', 'pay_5', 'pay_6', 'bill_amt1', 'bill_amt2',\n",
       "       'bill_amt3', 'bill_amt4', 'bill_amt5', 'bill_amt6', 'pay_amt1',\n",
       "       'pay_amt2', 'pay_amt3', 'pay_amt4', 'pay_amt5', 'pay_amt6',\n",
       "       'defaulted'],\n",
       "      dtype='object')"
      ]
     },
     "execution_count": 5,
     "metadata": {},
     "output_type": "execute_result"
    }
   ],
   "source": [
    "data.columns"
   ]
  },
  {
   "cell_type": "markdown",
   "metadata": {},
   "source": [
    "<h4>Cleaned dataset description</h4>"
   ]
  },
  {
   "cell_type": "markdown",
   "metadata": {},
   "source": [
    "|variable   | description  | \n",
    "|---|---|\n",
    "|limit_bal | Amount of the given credit (NT dollar): it includes both the individual consumer credit and his/her family (supplementary) credit|\n",
    "| sex | Gender (1 = male; 2 = female)|\n",
    "| education | Education (1 = graduate school; 2 = university; 3 = high school; 4 = others)|\n",
    "| marriage | Marital status (1 = married; 2 = single; 3 = others)|\n",
    "|age| Age (year)|\n",
    "|pay_0 - pay_6 | History of past monthly payment records (from April to September, 2005): pay_0 = the repayment status in September, 2005; pay_1 = the repayment status in August, 2005; . . .;pay_6 = the repayment status in April, 2005. The measurement scale for the repayment status is: -1 = pay on time; 1 = payment delay for one month; 2 = payment delay for two months; . . .; 8 = payment delay for eight months; 9 = payment delay for nine months and above.|\n",
    "|bill_amt1 - bill_amt6 | Amount of bill statement (New Taiwan dollar). bill_amt1 = amount of bill statement in September, 2005; bill_amt2 = amount of bill statement in August, 2005; . . .; bill_amt6 = amount of bill statement in April, 2005. |\n",
    "|pay_amt1 - pay_amt6 | Amount of previous payment (New Taiwan dollar). pay_amt1 = amount paid in September, 2005; pay_amt2 = amount paid in August, 2005; . . .;pay_amt6 = amount paid in April, 2005. |\n",
    "| defaulted | whether or not client defaulted: 1 = yes; 0 = no |"
   ]
  },
  {
   "cell_type": "code",
   "execution_count": 9,
   "metadata": {},
   "outputs": [
    {
     "data": {
      "text/html": [
       "<div>\n",
       "<style scoped>\n",
       "    .dataframe tbody tr th:only-of-type {\n",
       "        vertical-align: middle;\n",
       "    }\n",
       "\n",
       "    .dataframe tbody tr th {\n",
       "        vertical-align: top;\n",
       "    }\n",
       "\n",
       "    .dataframe thead th {\n",
       "        text-align: right;\n",
       "    }\n",
       "</style>\n",
       "<table border=\"1\" class=\"dataframe\">\n",
       "  <thead>\n",
       "    <tr style=\"text-align: right;\">\n",
       "      <th></th>\n",
       "      <th>limit_bal</th>\n",
       "      <th>sex</th>\n",
       "      <th>education</th>\n",
       "      <th>marriage</th>\n",
       "      <th>age</th>\n",
       "      <th>pay_0</th>\n",
       "      <th>pay_2</th>\n",
       "      <th>pay_3</th>\n",
       "      <th>pay_4</th>\n",
       "      <th>pay_5</th>\n",
       "      <th>...</th>\n",
       "      <th>bill_amt4</th>\n",
       "      <th>bill_amt5</th>\n",
       "      <th>bill_amt6</th>\n",
       "      <th>pay_amt1</th>\n",
       "      <th>pay_amt2</th>\n",
       "      <th>pay_amt3</th>\n",
       "      <th>pay_amt4</th>\n",
       "      <th>pay_amt5</th>\n",
       "      <th>pay_amt6</th>\n",
       "      <th>defaulted</th>\n",
       "    </tr>\n",
       "  </thead>\n",
       "  <tbody>\n",
       "    <tr>\n",
       "      <th>0</th>\n",
       "      <td>20000</td>\n",
       "      <td>2</td>\n",
       "      <td>2</td>\n",
       "      <td>1</td>\n",
       "      <td>24</td>\n",
       "      <td>2</td>\n",
       "      <td>2</td>\n",
       "      <td>-1</td>\n",
       "      <td>-1</td>\n",
       "      <td>-2</td>\n",
       "      <td>...</td>\n",
       "      <td>0</td>\n",
       "      <td>0</td>\n",
       "      <td>0</td>\n",
       "      <td>0</td>\n",
       "      <td>689</td>\n",
       "      <td>0</td>\n",
       "      <td>0</td>\n",
       "      <td>0</td>\n",
       "      <td>0</td>\n",
       "      <td>1</td>\n",
       "    </tr>\n",
       "    <tr>\n",
       "      <th>1</th>\n",
       "      <td>120000</td>\n",
       "      <td>2</td>\n",
       "      <td>2</td>\n",
       "      <td>2</td>\n",
       "      <td>26</td>\n",
       "      <td>-1</td>\n",
       "      <td>2</td>\n",
       "      <td>0</td>\n",
       "      <td>0</td>\n",
       "      <td>0</td>\n",
       "      <td>...</td>\n",
       "      <td>3272</td>\n",
       "      <td>3455</td>\n",
       "      <td>3261</td>\n",
       "      <td>0</td>\n",
       "      <td>1000</td>\n",
       "      <td>1000</td>\n",
       "      <td>1000</td>\n",
       "      <td>0</td>\n",
       "      <td>2000</td>\n",
       "      <td>1</td>\n",
       "    </tr>\n",
       "    <tr>\n",
       "      <th>2</th>\n",
       "      <td>90000</td>\n",
       "      <td>2</td>\n",
       "      <td>2</td>\n",
       "      <td>2</td>\n",
       "      <td>34</td>\n",
       "      <td>0</td>\n",
       "      <td>0</td>\n",
       "      <td>0</td>\n",
       "      <td>0</td>\n",
       "      <td>0</td>\n",
       "      <td>...</td>\n",
       "      <td>14331</td>\n",
       "      <td>14948</td>\n",
       "      <td>15549</td>\n",
       "      <td>1518</td>\n",
       "      <td>1500</td>\n",
       "      <td>1000</td>\n",
       "      <td>1000</td>\n",
       "      <td>1000</td>\n",
       "      <td>5000</td>\n",
       "      <td>0</td>\n",
       "    </tr>\n",
       "    <tr>\n",
       "      <th>3</th>\n",
       "      <td>50000</td>\n",
       "      <td>2</td>\n",
       "      <td>2</td>\n",
       "      <td>1</td>\n",
       "      <td>37</td>\n",
       "      <td>0</td>\n",
       "      <td>0</td>\n",
       "      <td>0</td>\n",
       "      <td>0</td>\n",
       "      <td>0</td>\n",
       "      <td>...</td>\n",
       "      <td>28314</td>\n",
       "      <td>28959</td>\n",
       "      <td>29547</td>\n",
       "      <td>2000</td>\n",
       "      <td>2019</td>\n",
       "      <td>1200</td>\n",
       "      <td>1100</td>\n",
       "      <td>1069</td>\n",
       "      <td>1000</td>\n",
       "      <td>0</td>\n",
       "    </tr>\n",
       "    <tr>\n",
       "      <th>4</th>\n",
       "      <td>50000</td>\n",
       "      <td>1</td>\n",
       "      <td>2</td>\n",
       "      <td>1</td>\n",
       "      <td>57</td>\n",
       "      <td>-1</td>\n",
       "      <td>0</td>\n",
       "      <td>-1</td>\n",
       "      <td>0</td>\n",
       "      <td>0</td>\n",
       "      <td>...</td>\n",
       "      <td>20940</td>\n",
       "      <td>19146</td>\n",
       "      <td>19131</td>\n",
       "      <td>2000</td>\n",
       "      <td>36681</td>\n",
       "      <td>10000</td>\n",
       "      <td>9000</td>\n",
       "      <td>689</td>\n",
       "      <td>679</td>\n",
       "      <td>0</td>\n",
       "    </tr>\n",
       "  </tbody>\n",
       "</table>\n",
       "<p>5 rows × 24 columns</p>\n",
       "</div>"
      ],
      "text/plain": [
       "   limit_bal sex education marriage  age  pay_0  pay_2  pay_3  pay_4  pay_5  \\\n",
       "0      20000   2         2        1   24      2      2     -1     -1     -2   \n",
       "1     120000   2         2        2   26     -1      2      0      0      0   \n",
       "2      90000   2         2        2   34      0      0      0      0      0   \n",
       "3      50000   2         2        1   37      0      0      0      0      0   \n",
       "4      50000   1         2        1   57     -1      0     -1      0      0   \n",
       "\n",
       "   ...  bill_amt4  bill_amt5  bill_amt6  pay_amt1  pay_amt2  pay_amt3  \\\n",
       "0  ...          0          0          0         0       689         0   \n",
       "1  ...       3272       3455       3261         0      1000      1000   \n",
       "2  ...      14331      14948      15549      1518      1500      1000   \n",
       "3  ...      28314      28959      29547      2000      2019      1200   \n",
       "4  ...      20940      19146      19131      2000     36681     10000   \n",
       "\n",
       "   pay_amt4  pay_amt5  pay_amt6  defaulted  \n",
       "0         0         0         0          1  \n",
       "1      1000         0      2000          1  \n",
       "2      1000      1000      5000          0  \n",
       "3      1100      1069      1000          0  \n",
       "4      9000       689       679          0  \n",
       "\n",
       "[5 rows x 24 columns]"
      ]
     },
     "execution_count": 9,
     "metadata": {},
     "output_type": "execute_result"
    }
   ],
   "source": [
    "data.head()"
   ]
  },
  {
   "cell_type": "markdown",
   "metadata": {},
   "source": [
    "To perform statistical inference on our dataset, we can consider applying frequentism and bootstrapping as suitable methods for this dataset. We can select a few variables of interest that may indicate differences among defaulters and non-defaulters. Take a look at the categorical variables:"
   ]
  },
  {
   "cell_type": "code",
   "execution_count": 8,
   "metadata": {},
   "outputs": [],
   "source": [
    "data[['sex','education','marriage']] = data[['sex','education','marriage']].astype('category')"
   ]
  },
  {
   "cell_type": "code",
   "execution_count": 10,
   "metadata": {},
   "outputs": [],
   "source": [
    "non_defaulted = data[data.defaulted == 0]\n",
    "defaulted = data[data.defaulted == 1]"
   ]
  },
  {
   "cell_type": "markdown",
   "metadata": {},
   "source": [
    "Compare education:"
   ]
  },
  {
   "cell_type": "code",
   "execution_count": 11,
   "metadata": {},
   "outputs": [
    {
     "data": {
      "text/plain": [
       "1    0.368134\n",
       "2    0.458762\n",
       "3    0.154621\n",
       "4    0.018483\n",
       "Name: education, dtype: float64"
      ]
     },
     "execution_count": 11,
     "metadata": {},
     "output_type": "execute_result"
    }
   ],
   "source": [
    "non_defaulted.education.value_counts(normalize=True).sort_index()"
   ]
  },
  {
   "cell_type": "code",
   "execution_count": 12,
   "metadata": {},
   "outputs": [
    {
     "data": {
      "text/plain": [
       "1    0.308943\n",
       "2    0.501150\n",
       "3    0.184844\n",
       "4    0.005062\n",
       "Name: education, dtype: float64"
      ]
     },
     "execution_count": 12,
     "metadata": {},
     "output_type": "execute_result"
    }
   ],
   "source": [
    "defaulted.education.value_counts(normalize=True).sort_index()"
   ]
  },
  {
   "cell_type": "markdown",
   "metadata": {},
   "source": [
    "Compare gender:"
   ]
  },
  {
   "cell_type": "code",
   "execution_count": 13,
   "metadata": {},
   "outputs": [
    {
     "data": {
      "text/plain": [
       "1    0.385702\n",
       "2    0.614298\n",
       "Name: sex, dtype: float64"
      ]
     },
     "execution_count": 13,
     "metadata": {},
     "output_type": "execute_result"
    }
   ],
   "source": [
    "non_defaulted.sex.value_counts(normalize=True).sort_index()"
   ]
  },
  {
   "cell_type": "code",
   "execution_count": 14,
   "metadata": {},
   "outputs": [
    {
     "data": {
      "text/plain": [
       "1    0.431815\n",
       "2    0.568185\n",
       "Name: sex, dtype: float64"
      ]
     },
     "execution_count": 14,
     "metadata": {},
     "output_type": "execute_result"
    }
   ],
   "source": [
    "defaulted.sex.value_counts(normalize=True).sort_index()"
   ]
  },
  {
   "cell_type": "markdown",
   "metadata": {},
   "source": [
    "Compare marriage:"
   ]
  },
  {
   "cell_type": "code",
   "execution_count": 15,
   "metadata": {},
   "outputs": [
    {
     "data": {
      "text/plain": [
       "1    0.45279\n",
       "2    0.54721\n",
       "Name: marriage, dtype: float64"
      ]
     },
     "execution_count": 15,
     "metadata": {},
     "output_type": "execute_result"
    }
   ],
   "source": [
    "non_defaulted.marriage.value_counts(normalize=True).sort_index()"
   ]
  },
  {
   "cell_type": "code",
   "execution_count": 16,
   "metadata": {},
   "outputs": [
    {
     "data": {
      "text/plain": [
       "1    0.489952\n",
       "2    0.510048\n",
       "Name: marriage, dtype: float64"
      ]
     },
     "execution_count": 16,
     "metadata": {},
     "output_type": "execute_result"
    }
   ],
   "source": [
    "defaulted.marriage.value_counts(normalize=True).sort_index()"
   ]
  },
  {
   "cell_type": "markdown",
   "metadata": {},
   "source": [
    "The categorical variables do not appear to be a strong indicator of default behavior so we can instead consider the numerical variables such as limit balance `limit_bal` and payment history `pay_0 - pay_6`. An assumption is that clients who show a trend of delinquint payments are likely to default.\n",
    "\n",
    "Let's look at limit balance first."
   ]
  },
  {
   "cell_type": "code",
   "execution_count": 17,
   "metadata": {},
   "outputs": [
    {
     "data": {
      "text/plain": [
       "count     29459.000000\n",
       "mean     167079.319733\n",
       "std      128780.333592\n",
       "min       10000.000000\n",
       "25%       50000.000000\n",
       "50%      140000.000000\n",
       "75%      240000.000000\n",
       "max      800000.000000\n",
       "Name: limit_bal, dtype: float64"
      ]
     },
     "execution_count": 17,
     "metadata": {},
     "output_type": "execute_result"
    }
   ],
   "source": [
    "data.limit_bal.describe()"
   ]
  },
  {
   "cell_type": "code",
   "execution_count": 18,
   "metadata": {},
   "outputs": [
    {
     "data": {
      "text/plain": [
       "count      6519.000000\n",
       "mean     129981.236386\n",
       "std      114780.414640\n",
       "min       10000.000000\n",
       "25%       50000.000000\n",
       "50%       90000.000000\n",
       "75%      200000.000000\n",
       "max      740000.000000\n",
       "Name: limit_bal, dtype: float64"
      ]
     },
     "execution_count": 18,
     "metadata": {},
     "output_type": "execute_result"
    }
   ],
   "source": [
    "defaulted.limit_bal.describe()"
   ]
  },
  {
   "cell_type": "code",
   "execution_count": 19,
   "metadata": {},
   "outputs": [
    {
     "data": {
      "text/plain": [
       "count     22940.000000\n",
       "mean     177621.708806\n",
       "std      130582.223294\n",
       "min       10000.000000\n",
       "25%       70000.000000\n",
       "50%      150000.000000\n",
       "75%      250000.000000\n",
       "max      800000.000000\n",
       "Name: limit_bal, dtype: float64"
      ]
     },
     "execution_count": 19,
     "metadata": {},
     "output_type": "execute_result"
    }
   ],
   "source": [
    "non_defaulted.limit_bal.describe()"
   ]
  },
  {
   "cell_type": "code",
   "execution_count": 20,
   "metadata": {},
   "outputs": [
    {
     "data": {
      "text/plain": [
       "<matplotlib.axes._subplots.AxesSubplot at 0x7fbb31314670>"
      ]
     },
     "execution_count": 20,
     "metadata": {},
     "output_type": "execute_result"
    },
    {
     "data": {
      "image/png": "[encoded data removed]",
      "text/plain": [
       "<Figure size 432x288 with 1 Axes>"
      ]
     },
     "metadata": {
      "needs_background": "light"
     },
     "output_type": "display_data"
    }
   ],
   "source": [
    "non_defaulted.limit_bal.hist(histtype='step')\n",
    "defaulted.limit_bal.hist(histtype='step')"
   ]
  },
  {
   "cell_type": "markdown",
   "metadata": {},
   "source": [
    "From the histogram and summary statistics, we see there is a starker contrast in starting limit balances among defaulters than non-defaulters. Both the mean and 75% quartile is significantly higher for non-defaulters compared to defaulters (mean ~ 130K vs 178K, 75% ~ 200K vs 250K respectively). Both groups appear to follow a left skewed distrubtion, however non-default groups have a much higher frequency of clients between 100K to ~230K. We can take a look at repayment status `pay_x`."
   ]
  },
  {
   "cell_type": "code",
   "execution_count": 21,
   "metadata": {},
   "outputs": [],
   "source": [
    "pay_cols = ['pay_0','pay_2','pay_3','pay_4','pay_5','pay_6']"
   ]
  },
  {
   "cell_type": "code",
   "execution_count": 23,
   "metadata": {},
   "outputs": [
    {
     "data": {
      "image/png": "[encoded data removed]",
      "text/plain": [
       "<Figure size 432x288 with 1 Axes>"
      ]
     },
     "metadata": {
      "needs_background": "light"
     },
     "output_type": "display_data"
    },
    {
     "data": {
      "image/png": "[encoded data removed]",
      "text/plain": [
       "<Figure size 432x288 with 1 Axes>"
      ]
     },
     "metadata": {
      "needs_background": "light"
     },
     "output_type": "display_data"
    },
    {
     "data": {
      "image/png": "[encoded data removed]",
      "text/plain": [
       "<Figure size 432x288 with 1 Axes>"
      ]
     },
     "metadata": {
      "needs_background": "light"
     },
     "output_type": "display_data"
    },
    {
     "data": {
      "image/png": "[encoded data removed]",
      "text/plain": [
       "<Figure size 432x288 with 1 Axes>"
      ]
     },
     "metadata": {
      "needs_background": "light"
     },
     "output_type": "display_data"
    },
    {
     "data": {
      "image/png": "[encoded data removed]",
      "text/plain": [
       "<Figure size 432x288 with 1 Axes>"
      ]
     },
     "metadata": {
      "needs_background": "light"
     },
     "output_type": "display_data"
    },
    {
     "data": {
      "image/png": "[encoded data removed]",
      "text/plain": [
       "<Figure size 432x288 with 1 Axes>"
      ]
     },
     "metadata": {
      "needs_background": "light"
     },
     "output_type": "display_data"
    }
   ],
   "source": [
    "#plot the frequencies\n",
    "for i in range(len(pay_cols)):\n",
    "    _ = non_defaulted[str(pay_cols[i])].hist(histtype='step',label='non defaulted')\n",
    "    _ = defaulted[str(pay_cols[i])].hist(histtype='step',label='defaulted')\n",
    "    plt.ylabel('frequency')\n",
    "    plt.legend()\n",
    "    plt.title(pay_cols[i])\n",
    "    plt.show()"
   ]
  },
  {
   "cell_type": "markdown",
   "metadata": {},
   "source": [
    "We see in the histograms that for repayment status, the default group shows a stronger contrast in repayment delay in the `pay_0` and `pay_6` recorded features. That is, the  repayment status in September, 2005, which is the first recorded payment status, and repayment status in April, 2005, which is the last recorded payment status show defaulters being behind payments by 2 months much more frequent. As a result we can consider using `limit_bal`,`pay_0` and `pay_6` for statisical inference. "
   ]
  },
  {
   "cell_type": "markdown",
   "metadata": {},
   "source": [
    "For limit balance, we can consider a hypothesis test where we believe defaulters will have a significantly lower limit balance than non-defaults. That is, we observe the mean of the limit balance is significantly lower for non-defaulters than non-defaulters. (S/N: Does giving a higher limit balance make a huge difference whether a customer will default?). We can construct a one-tailed frequentist test to determine if there is a difference between charges in the left direction (< 177621, the non-default group mean balance)."
   ]
  },
  {
   "cell_type": "markdown",
   "metadata": {},
   "source": [
    "#### Frequentist Test"
   ]
  },
  {
   "cell_type": "code",
   "execution_count": 24,
   "metadata": {},
   "outputs": [],
   "source": [
    "#we can consider performing more samples and then taking the averages of these samples to have more representative statistics\n",
    "seed(123)\n",
    "s_means = []\n",
    "\n",
    "# calculate 1000 means sampled from the larger dataset\n",
    "for n in range(1000):\n",
    "    sample = np.random.choice(defaulted.limit_bal, 50)\n",
    "    s_means.append(np.mean(sample))\n",
    "\n",
    "s_std = np.std(s_means, ddof=1)\n",
    "s_means = np.mean(s_means)"
   ]
  },
  {
   "cell_type": "code",
   "execution_count": 25,
   "metadata": {},
   "outputs": [
    {
     "name": "stdout",
     "output_type": "stream",
     "text": [
      "95% CI: 129573.57146134548 130341.25733865454\n",
      "Samples Mean: 129957.41440000001\n",
      "Samples STD: 15812.042562822842\n"
     ]
    }
   ],
   "source": [
    "#95% Confidence Interval\n",
    "z = 1.96\n",
    "n = len(defaulted.limit_bal)\n",
    "ci = (z * s_std) / np.sqrt(n)\n",
    "print(\"95% CI:\",(s_means - ci),(s_means + ci))\n",
    "print(\"Samples Mean:\",s_means)\n",
    "print(\"Samples STD:\",s_std)"
   ]
  },
  {
   "cell_type": "markdown",
   "metadata": {},
   "source": [
    "We can also construct a t-test to confirm if limit balance in default and non-default groups is significantly different. The null hypothesis is there is no difference in limit balances among people who defaulted compared to people who have not. The alternative hypothesis is that people who defaulted have a lower limit balance than those who have not. We are assumming the variance amongst the two groups are relatively the same (i.e. the overall standard deviation of the sampled means)."
   ]
  },
  {
   "cell_type": "code",
   "execution_count": 26,
   "metadata": {},
   "outputs": [
    {
     "name": "stdout",
     "output_type": "stream",
     "text": [
      "t stat: -26.67348483578993 p value: 6.635748329784493e-155\n"
     ]
    }
   ],
   "source": [
    "from scipy import stats\n",
    "t_stat, p_val = stats.ttest_ind(defaulted.limit_bal, non_defaulted.limit_bal)\n",
    "print(\"t stat:\", t_stat, \"p value:\", p_val)"
   ]
  },
  {
   "cell_type": "markdown",
   "metadata": {},
   "source": [
    "We fail to reject the null hypothesis that there is no difference in limit balances as the t-test indicates a significant difference in limit balance among both groups."
   ]
  },
  {
   "cell_type": "markdown",
   "metadata": {},
   "source": [
    "We can try these tests for the `pay_0` and `pay_6` variables:"
   ]
  },
  {
   "cell_type": "code",
   "execution_count": 27,
   "metadata": {},
   "outputs": [],
   "source": [
    "seed(123)\n",
    "pay_0_means = []\n",
    "pay_6_means = []\n",
    "\n",
    "# calculate 1000 means sampled from the larger dataset\n",
    "for n in range(1000):\n",
    "    sample = np.random.choice(defaulted.pay_0, 50)\n",
    "    pay_0_means.append(np.mean(sample))\n",
    "\n",
    "for n in range(1000):\n",
    "    sample = np.random.choice(defaulted.pay_6, 50)\n",
    "    pay_6_means.append(np.mean(sample))\n",
    "\n",
    "pay_0_s_std = np.std(pay_0_means, ddof=1)\n",
    "pay_0_s_mean = np.mean(pay_0_means)\n",
    "\n",
    "pay_6_s_std = np.std(pay_6_means, ddof=1)\n",
    "pay_6_s_mean = np.mean(pay_6_means)"
   ]
  },
  {
   "cell_type": "code",
   "execution_count": 28,
   "metadata": {},
   "outputs": [
    {
     "name": "stdout",
     "output_type": "stream",
     "text": [
      "pay_0:\n",
      "\n",
      "95% CI: 0.6739774510372847 0.6834225489627155\n",
      "Samples Mean: 0.6787000000000001\n",
      "Samples STD: 0.1945408855643362\n"
     ]
    }
   ],
   "source": [
    "z = 1.96\n",
    "n = len(defaulted.pay_0)\n",
    "\n",
    "#pay_0 samples\n",
    "ci = (z * pay_0_s_std) / np.sqrt(n)\n",
    "print(\"pay_0:\\n\")\n",
    "print(\"95% CI:\",(pay_0_s_mean - ci),(pay_0_s_mean + ci))\n",
    "print(\"Samples Mean:\",pay_0_s_mean)\n",
    "print(\"Samples STD:\",pay_0_s_std)"
   ]
  },
  {
   "cell_type": "code",
   "execution_count": 29,
   "metadata": {},
   "outputs": [
    {
     "name": "stdout",
     "output_type": "stream",
     "text": [
      "pay_6:\n",
      "\n",
      "95% CI: 0.11127343377093406 0.12112656622906594\n",
      "Samples Mean: 0.1162\n",
      "Samples STD: 0.2029451816297858\n"
     ]
    }
   ],
   "source": [
    "#pay_6 samples\n",
    "ci = (z * pay_6_s_std) / np.sqrt(n)\n",
    "print(\"pay_6:\\n\")\n",
    "print(\"95% CI:\",(pay_6_s_mean - ci),(pay_6_s_mean + ci))\n",
    "print(\"Samples Mean:\",pay_6_s_mean)\n",
    "print(\"Samples STD:\",pay_6_s_std)"
   ]
  },
  {
   "cell_type": "code",
   "execution_count": 30,
   "metadata": {},
   "outputs": [
    {
     "data": {
      "text/plain": [
       "-0.21216720355882804"
      ]
     },
     "execution_count": 30,
     "metadata": {},
     "output_type": "execute_result"
    }
   ],
   "source": [
    "#non_default - pay_0\n",
    "seed(123)\n",
    "np.mean([np.random.choice(non_defaulted.pay_0,n) for i in range(1000)])"
   ]
  },
  {
   "cell_type": "code",
   "execution_count": 31,
   "metadata": {},
   "outputs": [
    {
     "data": {
      "text/plain": [
       "-0.4077396840006136"
      ]
     },
     "execution_count": 31,
     "metadata": {},
     "output_type": "execute_result"
    }
   ],
   "source": [
    "#non_default - pay_6\n",
    "seed(123)\n",
    "np.mean([np.random.choice(non_defaulted.pay_6,n) for i in range(1000)])"
   ]
  },
  {
   "cell_type": "code",
   "execution_count": 32,
   "metadata": {},
   "outputs": [
    {
     "name": "stdout",
     "output_type": "stream",
     "text": [
      "t stat: 59.02378433444032 p value: 0.0\n"
     ]
    }
   ],
   "source": [
    "t_stat, p_val = stats.ttest_ind(defaulted.pay_0, non_defaulted.pay_0)\n",
    "print(\"t stat:\", t_stat, \"p value:\", p_val)"
   ]
  },
  {
   "cell_type": "code",
   "execution_count": 33,
   "metadata": {},
   "outputs": [
    {
     "name": "stdout",
     "output_type": "stream",
     "text": [
      "t stat: 32.570507401780525 p value: 1.2283801946404783e-228\n"
     ]
    }
   ],
   "source": [
    "t_stat, p_val = stats.ttest_ind(defaulted.pay_6, non_defaulted.pay_6)\n",
    "print(\"t stat:\", t_stat, \"p value:\", p_val)"
   ]
  },
  {
   "cell_type": "markdown",
   "metadata": {},
   "source": [
    "We see in both the frequentist and t-tests that there is a significant behavior difference in repayments at the beginning and ending periods among the default vs non-default group."
   ]
  },
  {
   "cell_type": "markdown",
   "metadata": {},
   "source": [
    "We can employ bootstrap sampling to estimate the same 95% confidence interval lower limit as before."
   ]
  },
  {
   "cell_type": "markdown",
   "metadata": {},
   "source": [
    "#### Bootstrap Sampling"
   ]
  },
  {
   "cell_type": "code",
   "execution_count": 34,
   "metadata": {},
   "outputs": [],
   "source": [
    "np.random.seed(123)\n",
    "N_rep = 10000"
   ]
  },
  {
   "cell_type": "code",
   "execution_count": 35,
   "metadata": {},
   "outputs": [],
   "source": [
    "def bs_reps(data,func,size=1):\n",
    "    bs_replicates = np.empty(size)\n",
    "    for i in range(size):\n",
    "        s = np.random.choice(data,size=len(data))\n",
    "        bs_replicates[i] = func(s)\n",
    "    return bs_replicates"
   ]
  },
  {
   "cell_type": "code",
   "execution_count": 42,
   "metadata": {},
   "outputs": [
    {
     "name": "stdout",
     "output_type": "stream",
     "text": [
      "Lower limit: [127623.34161681]\n",
      "Samples Mean: 129987.36639484584\n",
      "Upper limit: [132356.23071023]\n",
      "Samples STD: 1423.918790832006\n",
      "\n",
      "Actual Sample Mean: 129981.23638594877\n"
     ]
    }
   ],
   "source": [
    "#limit balance\n",
    "#default group\n",
    "default_bs_lim_bal = bs_reps(defaulted.limit_bal,np.mean,N_rep)\n",
    "print(\"Lower limit:\", np.percentile(default_bs_lim_bal, [5]))\n",
    "print(\"Samples Mean:\", np.mean(default_bs_lim_bal))\n",
    "print(\"Upper limit:\", np.percentile(default_bs_lim_bal, [95]))\n",
    "print(\"Samples STD:\", np.std(default_bs_lim_bal))\n",
    "print(\"\\nActual Sample Mean:\",np.mean(defaulted.limit_bal))"
   ]
  },
  {
   "cell_type": "code",
   "execution_count": 43,
   "metadata": {},
   "outputs": [
    {
     "name": "stdout",
     "output_type": "stream",
     "text": [
      "Lower limit: [176196.61290323]\n",
      "Samples Mean: 177610.99600697472\n",
      "Upper limit: [179039.68177855]\n",
      "Samples STD: 861.7606361012998\n",
      "\n",
      "Actual Sample Mean: 177621.70880557978\n"
     ]
    }
   ],
   "source": [
    "#limit balance\n",
    "#non_default group\n",
    "non_default_bs_lim_bal = bs_reps(non_defaulted.limit_bal,np.mean,N_rep)\n",
    "print(\"Lower limit:\", np.percentile(non_default_bs_lim_bal, [5]))\n",
    "print(\"Samples Mean:\", np.mean(non_default_bs_lim_bal))\n",
    "print(\"Upper limit:\", np.percentile(non_default_bs_lim_bal, [95]))\n",
    "print(\"Samples STD:\", np.std(non_default_bs_lim_bal))\n",
    "print(\"\\nActual Sample Mean:\",np.mean(non_defaulted.limit_bal))"
   ]
  },
  {
   "cell_type": "markdown",
   "metadata": {},
   "source": [
    "We see from our bootstrap samples there is a strong difference in the means, upper and lower limits, and standard deviations of the default and non-default groups. Interestingly non-default groups have a smaller sample standard deviation than the default group at 861 versus 1423."
   ]
  },
  {
   "cell_type": "markdown",
   "metadata": {},
   "source": [
    "We can perform a bootstrapped hypothesis test at the 5% significance level ( 𝛼=0.05 ) to calculate the p-value of the observed difference of limit balances between defaulted and non-defaulted groups. \n",
    "\n",
    "As previously stated, the null hypothesis is there is no difference in limit balances among people who defaulted compared to people who have not. The alternative hypothesis is that people who defaulted have a lower limit balance than those who have not. We are assumming the variance amongst the two groups are relatively the same (i.e. the overall standard deviation of the sampled means).\n",
    "\n",
    "To do the two-sample bootstrap test, we shift both arrays to have the same mean, since we are simulating the hypothesis that their means are, in fact, equal. We then draw bootstrap samples out of the shifted arrays and compute the difference in means. This constitutes a bootstrap replicate, and we generate many of them. The p-value is the fraction of replicates with a difference in means greater than or equal to what was observed."
   ]
  },
  {
   "cell_type": "code",
   "execution_count": 44,
   "metadata": {},
   "outputs": [],
   "source": [
    "#get the empirical observed mean\n",
    "observed_mean = np.mean(np.concatenate([defaulted.limit_bal,non_defaulted.limit_bal]))"
   ]
  },
  {
   "cell_type": "code",
   "execution_count": 45,
   "metadata": {},
   "outputs": [],
   "source": [
    "#adjusted means\n",
    "defaulted_mean_shifted = defaulted.limit_bal - np.mean(defaulted.limit_bal) + observed_mean\n",
    "non_defaulted_mean_shifted = non_defaulted.limit_bal - np.mean(non_defaulted.limit_bal) + observed_mean"
   ]
  },
  {
   "cell_type": "code",
   "execution_count": 46,
   "metadata": {},
   "outputs": [],
   "source": [
    "#use earlier bs_reps function to construct boostrap replicates\n",
    "bs_replicates_defaulted = bs_reps(defaulted_mean_shifted, np.mean, 10000)\n",
    "bs_replicates_non_defaulted = bs_reps(non_defaulted_mean_shifted, np.mean, 10000)"
   ]
  },
  {
   "cell_type": "code",
   "execution_count": 50,
   "metadata": {},
   "outputs": [
    {
     "name": "stdout",
     "output_type": "stream",
     "text": [
      "p-value = 0.0\n"
     ]
    }
   ],
   "source": [
    "bs_replicates = bs_replicates_non_defaulted - bs_replicates_defaulted\n",
    "observed_diff_means = np.mean(non_defaulted.limit_bal) - np.mean(defaulted.limit_bal)\n",
    "p = np.sum(bs_replicates >= observed_diff_means) / len(bs_replicates)\n",
    "\n",
    "print('p-value =', p)"
   ]
  },
  {
   "cell_type": "markdown",
   "metadata": {},
   "source": [
    "This confirms there is a significant difference between non-default and default groups in their observed limit balance.\n",
    "\n",
    "We can plot the observed means and observed means of replicates to visualize the differences better:"
   ]
  },
  {
   "cell_type": "code",
   "execution_count": 56,
   "metadata": {},
   "outputs": [
    {
     "data": {
      "image/png": "[encoded data removed]",
      "text/plain": [
       "<Figure size 864x576 with 1 Axes>"
      ]
     },
     "metadata": {
      "needs_background": "light"
     },
     "output_type": "display_data"
    }
   ],
   "source": [
    "_ = plt.figure(figsize=(12,8))\n",
    "_ = plt.hist(bs_replicates_non_defaulted ,edgecolor='white',bins=20,label='non-defaulted bs replicates')\n",
    "_ = plt.hist(bs_replicates_defaulted ,edgecolor='white',bins=20,label='defaulted bs replicates')\n",
    "_ = plt.hist(bs_replicates,edgecolor='white',bins=20,label='bootstrapped mean diff')\n",
    "#_ = plt.axvline(bs_insured_std_ci[0],color='grey',linestyle='dashed',label=\"5% CI\")\n",
    "#_ = plt.axvline(np.mean(diffs),color='yellow',linestyle='dashed',label=\"Mean\")\n",
    "#_ = plt.axvline(bs_insured_std_ci[1],color='purple',linestyle='dashed',label=\"95% CI\")\n",
    "_ = plt.axvline(observed_diff_means,color='grey',linestyle='dashed',label=\"empirical diff of means\")\n",
    "_ = plt.axvline(np.mean(data.limit_bal),color='blue',linestyle='dashed',label=\"observed mean\")\n",
    "\n",
    "_ = plt.xlabel(\"Mean limit balance ($)\")\n",
    "_ = plt.ylabel(\"Frequency\")\n",
    "_ = plt.legend(loc='best')\n",
    "plt.show()"
   ]
  },
  {
   "cell_type": "markdown",
   "metadata": {},
   "source": [
    "We can perform the same bootstrap samples tests for the `pay_0` and `pay_6` variables:"
   ]
  },
  {
   "cell_type": "code",
   "execution_count": 57,
   "metadata": {},
   "outputs": [
    {
     "name": "stdout",
     "output_type": "stream",
     "text": [
      "Lower limit: [0.64089584]\n",
      "Samples Mean: 0.668873063353275\n",
      "Upper limit: [0.69688603]\n",
      "Samples STD: 0.017065007294079372\n",
      "\n",
      "Actual Sample Mean: 0.6686608375517717\n"
     ]
    }
   ],
   "source": [
    "#pay_0\n",
    "#default group\n",
    "default_bs_pay_0 = bs_reps(defaulted.pay_0,np.mean,N_rep)\n",
    "print(\"Lower limit:\", np.percentile(default_bs_pay_0, [5]))\n",
    "print(\"Samples Mean:\", np.mean(default_bs_pay_0))\n",
    "print(\"Upper limit:\", np.percentile(default_bs_pay_0, [95]))\n",
    "print(\"Samples STD:\", np.std(default_bs_pay_0))\n",
    "print(\"\\nActual Sample Mean:\",np.mean(defaulted.pay_0))"
   ]
  },
  {
   "cell_type": "code",
   "execution_count": 58,
   "metadata": {},
   "outputs": [
    {
     "name": "stdout",
     "output_type": "stream",
     "text": [
      "Lower limit: [-0.22280078]\n",
      "Samples Mean: -0.21237207061900612\n",
      "Upper limit: [-0.20200523]\n",
      "Samples STD: 0.006337428392504416\n",
      "\n",
      "Actual Sample Mean: -0.21233653007846556\n"
     ]
    }
   ],
   "source": [
    "#pay_0\n",
    "#non_default group\n",
    "non_default_bs_pay_0 = bs_reps(non_defaulted.pay_0,np.mean,N_rep)\n",
    "print(\"Lower limit:\", np.percentile(non_default_bs_pay_0, [5]))\n",
    "print(\"Samples Mean:\", np.mean(non_default_bs_pay_0))\n",
    "print(\"Upper limit:\", np.percentile(non_default_bs_pay_0, [95]))\n",
    "print(\"Samples STD:\", np.std(non_default_bs_pay_0))\n",
    "print(\"\\nActual Sample Mean:\",np.mean(non_defaulted.pay_0))"
   ]
  },
  {
   "cell_type": "code",
   "execution_count": 84,
   "metadata": {},
   "outputs": [
    {
     "name": "stdout",
     "output_type": "stream",
     "text": [
      "p-value = 0.0\n"
     ]
    }
   ],
   "source": [
    "#pay_0\n",
    "\n",
    "observed_mean = np.mean(np.concatenate([defaulted.pay_0,non_defaulted.pay_0]))\n",
    "\n",
    "defaulted_mean_shifted = defaulted.pay_0 - np.mean(defaulted.pay_0) + observed_mean\n",
    "non_defaulted_mean_shifted = non_defaulted.pay_0 - np.mean(non_defaulted.pay_0) + observed_mean\n",
    "bs_replicates_defaulted = bs_reps(defaulted_mean_shifted, np.mean, 10000)\n",
    "bs_replicates_non_defaulted = bs_reps(non_defaulted_mean_shifted, np.mean, 10000)\n",
    "bs_replicates = bs_replicates_defaulted - bs_replicates_non_defaulted\n",
    "observed_diff_means = np.mean(defaulted.pay_0) - np.mean(non_defaulted.pay_0)\n",
    "p = np.sum(bs_replicates >= observed_diff_means) / len(bs_replicates)\n",
    "\n",
    "print('p-value =', p)"
   ]
  },
  {
   "cell_type": "code",
   "execution_count": null,
   "metadata": {},
   "outputs": [],
   "source": []
  },
  {
   "cell_type": "code",
   "execution_count": 85,
   "metadata": {},
   "outputs": [
    {
     "name": "stdout",
     "output_type": "stream",
     "text": [
      "p-value = 0.0\n"
     ]
    }
   ],
   "source": [
    "#pay_6\n",
    "\n",
    "observed_mean = np.mean(np.concatenate([defaulted.pay_6,non_defaulted.pay_6]))\n",
    "\n",
    "defaulted_mean_shifted = defaulted.pay_6 - np.mean(defaulted.pay_6) + observed_mean\n",
    "non_defaulted_mean_shifted = non_defaulted.pay_6- np.mean(non_defaulted.pay_6) + observed_mean\n",
    "\n",
    "bs_replicates_defaulted = bs_reps(defaulted_mean_shifted, np.mean, 10000)\n",
    "bs_replicates_non_defaulted = bs_reps(non_defaulted_mean_shifted, np.mean, 10000)\n",
    "bs_replicates = bs_replicates_defaulted - bs_replicates_non_defaulted\n",
    "observed_diff_means = np.mean(defaulted.pay_6) - np.mean(non_defaulted.pay_6)\n",
    "p = np.sum(bs_replicates >= observed_diff_means) / len(bs_replicates)\n",
    "\n",
    "print('p-value =', p)"
   ]
  }
 ],
 "metadata": {
  "kernelspec": {
   "display_name": "Python 3",
   "language": "python",
   "name": "python3"
  },
  "language_info": {
   "codemirror_mode": {
    "name": "ipython",
    "version": 3
   },
   "file_extension": ".py",
   "mimetype": "text/x-python",
   "name": "python",
   "nbconvert_exporter": "python",
   "pygments_lexer": "ipython3",
   "version": "3.8.3"
  }
 },
 "nbformat": 4,
 "nbformat_minor": 4
}
