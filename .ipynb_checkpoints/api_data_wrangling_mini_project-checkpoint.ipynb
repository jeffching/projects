{
 "cells": [
  {
   "cell_type": "markdown",
   "metadata": {},
   "source": [
    "This exercise will require you to pull some data from the Quandl API. Qaundl is currently the most widely used aggregator of financial market data."
   ]
  },
  {
   "cell_type": "markdown",
   "metadata": {},
   "source": [
    "As a first step, you will need to register a free account on the http://www.quandl.com website."
   ]
  },
  {
   "cell_type": "markdown",
   "metadata": {},
   "source": [
    "After you register, you will be provided with a unique API key, that you should store:"
   ]
  },
  {
   "cell_type": "code",
   "execution_count": 1,
   "metadata": {},
   "outputs": [],
   "source": [
    "# Store the API key as a string - according to PEP8, constants are always named in all upper case\n",
    "API_KEY = 'L-AD-1HNMsEgemxokHpa'"
   ]
  },
  {
   "cell_type": "markdown",
   "metadata": {},
   "source": [
    "Qaundl has a large number of data sources, but, unfortunately, most of them require a Premium subscription. Still, there are also a good number of free datasets."
   ]
  },
  {
   "cell_type": "markdown",
   "metadata": {},
   "source": [
    "For this mini project, we will focus on equities data from the Frankfurt Stock Exhange (FSE), which is available for free. We'll try and analyze the stock prices of a company called Carl Zeiss Meditec, which manufactures tools for eye examinations, as well as medical lasers for laser eye surgery: https://www.zeiss.com/meditec/int/home.html. The company is listed under the stock ticker AFX_X."
   ]
  },
  {
   "cell_type": "markdown",
   "metadata": {},
   "source": [
    "You can find the detailed Quandl API instructions here: https://docs.quandl.com/docs/time-series"
   ]
  },
  {
   "cell_type": "markdown",
   "metadata": {},
   "source": [
    "While there is a dedicated Python package for connecting to the Quandl API, we would prefer that you use the *requests* package, which can be easily downloaded using *pip* or *conda*. You can find the documentation for the package here: http://docs.python-requests.org/en/master/ "
   ]
  },
  {
   "cell_type": "markdown",
   "metadata": {},
   "source": [
    "Finally, apart from the *requests* package, you are encouraged to not use any third party Python packages, such as *pandas*, and instead focus on what's available in the Python Standard Library (the *collections* module might come in handy: https://pymotw.com/3/collections/ ).\n",
    "Also, since you won't have access to DataFrames, you are encouraged to use Python's native data structures - preferably dictionaries, though some questions can also be answered using lists.\n",
    "You can read more on these data structures here: https://docs.python.org/3/tutorial/datastructures.html"
   ]
  },
  {
   "cell_type": "markdown",
   "metadata": {},
   "source": [
    "Keep in mind that the JSON responses you will be getting from the API map almost one-to-one to Python's dictionaries. Unfortunately, they can be very nested, so make sure you read up on indexing dictionaries in the documentation provided above."
   ]
  },
  {
   "cell_type": "code",
   "execution_count": 2,
   "metadata": {},
   "outputs": [],
   "source": [
    "# First, import the relevant modules\n",
    "import requests\n",
    "#https://www.quandl.com/data/FSE-Frankfurt-Stock-Exchange --- Dataset\n",
    "#https://www.quandl.com/data/FSE-Frankfurt-Stock-Exchange/documentation --- Documentation\n",
    "#https://www.quandl.com/data/FSE/AFX_X-Carl-Zeiss-Meditec-AFX_X --- Zeiss"
   ]
  },
  {
   "cell_type": "code",
   "execution_count": 3,
   "metadata": {},
   "outputs": [
    {
     "data": {
      "text/plain": [
       "'https://www.quandl.com/api/v3/datasets/FSE/AFX_X?start_date=2020-04-02&end_date=2020-04-02&api_key=L-AD-1HNMsEgemxokHpa'"
      ]
     },
     "execution_count": 3,
     "metadata": {},
     "output_type": "execute_result"
    }
   ],
   "source": [
    "# Now, call the Quandl API and pull out a small sample of the data (only one day) to get a glimpse\n",
    "# into the JSON structure that will be returned\n",
    "url = 'https://www.quandl.com/api/v3/datasets/FSE/AFX_X'\n",
    "startdate_param = 'start_date='\n",
    "enddate_param = 'end_date='\n",
    "apikey_param = 'api_key='\n",
    "startdate = '2020-04-02'\n",
    "enddate = '2020-04-02'\n",
    "request_1 = url + '?' + startdate_param + startdate + '&' + enddate_param + enddate + '&' + apikey_param + API_KEY\n",
    "request_1"
   ]
  },
  {
   "cell_type": "code",
   "execution_count": 4,
   "metadata": {},
   "outputs": [
    {
     "data": {
      "text/plain": [
       "{'dataset': {'id': 10095370,\n",
       "  'dataset_code': 'AFX_X',\n",
       "  'database_code': 'FSE',\n",
       "  'name': 'Carl Zeiss Meditec (AFX_X)',\n",
       "  'description': 'Stock Prices for Carl Zeiss Meditec (2020-05-04) from the Frankfurt Stock Exchange.<br><br>Trading System: Xetra<br><br>ISIN: DE0005313704',\n",
       "  'refreshed_at': '2020-05-15T22:16:15.603Z',\n",
       "  'newest_available_date': '2020-05-15',\n",
       "  'oldest_available_date': '2000-06-07',\n",
       "  'column_names': ['Date',\n",
       "   'Open',\n",
       "   'High',\n",
       "   'Low',\n",
       "   'Close',\n",
       "   'Change',\n",
       "   'Traded Volume',\n",
       "   'Turnover',\n",
       "   'Last Price of the Day',\n",
       "   'Daily Traded Units',\n",
       "   'Daily Turnover'],\n",
       "  'frequency': 'daily',\n",
       "  'type': 'Time Series',\n",
       "  'premium': False,\n",
       "  'limit': None,\n",
       "  'transform': None,\n",
       "  'column_index': None,\n",
       "  'start_date': '2020-04-02',\n",
       "  'end_date': '2020-04-02',\n",
       "  'data': [['2020-04-02',\n",
       "    86.0,\n",
       "    87.15,\n",
       "    79.5,\n",
       "    82.5,\n",
       "    None,\n",
       "    300359.0,\n",
       "    24916457.15,\n",
       "    None,\n",
       "    None,\n",
       "    None]],\n",
       "  'collapse': None,\n",
       "  'order': None,\n",
       "  'database_id': 6129}}"
      ]
     },
     "execution_count": 4,
     "metadata": {},
     "output_type": "execute_result"
    }
   ],
   "source": [
    "res = requests.get(request_1)\n",
    "res.json()"
   ]
  },
  {
   "cell_type": "code",
   "execution_count": 5,
   "metadata": {},
   "outputs": [],
   "source": [
    "url = 'https://www.quandl.com/api/v3/datasets/FSE/AFX_X'\n",
    "def api_call(url=url,**params):\n",
    "    url = url + '?'\n",
    "    for key, value in params.items():\n",
    "        url = url + key + value + \"&\"\n",
    "    url = url + \"api_key=\" + API_KEY\n",
    "    resp = requests.get(url)\n",
    "    return([url,resp.json()])"
   ]
  },
  {
   "cell_type": "code",
   "execution_count": 6,
   "metadata": {},
   "outputs": [],
   "source": [
    "theparams = {startdate_param:'2020-03-02',enddate_param:'2020-03-02'}\n",
    "response = api_call(**theparams)"
   ]
  },
  {
   "cell_type": "code",
   "execution_count": 7,
   "metadata": {},
   "outputs": [
    {
     "data": {
      "text/plain": [
       "['https://www.quandl.com/api/v3/datasets/FSE/AFX_X?start_date=2020-03-02&end_date=2020-03-02&api_key=L-AD-1HNMsEgemxokHpa',\n",
       " {'dataset': {'id': 10095370,\n",
       "   'dataset_code': 'AFX_X',\n",
       "   'database_code': 'FSE',\n",
       "   'name': 'Carl Zeiss Meditec (AFX_X)',\n",
       "   'description': 'Stock Prices for Carl Zeiss Meditec (2020-05-04) from the Frankfurt Stock Exchange.<br><br>Trading System: Xetra<br><br>ISIN: DE0005313704',\n",
       "   'refreshed_at': '2020-05-15T22:16:15.603Z',\n",
       "   'newest_available_date': '2020-05-15',\n",
       "   'oldest_available_date': '2000-06-07',\n",
       "   'column_names': ['Date',\n",
       "    'Open',\n",
       "    'High',\n",
       "    'Low',\n",
       "    'Close',\n",
       "    'Change',\n",
       "    'Traded Volume',\n",
       "    'Turnover',\n",
       "    'Last Price of the Day',\n",
       "    'Daily Traded Units',\n",
       "    'Daily Turnover'],\n",
       "   'frequency': 'daily',\n",
       "   'type': 'Time Series',\n",
       "   'premium': False,\n",
       "   'limit': None,\n",
       "   'transform': None,\n",
       "   'column_index': None,\n",
       "   'start_date': '2020-03-02',\n",
       "   'end_date': '2020-03-02',\n",
       "   'data': [['2020-03-02',\n",
       "     96.5,\n",
       "     98.3,\n",
       "     93.55,\n",
       "     95.05,\n",
       "     None,\n",
       "     285867.0,\n",
       "     27318381.65,\n",
       "     None,\n",
       "     None,\n",
       "     None]],\n",
       "   'collapse': None,\n",
       "   'order': None,\n",
       "   'database_id': 6129}}]"
      ]
     },
     "execution_count": 7,
     "metadata": {},
     "output_type": "execute_result"
    }
   ],
   "source": [
    "response"
   ]
  },
  {
   "cell_type": "code",
   "execution_count": 8,
   "metadata": {},
   "outputs": [
    {
     "data": {
      "text/plain": [
       "[['2020-03-02',\n",
       "  96.5,\n",
       "  98.3,\n",
       "  93.55,\n",
       "  95.05,\n",
       "  None,\n",
       "  285867.0,\n",
       "  27318381.65,\n",
       "  None,\n",
       "  None,\n",
       "  None]]"
      ]
     },
     "execution_count": 8,
     "metadata": {},
     "output_type": "execute_result"
    }
   ],
   "source": [
    "# Inspect the JSON structure of the object you created, and take note of how nested it is,\n",
    "# as well as the overall structure\n",
    "response[1]['dataset'].get('data')"
   ]
  },
  {
   "cell_type": "markdown",
   "metadata": {},
   "source": [
    "These are your tasks for this mini project:\n",
    "\n",
    "1. Collect data from the Franfurt Stock Exchange, for the ticker AFX_X, for the whole year 2017 (keep in mind that the date format is YYYY-MM-DD).\n",
    "2. Convert the returned JSON object into a Python dictionary.\n",
    "3. Calculate what the highest and lowest opening prices were for the stock in this period.\n",
    "4. What was the largest change in any one day (based on High and Low price)?\n",
    "5. What was the largest change between any two days (based on Closing Price)?\n",
    "6. What was the average daily trading volume during this year?\n",
    "7. (Optional) What was the median trading volume during this year. (Note: you may need to implement your own function for calculating the median.)"
   ]
  },
  {
   "cell_type": "code",
   "execution_count": 9,
   "metadata": {},
   "outputs": [],
   "source": [
    "#1. Collect data from the Franfurt Stock Exchange, for the ticker AFX_X, for the whole year 2017 (keep in mind that the date format is YYYY-MM-DD).\n",
    "theparams = {startdate_param:'2017-01-01',enddate_param:'2017-12-31'}\n",
    "data = api_call(**theparams)"
   ]
  },
  {
   "cell_type": "code",
   "execution_count": 11,
   "metadata": {},
   "outputs": [
    {
     "data": {
      "text/plain": [
       "['2017-12-29',\n",
       " 51.76,\n",
       " 51.94,\n",
       " 51.45,\n",
       " 51.76,\n",
       " None,\n",
       " 34640.0,\n",
       " 1792304.0,\n",
       " None,\n",
       " None,\n",
       " None]"
      ]
     },
     "execution_count": 11,
     "metadata": {},
     "output_type": "execute_result"
    }
   ],
   "source": [
    "data[1]['dataset']['data'][0]"
   ]
  },
  {
   "cell_type": "code",
   "execution_count": 12,
   "metadata": {},
   "outputs": [],
   "source": [
    "#2. Convert the returned JSON object into a Python dictionary.\n",
    "data = dict(data[1])"
   ]
  },
  {
   "cell_type": "code",
   "execution_count": 13,
   "metadata": {},
   "outputs": [],
   "source": [
    "#3. Calculate what the highest and lowest opening prices were for the stock in this period.\n",
    "\"\"\"\n",
    "'column_names': ['Date',\n",
    "    'Open',\n",
    "    'High',\n",
    "    'Low',\n",
    "    'Close',\n",
    "    'Change',\n",
    "    'Traded Volume',\n",
    "    'Turnover',\n",
    "    'Last Price of the Day',\n",
    "    'Daily Traded Units',\n",
    "    'Daily Turnover']\n",
    "\"\"\"\n",
    "\n",
    "thedata = data['dataset']['data']"
   ]
  },
  {
   "cell_type": "code",
   "execution_count": 18,
   "metadata": {},
   "outputs": [
    {
     "data": {
      "text/plain": [
       "['2017-12-28',\n",
       " 51.65,\n",
       " 51.82,\n",
       " 51.43,\n",
       " 51.6,\n",
       " None,\n",
       " 40660.0,\n",
       " 2099024.0,\n",
       " None,\n",
       " None,\n",
       " None]"
      ]
     },
     "execution_count": 18,
     "metadata": {},
     "output_type": "execute_result"
    }
   ],
   "source": [
    "thedata[1]"
   ]
  },
  {
   "cell_type": "code",
   "execution_count": 19,
   "metadata": {},
   "outputs": [
    {
     "name": "stdout",
     "output_type": "stream",
     "text": [
      "Highest: 53.11 Lowest: 34.0\n"
     ]
    }
   ],
   "source": [
    "opening_prices = [data[1] for data in thedata if data[1] != None]\n",
    "opening_prices.sort()\n",
    "print(\"Highest:\",max(opening_prices),\"Lowest:\",min(opening_prices))"
   ]
  },
  {
   "cell_type": "code",
   "execution_count": 20,
   "metadata": {},
   "outputs": [
    {
     "data": {
      "text/plain": [
       "2.8100000000000023"
      ]
     },
     "execution_count": 20,
     "metadata": {},
     "output_type": "execute_result"
    }
   ],
   "source": [
    "#4. What was the largest change in any one day (based on High and Low price)?\n",
    "change_prices = [d[2] - d[3] for d in thedata]\n",
    "max(change_prices)"
   ]
  },
  {
   "cell_type": "code",
   "execution_count": 21,
   "metadata": {},
   "outputs": [],
   "source": [
    "#5. What was the largest change between any two days (based on Closing Price)?\n",
    "closing_price = [data[4] for data in thedata]\n",
    "change_list = [] \n",
    "for x, y in zip(closing_price[0::], closing_price[1::]): \n",
    "    change_list.append(y-x)"
   ]
  },
  {
   "cell_type": "code",
   "execution_count": 22,
   "metadata": {},
   "outputs": [
    {
     "name": "stdout",
     "output_type": "stream",
     "text": [
      "2.56\n"
     ]
    }
   ],
   "source": [
    "print(round(max(change_list),2))"
   ]
  },
  {
   "cell_type": "code",
   "execution_count": 23,
   "metadata": {},
   "outputs": [
    {
     "name": "stdout",
     "output_type": "stream",
     "text": [
      "89124.34\n"
     ]
    }
   ],
   "source": [
    "#6. What was the average daily trading volume during this year?\n",
    "trading_vol = [data[6] for data in thedata]\n",
    "average = sum(trading_vol)/len(trading_vol)\n",
    "print(round(average,2))"
   ]
  },
  {
   "cell_type": "code",
   "execution_count": 24,
   "metadata": {},
   "outputs": [
    {
     "data": {
      "text/plain": [
       "76286.0"
      ]
     },
     "execution_count": 24,
     "metadata": {},
     "output_type": "execute_result"
    }
   ],
   "source": [
    "#7. (Optional) What was the median trading volume during this year. \n",
    "trading_vol.sort()\n",
    "trading_vol[int(len(trading_vol)/2)]"
   ]
  }
 ],
 "metadata": {
  "kernelspec": {
   "display_name": "Python 3",
   "language": "python",
   "name": "python3"
  },
  "language_info": {
   "codemirror_mode": {
    "name": "ipython",
    "version": 3
   },
   "file_extension": ".py",
   "mimetype": "text/x-python",
   "name": "python",
   "nbconvert_exporter": "python",
   "pygments_lexer": "ipython3",
   "version": "3.7.4"
  }
 },
 "nbformat": 4,
 "nbformat_minor": 4
}
