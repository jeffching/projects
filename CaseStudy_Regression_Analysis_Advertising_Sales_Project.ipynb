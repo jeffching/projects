{
 "cells": [
  {
   "cell_type": "markdown",
   "metadata": {},
   "source": [
    "*Jeffrey Ching - Application Case Study - Linear Regression Modeling on Effect of Advertising on Sales*"
   ]
  },
  {
   "cell_type": "markdown",
   "metadata": {
    "id": "mM7KaMsIyx5q"
   },
   "source": [
    "# Apply Regression Analysis on Effects of Advertising on Sales\n",
    "\n",
    "## Context and Problem\n",
    "An interesting application of regression is to quantify the effect of advertisement and specific types of advertisement (i.e. TV, Radio) on sales and revenue.  In this case study, we will have a look at the advertising data of a company and try to see its effect on their sales. We will also try to predict the sales given the different types of advertising. \n",
    "\n",
    "## Data Information\n",
    "\n",
    "The data at hand has three features about the spending on advertising and the target variable is the net sales. Attributes are:\n",
    "\n",
    "- TV    - Independent variable quantifying budget for TV ads\n",
    "- Radio - Independent variable quantifying budget for radio ads \n",
    "- News  - Independent variable quantifying budget for news ads\n",
    "- Sales - Dependent variable"
   ]
  },
  {
   "cell_type": "code",
   "execution_count": 105,
   "metadata": {
    "id": "Mbek6djw26sQ"
   },
   "outputs": [],
   "source": [
    "import pandas as pd\n",
    "import numpy as np\n",
    "import numpy as np\n",
    "import seaborn as sns\n",
    "import matplotlib.pyplot as plt\n",
    "\n",
    "import statsmodels.formula.api as smf\n",
    "from sklearn import linear_model\n",
    "from sklearn.linear_model import LinearRegression, Ridge, Lasso\n",
    "from sklearn.model_selection import cross_val_score"
   ]
  },
  {
   "cell_type": "code",
   "execution_count": 52,
   "metadata": {
    "colab": {
     "base_uri": "https://localhost:8080/",
     "height": 202
    },
    "id": "qIbGMZS36De1",
    "outputId": "403b1426-9d51-481c-c1ab-e5c93eb1fa4a"
   },
   "outputs": [
    {
     "data": {
      "text/html": [
       "<div>\n",
       "<style scoped>\n",
       "    .dataframe tbody tr th:only-of-type {\n",
       "        vertical-align: middle;\n",
       "    }\n",
       "\n",
       "    .dataframe tbody tr th {\n",
       "        vertical-align: top;\n",
       "    }\n",
       "\n",
       "    .dataframe thead th {\n",
       "        text-align: right;\n",
       "    }\n",
       "</style>\n",
       "<table border=\"1\" class=\"dataframe\">\n",
       "  <thead>\n",
       "    <tr style=\"text-align: right;\">\n",
       "      <th></th>\n",
       "      <th>Unnamed: 0</th>\n",
       "      <th>TV</th>\n",
       "      <th>Radio</th>\n",
       "      <th>Newspaper</th>\n",
       "      <th>Sales</th>\n",
       "    </tr>\n",
       "  </thead>\n",
       "  <tbody>\n",
       "    <tr>\n",
       "      <th>0</th>\n",
       "      <td>1</td>\n",
       "      <td>230.1</td>\n",
       "      <td>37.8</td>\n",
       "      <td>69.2</td>\n",
       "      <td>22.1</td>\n",
       "    </tr>\n",
       "    <tr>\n",
       "      <th>1</th>\n",
       "      <td>2</td>\n",
       "      <td>44.5</td>\n",
       "      <td>39.3</td>\n",
       "      <td>45.1</td>\n",
       "      <td>10.4</td>\n",
       "    </tr>\n",
       "    <tr>\n",
       "      <th>2</th>\n",
       "      <td>3</td>\n",
       "      <td>17.2</td>\n",
       "      <td>45.9</td>\n",
       "      <td>69.3</td>\n",
       "      <td>9.3</td>\n",
       "    </tr>\n",
       "    <tr>\n",
       "      <th>3</th>\n",
       "      <td>4</td>\n",
       "      <td>151.5</td>\n",
       "      <td>41.3</td>\n",
       "      <td>58.5</td>\n",
       "      <td>18.5</td>\n",
       "    </tr>\n",
       "    <tr>\n",
       "      <th>4</th>\n",
       "      <td>5</td>\n",
       "      <td>180.8</td>\n",
       "      <td>10.8</td>\n",
       "      <td>58.4</td>\n",
       "      <td>12.9</td>\n",
       "    </tr>\n",
       "  </tbody>\n",
       "</table>\n",
       "</div>"
      ],
      "text/plain": [
       "   Unnamed: 0     TV  Radio  Newspaper  Sales\n",
       "0           1  230.1   37.8       69.2   22.1\n",
       "1           2   44.5   39.3       45.1   10.4\n",
       "2           3   17.2   45.9       69.3    9.3\n",
       "3           4  151.5   41.3       58.5   18.5\n",
       "4           5  180.8   10.8       58.4   12.9"
      ]
     },
     "execution_count": 52,
     "metadata": {},
     "output_type": "execute_result"
    }
   ],
   "source": [
    "data = pd.read_csv('~/Downloads/datasets/advertising_dummydata.csv',index_col=False)\n",
    "data.head()"
   ]
  },
  {
   "cell_type": "code",
   "execution_count": 53,
   "metadata": {},
   "outputs": [],
   "source": [
    "#drop first column which appears to just be an index col\n",
    "data.drop(data.columns[0], axis=1, inplace=True)"
   ]
  },
  {
   "cell_type": "code",
   "execution_count": 54,
   "metadata": {
    "colab": {
     "base_uri": "https://localhost:8080/"
    },
    "id": "lPtSvD8T-ALA",
    "outputId": "a18e28e4-458e-4708-941d-9eb423fd6653"
   },
   "outputs": [
    {
     "name": "stdout",
     "output_type": "stream",
     "text": [
      "<class 'pandas.core.frame.DataFrame'>\n",
      "RangeIndex: 200 entries, 0 to 199\n",
      "Data columns (total 4 columns):\n",
      " #   Column     Non-Null Count  Dtype  \n",
      "---  ------     --------------  -----  \n",
      " 0   TV         200 non-null    float64\n",
      " 1   Radio      200 non-null    float64\n",
      " 2   Newspaper  200 non-null    float64\n",
      " 3   Sales      200 non-null    float64\n",
      "dtypes: float64(4)\n",
      "memory usage: 6.4 KB\n"
     ]
    }
   ],
   "source": [
    "data.info()"
   ]
  },
  {
   "cell_type": "code",
   "execution_count": 55,
   "metadata": {},
   "outputs": [],
   "source": [
    "#convert each input variable into a numpy array and reshape \n",
    "sales_array = np.array(data[\"Sales\"]).reshape(len(data[\"Sales\"]),1)\n",
    "tv_array = np.array(data[\"TV\"]).reshape(len(data[\"TV\"]),1)\n",
    "radio_array = np.array(data[\"Radio\"]).reshape(len(data[\"Radio\"]),1)\n",
    "newspaper_array = np.array(data[\"Newspaper\"]).reshape(len(data[\"Newspaper\"]),1)"
   ]
  },
  {
   "cell_type": "markdown",
   "metadata": {},
   "source": [
    "As a first pass, we can try running a simple linear regression model to understand the variance of each feature on sales target"
   ]
  },
  {
   "cell_type": "code",
   "execution_count": 56,
   "metadata": {},
   "outputs": [
    {
     "name": "stdout",
     "output_type": "stream",
     "text": [
      "[7.0325935491276885, 0.04753664043301979] [9.311638095158285, 0.20249578339243957] [12.35140706927816, 0.05469309847227336]\n"
     ]
    }
   ],
   "source": [
    "tv_model = linear_model.LinearRegression()\n",
    "tv_model.fit(tv_array, sales_array)\n",
    "coeffs_tv = [tv_model.intercept_[0],list(tv_model.coef_.flatten())[0]]\n",
    "\n",
    "radio_model = linear_model.LinearRegression()\n",
    "radio_model.fit(radio_array, sales_array)\n",
    "coeffs_radio = [radio_model.intercept_[0],list(radio_model.coef_.flatten())[0]]\n",
    "\n",
    "newspaper_model = linear_model.LinearRegression()\n",
    "newspaper_model.fit(newspaper_array, sales_array)\n",
    "coeffs_newspaper = [newspaper_model.intercept_[0],list(newspaper_model.coef_.flatten())[0]]\n",
    "\n",
    "print(coeffs_tv,coeffs_radio,coeffs_newspaper)"
   ]
  },
  {
   "cell_type": "code",
   "execution_count": 57,
   "metadata": {},
   "outputs": [
    {
     "name": "stdout",
     "output_type": "stream",
     "text": [
      "[0.611875050850071, 0.33203245544529536, 0.05212044544430516]\n"
     ]
    }
   ],
   "source": [
    "# calculate the r-squared metric to explain the variance for each input feature\n",
    "tv_rsq = tv_model.score(tv_array, sales_array)\n",
    "radio_rsq = radio_model.score(radio_array, sales_array)\n",
    "newspaper_rsq = newspaper_model.score(newspaper_array, sales_array)\n",
    "list_rsq = [tv_rsq, radio_rsq, newspaper_rsq]\n",
    "print(list_rsq)"
   ]
  },
  {
   "cell_type": "code",
   "execution_count": 58,
   "metadata": {},
   "outputs": [
    {
     "data": {
      "text/html": [
       "<div>\n",
       "<style scoped>\n",
       "    .dataframe tbody tr th:only-of-type {\n",
       "        vertical-align: middle;\n",
       "    }\n",
       "\n",
       "    .dataframe tbody tr th {\n",
       "        vertical-align: top;\n",
       "    }\n",
       "\n",
       "    .dataframe thead th {\n",
       "        text-align: right;\n",
       "    }\n",
       "</style>\n",
       "<table border=\"1\" class=\"dataframe\">\n",
       "  <thead>\n",
       "    <tr style=\"text-align: right;\">\n",
       "      <th></th>\n",
       "      <th>TV</th>\n",
       "      <th>Radio</th>\n",
       "      <th>Newspaper</th>\n",
       "    </tr>\n",
       "  </thead>\n",
       "  <tbody>\n",
       "    <tr>\n",
       "      <th>Intercept</th>\n",
       "      <td>7.032594</td>\n",
       "      <td>9.311638</td>\n",
       "      <td>12.351407</td>\n",
       "    </tr>\n",
       "    <tr>\n",
       "      <th>Coefficient</th>\n",
       "      <td>0.047537</td>\n",
       "      <td>0.202496</td>\n",
       "      <td>0.054693</td>\n",
       "    </tr>\n",
       "  </tbody>\n",
       "</table>\n",
       "</div>"
      ],
      "text/plain": [
       "                   TV     Radio  Newspaper\n",
       "Intercept    7.032594  9.311638  12.351407\n",
       "Coefficient  0.047537  0.202496   0.054693"
      ]
     },
     "execution_count": 58,
     "metadata": {},
     "output_type": "execute_result"
    }
   ],
   "source": [
    "# display the intercept and coefficients in a table\n",
    "metric_Df_SLR = pd.DataFrame({\"TV\":coeffs_tv,\"Radio\":coeffs_radio,\"Newspaper\":coeffs_newspaper})\n",
    "metric_Df_SLR.index = ['Intercept', 'Coefficient']\n",
    "metric_Df_SLR"
   ]
  },
  {
   "cell_type": "code",
   "execution_count": 59,
   "metadata": {},
   "outputs": [],
   "source": [
    "# retrieve the r2-quare score to measure goodness-of-fit for the model\n",
    "metric_Df_SLR.loc['R-Squared'] = [\n",
    "    tv_model.score(tv_array, sales_array),\n",
    "    radio_model.score(radio_array, sales_array),\n",
    "    newspaper_model.score(newspaper_array,sales_array)\n",
    "]"
   ]
  },
  {
   "cell_type": "code",
   "execution_count": 60,
   "metadata": {},
   "outputs": [
    {
     "data": {
      "text/html": [
       "<div>\n",
       "<style scoped>\n",
       "    .dataframe tbody tr th:only-of-type {\n",
       "        vertical-align: middle;\n",
       "    }\n",
       "\n",
       "    .dataframe tbody tr th {\n",
       "        vertical-align: top;\n",
       "    }\n",
       "\n",
       "    .dataframe thead th {\n",
       "        text-align: right;\n",
       "    }\n",
       "</style>\n",
       "<table border=\"1\" class=\"dataframe\">\n",
       "  <thead>\n",
       "    <tr style=\"text-align: right;\">\n",
       "      <th></th>\n",
       "      <th>TV</th>\n",
       "      <th>Radio</th>\n",
       "      <th>Newspaper</th>\n",
       "    </tr>\n",
       "  </thead>\n",
       "  <tbody>\n",
       "    <tr>\n",
       "      <th>Intercept</th>\n",
       "      <td>7.032594</td>\n",
       "      <td>9.311638</td>\n",
       "      <td>12.351407</td>\n",
       "    </tr>\n",
       "    <tr>\n",
       "      <th>Coefficient</th>\n",
       "      <td>0.047537</td>\n",
       "      <td>0.202496</td>\n",
       "      <td>0.054693</td>\n",
       "    </tr>\n",
       "    <tr>\n",
       "      <th>R-Squared</th>\n",
       "      <td>0.611875</td>\n",
       "      <td>0.332032</td>\n",
       "      <td>0.052120</td>\n",
       "    </tr>\n",
       "  </tbody>\n",
       "</table>\n",
       "</div>"
      ],
      "text/plain": [
       "                   TV     Radio  Newspaper\n",
       "Intercept    7.032594  9.311638  12.351407\n",
       "Coefficient  0.047537  0.202496   0.054693\n",
       "R-Squared    0.611875  0.332032   0.052120"
      ]
     },
     "execution_count": 60,
     "metadata": {},
     "output_type": "execute_result"
    }
   ],
   "source": [
    "metric_Df_SLR"
   ]
  },
  {
   "cell_type": "markdown",
   "metadata": {
    "id": "Es84uRdJhs4i"
   },
   "source": [
    "We can see that TV has the highest R-Squared value at 61%."
   ]
  },
  {
   "cell_type": "markdown",
   "metadata": {
    "id": "6x63PBJxhs4i"
   },
   "source": [
    "Visualize the best fit line using a regression plot"
   ]
  },
  {
   "cell_type": "code",
   "execution_count": 61,
   "metadata": {},
   "outputs": [
    {
     "data": {
      "image/png": "[encoded data removed]",
      "text/plain": [
       "<Figure size 640x480 with 1 Axes>"
      ]
     },
     "metadata": {},
     "output_type": "display_data"
    },
    {
     "data": {
      "image/png": "[encoded data removed]",
      "text/plain": [
       "<Figure size 640x480 with 1 Axes>"
      ]
     },
     "metadata": {},
     "output_type": "display_data"
    },
    {
     "data": {
      "image/png": "[encoded data removed]",
      "text/plain": [
       "<Figure size 640x480 with 1 Axes>"
      ]
     },
     "metadata": {},
     "output_type": "display_data"
    }
   ],
   "source": [
    "#scatterplot for each feature\n",
    "plt.scatter(tv_array, sales_array,color='orange')\n",
    "plt.xlabel('TV Ads')\n",
    "plt.ylabel('Sales')\n",
    "plt.plot(tv_array, tv_model.predict(tv_array), color='blue', linewidth=3)\n",
    "plt.show()\n",
    "\n",
    "plt.scatter(newspaper_array, sales_array, color='orange')\n",
    "plt.xlabel('TV Ads')\n",
    "plt.ylabel('Sales')\n",
    "plt.plot(newspaper_array, newspaper_model.predict(newspaper_array), color='blue', linewidth=3)\n",
    "plt.show()\n",
    "\n",
    "plt.scatter(radio_array, sales_array,  color='orange')\n",
    "plt.xlabel('TV Ads')\n",
    "plt.ylabel('Sales')\n",
    "plt.plot(radio_array, tv_model.predict(radio_array), color='blue', linewidth=3)\n",
    "plt.show()"
   ]
  },
  {
   "cell_type": "markdown",
   "metadata": {},
   "source": [
    "We can see that TV Ads shows the strongest correlation to Sales and linear regression model fitting to majority of data points."
   ]
  },
  {
   "cell_type": "markdown",
   "metadata": {
    "id": "drlo5QI2h2oY"
   },
   "source": [
    "We can also visualize the confidence bands for the simple linear regression model for each feature."
   ]
  },
  {
   "cell_type": "code",
   "execution_count": 62,
   "metadata": {
    "colab": {
     "base_uri": "https://localhost:8080/",
     "height": 1000
    },
    "id": "daxXRhFiip3e",
    "outputId": "97113a83-dc13-4b6f-c95d-7158305f0016"
   },
   "outputs": [
    {
     "data": {
      "text/plain": [
       "<seaborn.axisgrid.FacetGrid at 0x312db3e90>"
      ]
     },
     "execution_count": 62,
     "metadata": {},
     "output_type": "execute_result"
    },
    {
     "data": {
      "image/png": "[encoded data removed]",
      "text/plain": [
       "<Figure size 500x500 with 1 Axes>"
      ]
     },
     "metadata": {},
     "output_type": "display_data"
    },
    {
     "data": {
      "image/png": "[encoded data removed]",
      "text/plain": [
       "<Figure size 500x500 with 1 Axes>"
      ]
     },
     "metadata": {},
     "output_type": "display_data"
    },
    {
     "data": {
      "image/png": "[encoded data removed]",
      "text/plain": [
       "<Figure size 500x500 with 1 Axes>"
      ]
     },
     "metadata": {},
     "output_type": "display_data"
    }
   ],
   "source": [
    "import seaborn as sns\n",
    "sns.lmplot(x = 'TV', y = 'Sales', data = data)\n",
    "sns.lmplot(x = 'Radio', y = 'Sales', data = data)\n",
    "sns.lmplot(x = 'Newspaper', y = 'Sales', data = data)"
   ]
  },
  {
   "cell_type": "markdown",
   "metadata": {
    "id": "QxiuPBWPQnKm"
   },
   "source": [
    "## Multiple Linear Regression\n",
    "\n",
    "- Let us now consider combinations of features in a multiple linear regression model."
   ]
  },
  {
   "cell_type": "code",
   "execution_count": 64,
   "metadata": {
    "colab": {
     "base_uri": "https://localhost:8080/"
    },
    "id": "p0XdOsasQ_uq",
    "outputId": "1e84b03f-b378-45d7-9dc5-eaf412a0d233"
   },
   "outputs": [
    {
     "data": {
      "text/html": [
       "<style>#sk-container-id-3 {\n",
       "  /* Definition of color scheme common for light and dark mode */\n",
       "  --sklearn-color-text: black;\n",
       "  --sklearn-color-line: gray;\n",
       "  /* Definition of color scheme for unfitted estimators */\n",
       "  --sklearn-color-unfitted-level-0: #fff5e6;\n",
       "  --sklearn-color-unfitted-level-1: #f6e4d2;\n",
       "  --sklearn-color-unfitted-level-2: #ffe0b3;\n",
       "  --sklearn-color-unfitted-level-3: chocolate;\n",
       "  /* Definition of color scheme for fitted estimators */\n",
       "  --sklearn-color-fitted-level-0: #f0f8ff;\n",
       "  --sklearn-color-fitted-level-1: #d4ebff;\n",
       "  --sklearn-color-fitted-level-2: #b3dbfd;\n",
       "  --sklearn-color-fitted-level-3: cornflowerblue;\n",
       "\n",
       "  /* Specific color for light theme */\n",
       "  --sklearn-color-text-on-default-background: var(--sg-text-color, var(--theme-code-foreground, var(--jp-content-font-color1, black)));\n",
       "  --sklearn-color-background: var(--sg-background-color, var(--theme-background, var(--jp-layout-color0, white)));\n",
       "  --sklearn-color-border-box: var(--sg-text-color, var(--theme-code-foreground, var(--jp-content-font-color1, black)));\n",
       "  --sklearn-color-icon: #696969;\n",
       "\n",
       "  @media (prefers-color-scheme: dark) {\n",
       "    /* Redefinition of color scheme for dark theme */\n",
       "    --sklearn-color-text-on-default-background: var(--sg-text-color, var(--theme-code-foreground, var(--jp-content-font-color1, white)));\n",
       "    --sklearn-color-background: var(--sg-background-color, var(--theme-background, var(--jp-layout-color0, #111)));\n",
       "    --sklearn-color-border-box: var(--sg-text-color, var(--theme-code-foreground, var(--jp-content-font-color1, white)));\n",
       "    --sklearn-color-icon: #878787;\n",
       "  }\n",
       "}\n",
       "\n",
       "#sk-container-id-3 {\n",
       "  color: var(--sklearn-color-text);\n",
       "}\n",
       "\n",
       "#sk-container-id-3 pre {\n",
       "  padding: 0;\n",
       "}\n",
       "\n",
       "#sk-container-id-3 input.sk-hidden--visually {\n",
       "  border: 0;\n",
       "  clip: rect(1px 1px 1px 1px);\n",
       "  clip: rect(1px, 1px, 1px, 1px);\n",
       "  height: 1px;\n",
       "  margin: -1px;\n",
       "  overflow: hidden;\n",
       "  padding: 0;\n",
       "  position: absolute;\n",
       "  width: 1px;\n",
       "}\n",
       "\n",
       "#sk-container-id-3 div.sk-dashed-wrapped {\n",
       "  border: 1px dashed var(--sklearn-color-line);\n",
       "  margin: 0 0.4em 0.5em 0.4em;\n",
       "  box-sizing: border-box;\n",
       "  padding-bottom: 0.4em;\n",
       "  background-color: var(--sklearn-color-background);\n",
       "}\n",
       "\n",
       "#sk-container-id-3 div.sk-container {\n",
       "  /* jupyter's `normalize.less` sets `[hidden] { display: none; }`\n",
       "     but bootstrap.min.css set `[hidden] { display: none !important; }`\n",
       "     so we also need the `!important` here to be able to override the\n",
       "     default hidden behavior on the sphinx rendered scikit-learn.org.\n",
       "     See: https://github.com/scikit-learn/scikit-learn/issues/21755 */\n",
       "  display: inline-block !important;\n",
       "  position: relative;\n",
       "}\n",
       "\n",
       "#sk-container-id-3 div.sk-text-repr-fallback {\n",
       "  display: none;\n",
       "}\n",
       "\n",
       "div.sk-parallel-item,\n",
       "div.sk-serial,\n",
       "div.sk-item {\n",
       "  /* draw centered vertical line to link estimators */\n",
       "  background-image: linear-gradient(var(--sklearn-color-text-on-default-background), var(--sklearn-color-text-on-default-background));\n",
       "  background-size: 2px 100%;\n",
       "  background-repeat: no-repeat;\n",
       "  background-position: center center;\n",
       "}\n",
       "\n",
       "/* Parallel-specific style estimator block */\n",
       "\n",
       "#sk-container-id-3 div.sk-parallel-item::after {\n",
       "  content: \"\";\n",
       "  width: 100%;\n",
       "  border-bottom: 2px solid var(--sklearn-color-text-on-default-background);\n",
       "  flex-grow: 1;\n",
       "}\n",
       "\n",
       "#sk-container-id-3 div.sk-parallel {\n",
       "  display: flex;\n",
       "  align-items: stretch;\n",
       "  justify-content: center;\n",
       "  background-color: var(--sklearn-color-background);\n",
       "  position: relative;\n",
       "}\n",
       "\n",
       "#sk-container-id-3 div.sk-parallel-item {\n",
       "  display: flex;\n",
       "  flex-direction: column;\n",
       "}\n",
       "\n",
       "#sk-container-id-3 div.sk-parallel-item:first-child::after {\n",
       "  align-self: flex-end;\n",
       "  width: 50%;\n",
       "}\n",
       "\n",
       "#sk-container-id-3 div.sk-parallel-item:last-child::after {\n",
       "  align-self: flex-start;\n",
       "  width: 50%;\n",
       "}\n",
       "\n",
       "#sk-container-id-3 div.sk-parallel-item:only-child::after {\n",
       "  width: 0;\n",
       "}\n",
       "\n",
       "/* Serial-specific style estimator block */\n",
       "\n",
       "#sk-container-id-3 div.sk-serial {\n",
       "  display: flex;\n",
       "  flex-direction: column;\n",
       "  align-items: center;\n",
       "  background-color: var(--sklearn-color-background);\n",
       "  padding-right: 1em;\n",
       "  padding-left: 1em;\n",
       "}\n",
       "\n",
       "\n",
       "/* Toggleable style: style used for estimator/Pipeline/ColumnTransformer box that is\n",
       "clickable and can be expanded/collapsed.\n",
       "- Pipeline and ColumnTransformer use this feature and define the default style\n",
       "- Estimators will overwrite some part of the style using the `sk-estimator` class\n",
       "*/\n",
       "\n",
       "/* Pipeline and ColumnTransformer style (default) */\n",
       "\n",
       "#sk-container-id-3 div.sk-toggleable {\n",
       "  /* Default theme specific background. It is overwritten whether we have a\n",
       "  specific estimator or a Pipeline/ColumnTransformer */\n",
       "  background-color: var(--sklearn-color-background);\n",
       "}\n",
       "\n",
       "/* Toggleable label */\n",
       "#sk-container-id-3 label.sk-toggleable__label {\n",
       "  cursor: pointer;\n",
       "  display: block;\n",
       "  width: 100%;\n",
       "  margin-bottom: 0;\n",
       "  padding: 0.5em;\n",
       "  box-sizing: border-box;\n",
       "  text-align: center;\n",
       "}\n",
       "\n",
       "#sk-container-id-3 label.sk-toggleable__label-arrow:before {\n",
       "  /* Arrow on the left of the label */\n",
       "  content: \"▸\";\n",
       "  float: left;\n",
       "  margin-right: 0.25em;\n",
       "  color: var(--sklearn-color-icon);\n",
       "}\n",
       "\n",
       "#sk-container-id-3 label.sk-toggleable__label-arrow:hover:before {\n",
       "  color: var(--sklearn-color-text);\n",
       "}\n",
       "\n",
       "/* Toggleable content - dropdown */\n",
       "\n",
       "#sk-container-id-3 div.sk-toggleable__content {\n",
       "  max-height: 0;\n",
       "  max-width: 0;\n",
       "  overflow: hidden;\n",
       "  text-align: left;\n",
       "  /* unfitted */\n",
       "  background-color: var(--sklearn-color-unfitted-level-0);\n",
       "}\n",
       "\n",
       "#sk-container-id-3 div.sk-toggleable__content.fitted {\n",
       "  /* fitted */\n",
       "  background-color: var(--sklearn-color-fitted-level-0);\n",
       "}\n",
       "\n",
       "#sk-container-id-3 div.sk-toggleable__content pre {\n",
       "  margin: 0.2em;\n",
       "  border-radius: 0.25em;\n",
       "  color: var(--sklearn-color-text);\n",
       "  /* unfitted */\n",
       "  background-color: var(--sklearn-color-unfitted-level-0);\n",
       "}\n",
       "\n",
       "#sk-container-id-3 div.sk-toggleable__content.fitted pre {\n",
       "  /* unfitted */\n",
       "  background-color: var(--sklearn-color-fitted-level-0);\n",
       "}\n",
       "\n",
       "#sk-container-id-3 input.sk-toggleable__control:checked~div.sk-toggleable__content {\n",
       "  /* Expand drop-down */\n",
       "  max-height: 200px;\n",
       "  max-width: 100%;\n",
       "  overflow: auto;\n",
       "}\n",
       "\n",
       "#sk-container-id-3 input.sk-toggleable__control:checked~label.sk-toggleable__label-arrow:before {\n",
       "  content: \"▾\";\n",
       "}\n",
       "\n",
       "/* Pipeline/ColumnTransformer-specific style */\n",
       "\n",
       "#sk-container-id-3 div.sk-label input.sk-toggleable__control:checked~label.sk-toggleable__label {\n",
       "  color: var(--sklearn-color-text);\n",
       "  background-color: var(--sklearn-color-unfitted-level-2);\n",
       "}\n",
       "\n",
       "#sk-container-id-3 div.sk-label.fitted input.sk-toggleable__control:checked~label.sk-toggleable__label {\n",
       "  background-color: var(--sklearn-color-fitted-level-2);\n",
       "}\n",
       "\n",
       "/* Estimator-specific style */\n",
       "\n",
       "/* Colorize estimator box */\n",
       "#sk-container-id-3 div.sk-estimator input.sk-toggleable__control:checked~label.sk-toggleable__label {\n",
       "  /* unfitted */\n",
       "  background-color: var(--sklearn-color-unfitted-level-2);\n",
       "}\n",
       "\n",
       "#sk-container-id-3 div.sk-estimator.fitted input.sk-toggleable__control:checked~label.sk-toggleable__label {\n",
       "  /* fitted */\n",
       "  background-color: var(--sklearn-color-fitted-level-2);\n",
       "}\n",
       "\n",
       "#sk-container-id-3 div.sk-label label.sk-toggleable__label,\n",
       "#sk-container-id-3 div.sk-label label {\n",
       "  /* The background is the default theme color */\n",
       "  color: var(--sklearn-color-text-on-default-background);\n",
       "}\n",
       "\n",
       "/* On hover, darken the color of the background */\n",
       "#sk-container-id-3 div.sk-label:hover label.sk-toggleable__label {\n",
       "  color: var(--sklearn-color-text);\n",
       "  background-color: var(--sklearn-color-unfitted-level-2);\n",
       "}\n",
       "\n",
       "/* Label box, darken color on hover, fitted */\n",
       "#sk-container-id-3 div.sk-label.fitted:hover label.sk-toggleable__label.fitted {\n",
       "  color: var(--sklearn-color-text);\n",
       "  background-color: var(--sklearn-color-fitted-level-2);\n",
       "}\n",
       "\n",
       "/* Estimator label */\n",
       "\n",
       "#sk-container-id-3 div.sk-label label {\n",
       "  font-family: monospace;\n",
       "  font-weight: bold;\n",
       "  display: inline-block;\n",
       "  line-height: 1.2em;\n",
       "}\n",
       "\n",
       "#sk-container-id-3 div.sk-label-container {\n",
       "  text-align: center;\n",
       "}\n",
       "\n",
       "/* Estimator-specific */\n",
       "#sk-container-id-3 div.sk-estimator {\n",
       "  font-family: monospace;\n",
       "  border: 1px dotted var(--sklearn-color-border-box);\n",
       "  border-radius: 0.25em;\n",
       "  box-sizing: border-box;\n",
       "  margin-bottom: 0.5em;\n",
       "  /* unfitted */\n",
       "  background-color: var(--sklearn-color-unfitted-level-0);\n",
       "}\n",
       "\n",
       "#sk-container-id-3 div.sk-estimator.fitted {\n",
       "  /* fitted */\n",
       "  background-color: var(--sklearn-color-fitted-level-0);\n",
       "}\n",
       "\n",
       "/* on hover */\n",
       "#sk-container-id-3 div.sk-estimator:hover {\n",
       "  /* unfitted */\n",
       "  background-color: var(--sklearn-color-unfitted-level-2);\n",
       "}\n",
       "\n",
       "#sk-container-id-3 div.sk-estimator.fitted:hover {\n",
       "  /* fitted */\n",
       "  background-color: var(--sklearn-color-fitted-level-2);\n",
       "}\n",
       "\n",
       "/* Specification for estimator info (e.g. \"i\" and \"?\") */\n",
       "\n",
       "/* Common style for \"i\" and \"?\" */\n",
       "\n",
       ".sk-estimator-doc-link,\n",
       "a:link.sk-estimator-doc-link,\n",
       "a:visited.sk-estimator-doc-link {\n",
       "  float: right;\n",
       "  font-size: smaller;\n",
       "  line-height: 1em;\n",
       "  font-family: monospace;\n",
       "  background-color: var(--sklearn-color-background);\n",
       "  border-radius: 1em;\n",
       "  height: 1em;\n",
       "  width: 1em;\n",
       "  text-decoration: none !important;\n",
       "  margin-left: 1ex;\n",
       "  /* unfitted */\n",
       "  border: var(--sklearn-color-unfitted-level-1) 1pt solid;\n",
       "  color: var(--sklearn-color-unfitted-level-1);\n",
       "}\n",
       "\n",
       ".sk-estimator-doc-link.fitted,\n",
       "a:link.sk-estimator-doc-link.fitted,\n",
       "a:visited.sk-estimator-doc-link.fitted {\n",
       "  /* fitted */\n",
       "  border: var(--sklearn-color-fitted-level-1) 1pt solid;\n",
       "  color: var(--sklearn-color-fitted-level-1);\n",
       "}\n",
       "\n",
       "/* On hover */\n",
       "div.sk-estimator:hover .sk-estimator-doc-link:hover,\n",
       ".sk-estimator-doc-link:hover,\n",
       "div.sk-label-container:hover .sk-estimator-doc-link:hover,\n",
       ".sk-estimator-doc-link:hover {\n",
       "  /* unfitted */\n",
       "  background-color: var(--sklearn-color-unfitted-level-3);\n",
       "  color: var(--sklearn-color-background);\n",
       "  text-decoration: none;\n",
       "}\n",
       "\n",
       "div.sk-estimator.fitted:hover .sk-estimator-doc-link.fitted:hover,\n",
       ".sk-estimator-doc-link.fitted:hover,\n",
       "div.sk-label-container:hover .sk-estimator-doc-link.fitted:hover,\n",
       ".sk-estimator-doc-link.fitted:hover {\n",
       "  /* fitted */\n",
       "  background-color: var(--sklearn-color-fitted-level-3);\n",
       "  color: var(--sklearn-color-background);\n",
       "  text-decoration: none;\n",
       "}\n",
       "\n",
       "/* Span, style for the box shown on hovering the info icon */\n",
       ".sk-estimator-doc-link span {\n",
       "  display: none;\n",
       "  z-index: 9999;\n",
       "  position: relative;\n",
       "  font-weight: normal;\n",
       "  right: .2ex;\n",
       "  padding: .5ex;\n",
       "  margin: .5ex;\n",
       "  width: min-content;\n",
       "  min-width: 20ex;\n",
       "  max-width: 50ex;\n",
       "  color: var(--sklearn-color-text);\n",
       "  box-shadow: 2pt 2pt 4pt #999;\n",
       "  /* unfitted */\n",
       "  background: var(--sklearn-color-unfitted-level-0);\n",
       "  border: .5pt solid var(--sklearn-color-unfitted-level-3);\n",
       "}\n",
       "\n",
       ".sk-estimator-doc-link.fitted span {\n",
       "  /* fitted */\n",
       "  background: var(--sklearn-color-fitted-level-0);\n",
       "  border: var(--sklearn-color-fitted-level-3);\n",
       "}\n",
       "\n",
       ".sk-estimator-doc-link:hover span {\n",
       "  display: block;\n",
       "}\n",
       "\n",
       "/* \"?\"-specific style due to the `<a>` HTML tag */\n",
       "\n",
       "#sk-container-id-3 a.estimator_doc_link {\n",
       "  float: right;\n",
       "  font-size: 1rem;\n",
       "  line-height: 1em;\n",
       "  font-family: monospace;\n",
       "  background-color: var(--sklearn-color-background);\n",
       "  border-radius: 1rem;\n",
       "  height: 1rem;\n",
       "  width: 1rem;\n",
       "  text-decoration: none;\n",
       "  /* unfitted */\n",
       "  color: var(--sklearn-color-unfitted-level-1);\n",
       "  border: var(--sklearn-color-unfitted-level-1) 1pt solid;\n",
       "}\n",
       "\n",
       "#sk-container-id-3 a.estimator_doc_link.fitted {\n",
       "  /* fitted */\n",
       "  border: var(--sklearn-color-fitted-level-1) 1pt solid;\n",
       "  color: var(--sklearn-color-fitted-level-1);\n",
       "}\n",
       "\n",
       "/* On hover */\n",
       "#sk-container-id-3 a.estimator_doc_link:hover {\n",
       "  /* unfitted */\n",
       "  background-color: var(--sklearn-color-unfitted-level-3);\n",
       "  color: var(--sklearn-color-background);\n",
       "  text-decoration: none;\n",
       "}\n",
       "\n",
       "#sk-container-id-3 a.estimator_doc_link.fitted:hover {\n",
       "  /* fitted */\n",
       "  background-color: var(--sklearn-color-fitted-level-3);\n",
       "}\n",
       "</style><div id=\"sk-container-id-3\" class=\"sk-top-container\"><div class=\"sk-text-repr-fallback\"><pre>LinearRegression()</pre><b>In a Jupyter environment, please rerun this cell to show the HTML representation or trust the notebook. <br />On GitHub, the HTML representation is unable to render, please try loading this page with nbviewer.org.</b></div><div class=\"sk-container\" hidden><div class=\"sk-item\"><div class=\"sk-estimator fitted sk-toggleable\"><input class=\"sk-toggleable__control sk-hidden--visually\" id=\"sk-estimator-id-3\" type=\"checkbox\" checked><label for=\"sk-estimator-id-3\" class=\"sk-toggleable__label fitted sk-toggleable__label-arrow fitted\">&nbsp;&nbsp;LinearRegression<a class=\"sk-estimator-doc-link fitted\" rel=\"noreferrer\" target=\"_blank\" href=\"https://scikit-learn.org/1.4/modules/generated/sklearn.linear_model.LinearRegression.html\">?<span>Documentation for LinearRegression</span></a><span class=\"sk-estimator-doc-link fitted\">i<span>Fitted</span></span></label><div class=\"sk-toggleable__content fitted\"><pre>LinearRegression()</pre></div> </div></div></div></div>"
      ],
      "text/plain": [
       "LinearRegression()"
      ]
     },
     "execution_count": 64,
     "metadata": {},
     "output_type": "execute_result"
    }
   ],
   "source": [
    "mlr_model = linear_model.LinearRegression()\n",
    "mlr_model.fit(data[['TV', 'Radio', 'Newspaper']], data['Sales'])"
   ]
  },
  {
   "cell_type": "code",
   "execution_count": 65,
   "metadata": {},
   "outputs": [
    {
     "name": "stdout",
     "output_type": "stream",
     "text": [
      "2.784126314510936\n"
     ]
    }
   ],
   "source": [
    "sales_predicted = mlr_model.predict(data[['TV', 'Radio', 'Newspaper']]) #predicte sales \n",
    "mlr_model_mse = ((sales_predicted - data['Sales'])**2).mean() #calculate MSE\n",
    "print(mlr_model_mse)"
   ]
  },
  {
   "cell_type": "code",
   "execution_count": 66,
   "metadata": {
    "colab": {
     "base_uri": "https://localhost:8080/"
    },
    "id": "yXJ6F7b5OqPI",
    "outputId": "86c85dea-76e6-4860-e13f-f315c9407c2d"
   },
   "outputs": [
    {
     "data": {
      "text/plain": [
       "0.8972106381789522"
      ]
     },
     "execution_count": 66,
     "metadata": {},
     "output_type": "execute_result"
    }
   ],
   "source": [
    "mlr_model.score(data[['TV', 'Radio', 'Newspaper']], data['Sales'])"
   ]
  },
  {
   "cell_type": "markdown",
   "metadata": {
    "id": "qsZJ-jimhs4k"
   },
   "source": [
    "The R-rsquared value for the multiple linear regression model is 89.7%, which is a significant score improvement over the simple linear regression models where the highest is 61%."
   ]
  },
  {
   "cell_type": "code",
   "execution_count": 67,
   "metadata": {
    "colab": {
     "base_uri": "https://localhost:8080/"
    },
    "id": "qjFCh7tkWf0M",
    "outputId": "5dbf05c8-631e-4d00-9b19-743ba7e18954"
   },
   "outputs": [
    {
     "name": "stdout",
     "output_type": "stream",
     "text": [
      "                            OLS Regression Results                            \n",
      "==============================================================================\n",
      "Dep. Variable:                  Sales   R-squared:                       0.897\n",
      "Model:                            OLS   Adj. R-squared:                  0.896\n",
      "Method:                 Least Squares   F-statistic:                     570.3\n",
      "Date:                Wed, 26 Feb 2025   Prob (F-statistic):           1.58e-96\n",
      "Time:                        14:43:10   Log-Likelihood:                -386.18\n",
      "No. Observations:                 200   AIC:                             780.4\n",
      "Df Residuals:                     196   BIC:                             793.6\n",
      "Df Model:                           3                                         \n",
      "Covariance Type:            nonrobust                                         \n",
      "==============================================================================\n",
      "                 coef    std err          t      P>|t|      [0.025      0.975]\n",
      "------------------------------------------------------------------------------\n",
      "Intercept      2.9389      0.312      9.422      0.000       2.324       3.554\n",
      "TV             0.0458      0.001     32.809      0.000       0.043       0.049\n",
      "Radio          0.1885      0.009     21.893      0.000       0.172       0.206\n",
      "Newspaper     -0.0010      0.006     -0.177      0.860      -0.013       0.011\n",
      "==============================================================================\n",
      "Omnibus:                       60.414   Durbin-Watson:                   2.084\n",
      "Prob(Omnibus):                  0.000   Jarque-Bera (JB):              151.241\n",
      "Skew:                          -1.327   Prob(JB):                     1.44e-33\n",
      "Kurtosis:                       6.332   Cond. No.                         454.\n",
      "==============================================================================\n",
      "\n",
      "Notes:\n",
      "[1] Standard Errors assume that the covariance matrix of the errors is correctly specified.\n"
     ]
    }
   ],
   "source": [
    "# Use statsmodel to get a more detailed model interpretation\n",
    "lm1 = smf.ols(formula= 'Sales ~ TV+Radio+Newspaper', data = data).fit()\n",
    "lm1.params\n",
    "print(lm1.summary()) #print the results of the multiple linear regression model"
   ]
  },
  {
   "cell_type": "code",
   "execution_count": 68,
   "metadata": {
    "colab": {
     "base_uri": "https://localhost:8080/"
    },
    "id": "w2aGVrtKnY7G",
    "outputId": "52b420f6-4dd9-427d-d7f6-b3768e289483"
   },
   "outputs": [
    {
     "name": "stdout",
     "output_type": "stream",
     "text": [
      "Error Covariance Matrix:\n",
      "           Intercept            TV         Radio     Newspaper\n",
      "Intercept   0.097287 -2.657273e-04 -1.115489e-03 -5.910212e-04\n",
      "TV         -0.000266  1.945737e-06 -4.470395e-07 -3.265950e-07\n",
      "Radio      -0.001115 -4.470395e-07  7.415335e-05 -1.780062e-05\n",
      "Newspaper  -0.000591 -3.265950e-07 -1.780062e-05  3.446875e-05\n"
     ]
    }
   ],
   "source": [
    "print(\"Error Covariance Matrix:\")\n",
    "print(lm1.cov_params())"
   ]
  },
  {
   "cell_type": "markdown",
   "metadata": {},
   "source": [
    "We see there is not really a strong covariance among the features which are all negative."
   ]
  },
  {
   "cell_type": "markdown",
   "metadata": {
    "id": "GGCcusUsz_Az"
   },
   "source": [
    "# Model Evaluation: Cross Validation and Bootstrapping\n",
    "\n",
    "- We can omit newspapers from the list of significant features due to high p-value.\n",
    "- Let us now run the regression analysis adding a multiplicative feature in it (TV and Radio)."
   ]
  },
  {
   "cell_type": "code",
   "execution_count": 69,
   "metadata": {
    "id": "zTSASn2az9-B"
   },
   "outputs": [],
   "source": [
    "data['TVandRadio'] = data['TV'] * data['Radio']"
   ]
  },
  {
   "cell_type": "code",
   "execution_count": 103,
   "metadata": {
    "colab": {
     "base_uri": "https://localhost:8080/"
    },
    "id": "rz8DKNiF2QxK",
    "outputId": "03de5d64-01ed-4699-bb1f-8830b5247928"
   },
   "outputs": [
    {
     "name": "stdout",
     "output_type": "stream",
     "text": [
      "                            OLS Regression Results                            \n",
      "==============================================================================\n",
      "Dep. Variable:                  Sales   R-squared:                       0.968\n",
      "Model:                            OLS   Adj. R-squared:                  0.967\n",
      "Method:                 Least Squares   F-statistic:                     1963.\n",
      "Date:                Wed, 26 Feb 2025   Prob (F-statistic):          6.68e-146\n",
      "Time:                        15:14:58   Log-Likelihood:                -270.14\n",
      "No. Observations:                 200   AIC:                             548.3\n",
      "Df Residuals:                     196   BIC:                             561.5\n",
      "Df Model:                           3                                         \n",
      "Covariance Type:            nonrobust                                         \n",
      "==============================================================================\n",
      "                 coef    std err          t      P>|t|      [0.025      0.975]\n",
      "------------------------------------------------------------------------------\n",
      "Intercept      6.7502      0.248     27.233      0.000       6.261       7.239\n",
      "TV             0.0191      0.002     12.699      0.000       0.016       0.022\n",
      "Radio          0.0289      0.009      3.241      0.001       0.011       0.046\n",
      "TVandRadio     0.0011   5.24e-05     20.727      0.000       0.001       0.001\n",
      "==============================================================================\n",
      "Omnibus:                      128.132   Durbin-Watson:                   2.224\n",
      "Prob(Omnibus):                  0.000   Jarque-Bera (JB):             1183.719\n",
      "Skew:                          -2.323   Prob(JB):                    9.09e-258\n",
      "Kurtosis:                      13.975   Cond. No.                     1.80e+04\n",
      "==============================================================================\n",
      "\n",
      "Notes:\n",
      "[1] Standard Errors assume that the covariance matrix of the errors is correctly specified.\n",
      "[2] The condition number is large, 1.8e+04. This might indicate that there are\n",
      "strong multicollinearity or other numerical problems.\n"
     ]
    }
   ],
   "source": [
    "# Run the regression analysis including the multiplicative feature\n",
    "lm2 = smf.ols(formula= 'Sales ~ TV+Radio+TVandRadio', data = data).fit()\n",
    "lm2.params\n",
    "print(lm2.summary())  #Inferential statistics"
   ]
  },
  {
   "cell_type": "markdown",
   "metadata": {
    "id": "NslaNwMQFjL1"
   },
   "source": [
    "**Observations**\n",
    "- The model score improved to 96.8% using the new feature set. We can apply this model to predict on unseen data and evaluate performance."
   ]
  },
  {
   "cell_type": "markdown",
   "metadata": {
    "id": "d46mQv0BUKZ8"
   },
   "source": [
    "## Performance assessment, testing and validation"
   ]
  },
  {
   "cell_type": "markdown",
   "metadata": {
    "id": "-EAcqssG3pr0",
    "jp-MarkdownHeadingCollapsed": true
   },
   "source": [
    "### Train, Test, and Validation set\n",
    "- We will split data into three sets, one to train the model, one to validate the model performance (not seen during training) and make improvements, and the last to test the model."
   ]
  },
  {
   "cell_type": "code",
   "execution_count": 72,
   "metadata": {
    "id": "uQTTvaQ_3C6D"
   },
   "outputs": [],
   "source": [
    "from sklearn.model_selection import train_test_split"
   ]
  },
  {
   "cell_type": "code",
   "execution_count": 75,
   "metadata": {
    "id": "RRerX1zyDUlM"
   },
   "outputs": [],
   "source": [
    "features_base = [i for i in data.columns if i not in (\"Sales\" , \"TVandRadio\")]\n",
    "features_added = [i for i in data.columns if i not in \"Sales\"]\n",
    "target  = 'Sales'"
   ]
  },
  {
   "cell_type": "code",
   "execution_count": 81,
   "metadata": {},
   "outputs": [
    {
     "name": "stdout",
     "output_type": "stream",
     "text": [
      "['TV', 'Radio', 'Newspaper']\n",
      "['TV', 'Radio', 'Newspaper', 'TVandRadio']\n"
     ]
    }
   ],
   "source": [
    "print(features_base)\n",
    "print(features_added)"
   ]
  },
  {
   "cell_type": "code",
   "execution_count": 76,
   "metadata": {
    "id": "ztuTrjlsDUq0"
   },
   "outputs": [],
   "source": [
    "#create train and test split\n",
    "train, test = train_test_split(data, test_size = 0.10, train_size = 0.9)\n",
    "#split the train into a train and validation group\n",
    "train, validation = train_test_split(train, test_size = 0.2, train_size = 0.80)"
   ]
  },
  {
   "cell_type": "code",
   "execution_count": 77,
   "metadata": {
    "colab": {
     "base_uri": "https://localhost:8080/"
    },
    "id": "jgm44JjJDUtK",
    "outputId": "70e21eef-268e-4057-edaf-9ccad11bfb3c"
   },
   "outputs": [
    {
     "name": "stdout",
     "output_type": "stream",
     "text": [
      "(144, 5) (36, 5) (20, 5)\n"
     ]
    }
   ],
   "source": [
    "print(train.shape, validation.shape, test.shape)"
   ]
  },
  {
   "cell_type": "code",
   "execution_count": 89,
   "metadata": {
    "colab": {
     "base_uri": "https://localhost:8080/"
    },
    "id": "BCsbEBPoDUwm",
    "outputId": "c0379528-f2c5-4266-d184-084272c7c1a2"
   },
   "outputs": [
    {
     "name": "stdout",
     "output_type": "stream",
     "text": [
      "Training Set Metrics\n",
      "R-Squared: 0.8948803514586078\n",
      "MSE:  2.873816624277334 \n",
      "\n",
      "Validation Set Metrics\n",
      "R-Squared: 0.9031700174468006\n",
      "MSE:  2.384480160488453\n"
     ]
    }
   ],
   "source": [
    "# model on the base features\n",
    "mlr = LinearRegression()\n",
    "mlr.fit(train[features_base], train[target])\n",
    "\n",
    "print(\"Training Set Metrics\")\n",
    "print(\"R-Squared:\", mlr.score(train[features_base], train[target]))\n",
    "mse_train = ((train[target] - mlr.predict(train[features_base]))**2).mean()\n",
    "print('MSE: ', mse_train, \"\\n\")\n",
    "print(\"Validation Set Metrics\")\n",
    "print(\"R-Squared:\", mlr.score(validation[features_base], validation[target]))\n",
    "mse_val = ((validation[target] - mlr.predict(validation[features_base]))**2).mean()\n",
    "print('MSE: ', mse_val)"
   ]
  },
  {
   "cell_type": "code",
   "execution_count": 90,
   "metadata": {
    "colab": {
     "base_uri": "https://localhost:8080/"
    },
    "id": "BhMVT0OoI-ZR",
    "outputId": "04a4abfe-d2f9-46f0-87f7-721e493f15d1"
   },
   "outputs": [
    {
     "name": "stdout",
     "output_type": "stream",
     "text": [
      "Training Set Metrics\n",
      "R-Squared: 0.9649985142261059\n",
      "MSE:  0.9568891552354791 \n",
      "\n",
      "Validation Set Metrics\n",
      "R-Squared: 0.9756735316304324\n",
      "MSE:  0.5990497950375535\n"
     ]
    }
   ],
   "source": [
    "# model on the added feature\n",
    "mlr_added_feature = LinearRegression()\n",
    "mlr_added_feature.fit(train[features_added], train[target])\n",
    "\n",
    "print(\"Training Set Metrics\")\n",
    "print(\"R-Squared:\", mlr_added_feature.score(train[features_added], train[target]))\n",
    "mse_train = ((train[target] - mlr_added_feature.predict(train[features_added]))**2).mean()\n",
    "print('MSE: ', mse_train, \"\\n\")\n",
    "print(\"Validation Set Metrics\")\n",
    "print(\"R-Squared:\", mlr_added_feature.score(validation[features_added], validation[target]))\n",
    "mse_val = ((validation[target] - mlr_added_feature.predict(validation[features_added]))**2).mean()\n",
    "print('MSE: ', mse_val)"
   ]
  },
  {
   "cell_type": "markdown",
   "metadata": {
    "id": "b6lpvtsONOad"
   },
   "source": [
    "**Observations**\n",
    "- We found the R-squared increased as we would expect after adding a feature. Also the error decreased. As a next step we can fit a regularized model. Regularization improves the conditioning of the problem and reduces the variance of the estimates."
   ]
  },
  {
   "cell_type": "markdown",
   "metadata": {},
   "source": [
    "## Regularization "
   ]
  },
  {
   "cell_type": "code",
   "execution_count": 93,
   "metadata": {
    "colab": {
     "base_uri": "https://localhost:8080/"
    },
    "id": "aZoBlRnCKge6",
    "outputId": "35c9fbe9-98eb-45c0-c2a7-6b4a528cd5c7"
   },
   "outputs": [
    {
     "name": "stdout",
     "output_type": "stream",
     "text": [
      "Training Set Metrics\n",
      "R-Squared: 0.964998514197946\n",
      "MSE:  0.9568891560053299 \n",
      "\n",
      "Validation Set Metrics\n",
      "R-Squared: 0.9756736157684426\n",
      "MSE:  0.5990477231026964\n"
     ]
    }
   ],
   "source": [
    "#apply ridge regression as regularized linear model\n",
    "ridge = Ridge()\n",
    "ridge.fit(train[features_added], train[target])\n",
    "\n",
    "print(\"Training Set Metrics\")\n",
    "print(\"R-Squared:\", ridge.score(train[features_added], train[target]))\n",
    "mse_train = ((train[target] - ridge.predict(train[features_added]))**2).mean()\n",
    "print('MSE: ', mse_train, \"\\n\")\n",
    "print(\"Validation Set Metrics\")\n",
    "print(\"R-Squared:\", ridge.score(validation[features_added], validation[target]))\n",
    "mse_val = ((validation[target] - ridge.predict(validation[features_added]))**2).mean()\n",
    "print('MSE: ', mse_val)"
   ]
  },
  {
   "cell_type": "code",
   "execution_count": 95,
   "metadata": {
    "colab": {
     "base_uri": "https://localhost:8080/"
    },
    "id": "oL3Px7TORUVN",
    "outputId": "7f4f9f05-2222-4172-b2d7-0c4d470bc211",
    "scrolled": true
   },
   "outputs": [
    {
     "name": "stdout",
     "output_type": "stream",
     "text": [
      "Training Set Metrics\n",
      "R-Squared: 0.9642315553441297\n",
      "MSE:  0.9778566833403003 \n",
      "\n",
      "Validation Set Metrics\n",
      "R-Squared: 0.9755639257435352\n",
      "MSE:  0.6017488873629621\n"
     ]
    }
   ],
   "source": [
    "#apply lasso regression as regularized linear model\n",
    "lasso = Lasso()\n",
    "lasso.fit(train[features_added], train[target])\n",
    "\n",
    "print(\"Training Set Metrics\")\n",
    "print(\"R-Squared:\", lasso.score(train[features_added], train[target]))\n",
    "mse_train = ((train[target] - lasso.predict(train[features_added]))**2).mean()\n",
    "print('MSE: ', mse_train, \"\\n\")\n",
    "print(\"Validation Set Metrics\")\n",
    "print(\"R-Squared:\", lasso.score(validation[features_added], validation[target]))\n",
    "mse_val = ((validation[target] - lasso.predict(validation[features_added]))**2).mean()\n",
    "print('MSE: ', mse_val)"
   ]
  },
  {
   "cell_type": "code",
   "execution_count": 107,
   "metadata": {
    "colab": {
     "base_uri": "https://localhost:8080/"
    },
    "id": "auLl5-cWRhKb",
    "outputId": "547a604e-d1ce-4364-c753-a0860242ec4e"
   },
   "outputs": [
    {
     "name": "stdout",
     "output_type": "stream",
     "text": [
      "Test Set Metrics\n",
      "Rsquared:  0.9696452994534791\n",
      "MSE:  0.8212039267053584\n",
      "Intercept is 6.531082656152065 and Coefficients are [0.01997613 0.02855142 0.00485855 0.00106901]\n"
     ]
    }
   ],
   "source": [
    "#Let us predict on the test dataset using the ridge regression model\n",
    "\n",
    "rsq_test = ridge.score(test[features_added], test[target])\n",
    "mse_test = ((test[target] - ridge.predict(test[features_added]))**2).mean()\n",
    "\n",
    "print(\"Test Set Metrics\")\n",
    "print(\"Rsquared: \", rsq_test)\n",
    "print(\"MSE: \", mse_test)\n",
    "print(\"Intercept is {} and Coefficients are {}\".format(ridge.intercept_, ridge.coef_))"
   ]
  },
  {
   "cell_type": "code",
   "execution_count": 101,
   "metadata": {},
   "outputs": [
    {
     "name": "stdout",
     "output_type": "stream",
     "text": [
      "Test Set Metrics\n",
      "Rsquared:  0.971903284583586\n",
      "MSE:  0.7601173001894977\n",
      "Intercept is 6.997622320576701 and Coefficients are [0.01749238 0.01102368 0.00379873 0.00116613]\n"
     ]
    }
   ],
   "source": [
    "#Let us predict on the test dataset using the lasso regression model\n",
    "\n",
    "lsq_test = lasso.score(test[features_added], test[target])\n",
    "mse_test = ((test[target] - lasso.predict(test[features_added]))**2).mean()\n",
    "\n",
    "print(\"Test Set Metrics\")\n",
    "print(\"Rsquared: \", lsq_test)\n",
    "print(\"MSE: \", mse_test)\n",
    "print(\"Intercept is {} and Coefficients are {}\".format(lasso.intercept_, lasso.coef_))"
   ]
  },
  {
   "cell_type": "markdown",
   "metadata": {
    "id": "SvdZcoUc9r4C"
   },
   "source": [
    "- We will now evaluate the performance by applying cross-validation."
   ]
  },
  {
   "cell_type": "code",
   "execution_count": 113,
   "metadata": {},
   "outputs": [
    {
     "name": "stdout",
     "output_type": "stream",
     "text": [
      "Mean Score:\n",
      "0.9640695779748925 \n",
      "\n",
      "Confidence Interval:\n"
     ]
    },
    {
     "data": {
      "text/plain": [
       "(0.9447780346186297, 0.9833611213311552)"
      ]
     },
     "execution_count": 113,
     "metadata": {},
     "output_type": "execute_result"
    }
   ],
   "source": [
    "lasso_cvs = cross_val_score(lasso, data[features_added], data[target], cv = 10)\n",
    "print(\"Mean Score:\")\n",
    "print(lasso_cvs.mean(), \"\\n\") #take the mean score\n",
    "print(\"Confidence Interval:\")\n",
    "lasso_cvs.mean() - lasso_cvs.std(), lasso_cvs.mean() + lasso_cvs.std() "
   ]
  },
  {
   "cell_type": "code",
   "execution_count": 114,
   "metadata": {},
   "outputs": [
    {
     "name": "stdout",
     "output_type": "stream",
     "text": [
      "Mean Score:\n",
      "0.9649887636257694 \n",
      "\n",
      "Confidence Interval:\n"
     ]
    },
    {
     "data": {
      "text/plain": [
       "(0.9430473456799696, 0.9869301815715691)"
      ]
     },
     "execution_count": 114,
     "metadata": {},
     "output_type": "execute_result"
    }
   ],
   "source": [
    "ridge_cvs = cross_val_score(ridge, data[features_added], data[target], cv = 10)\n",
    "print(\"Mean Score:\")\n",
    "print(ridge_cvs.mean(), \"\\n\") #take the mean score\n",
    "print(\"Confidence Interval:\")\n",
    "ridge_cvs.mean() - ridge_cvs.std(), ridge_cvs.mean() + ridge_cvs.std() "
   ]
  },
  {
   "cell_type": "markdown",
   "metadata": {},
   "source": [
    "**Summary**\n",
    "- The model is able to predict with a high accuracy of 96% on net sales based on the regression model with the created feature and applying regularization."
   ]
  }
 ],
 "metadata": {
  "colab": {
   "collapsed_sections": [],
   "name": "LVC_1_&_2_Practical_Application_Effects_of_Advertising_on_Sales.ipynb",
   "provenance": []
  },
  "kernelspec": {
   "display_name": "Python 3 (ipykernel)",
   "language": "python",
   "name": "python3"
  },
  "language_info": {
   "codemirror_mode": {
    "name": "ipython",
    "version": 3
   },
   "file_extension": ".py",
   "mimetype": "text/x-python",
   "name": "python",
   "nbconvert_exporter": "python",
   "pygments_lexer": "ipython3",
   "version": "3.11.9"
  }
 },
 "nbformat": 4,
 "nbformat_minor": 4
}
